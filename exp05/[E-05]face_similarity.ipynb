{
 "cells": [
  {
   "cell_type": "code",
   "execution_count": 12,
   "id": "industrial-durham",
   "metadata": {},
   "outputs": [],
   "source": [
    "import face_recognition\n",
    "import os\n",
    "\n",
    "def get_cropped_face(image_file):\n",
    "    image = face_recognition.load_image_file(image_file)\n",
    "    face_locations = face_recognition.face_locations(image)\n",
    "    if len(face_locations) > 0:\n",
    "        a, b, c, d = face_locations[0]\n",
    "        cropped_face = image[a:c,d:b,:]\n",
    "    \n",
    "    return cropped_face"
   ]
  },
  {
   "cell_type": "code",
   "execution_count": 3,
   "id": "conscious-anthony",
   "metadata": {},
   "outputs": [],
   "source": [
    "# 얼굴 영역을 가지고 얼굴 임베딩 벡터를 구하는 함수\n",
    "def get_face_embedding(face):\n",
    "    return face_recognition.face_encodings(face)"
   ]
  },
  {
   "cell_type": "code",
   "execution_count": 4,
   "id": "dangerous-costs",
   "metadata": {},
   "outputs": [],
   "source": [
    "def get_face_embedding_dict(dir_path):\n",
    "    file_list = os.listdir(dir_path)\n",
    "    embedding_dict = {}\n",
    "    \n",
    "    for file in file_list:\n",
    "        img = os.path.join(dir_path, file)\n",
    "        face = get_cropped_face(img)\n",
    "        emb = get_face_embedding(face)\n",
    "        if len(emb) > 0 :\n",
    "        \tembedding_dict[os.path.splitext(file)[0]] = emb\n",
    "        \n",
    "    return embedding_dict"
   ]
  },
  {
   "cell_type": "code",
   "execution_count": null,
   "id": "legislative-exposure",
   "metadata": {
    "scrolled": true
   },
   "outputs": [],
   "source": [
    "import os\n",
    "\n",
    "dir_path = os.getenv('HOME')+'/aiffel/E05/data/'\n",
    "\n",
    "embedding_dict = get_face_embedding_dict(dir_path)"
   ]
  },
  {
   "cell_type": "code",
   "execution_count": 5,
   "id": "blind-visitor",
   "metadata": {},
   "outputs": [
    {
     "ename": "NameError",
     "evalue": "name 'image_path' is not defined",
     "output_type": "error",
     "traceback": [
      "\u001b[0;31m---------------------------------------------------------------------------\u001b[0m",
      "\u001b[0;31mNameError\u001b[0m                                 Traceback (most recent call last)",
      "\u001b[0;32m<ipython-input-5-3efb203d3672>\u001b[0m in \u001b[0;36m<module>\u001b[0;34m\u001b[0m\n\u001b[1;32m      1\u001b[0m \u001b[0;32mfrom\u001b[0m \u001b[0mPIL\u001b[0m \u001b[0;32mimport\u001b[0m \u001b[0mImage\u001b[0m\u001b[0;34m\u001b[0m\u001b[0;34m\u001b[0m\u001b[0m\n\u001b[0;32m----> 2\u001b[0;31m \u001b[0mface\u001b[0m \u001b[0;34m=\u001b[0m \u001b[0mget_cropped_face\u001b[0m\u001b[0;34m(\u001b[0m\u001b[0mimage_path\u001b[0m\u001b[0;34m)\u001b[0m\u001b[0;34m\u001b[0m\u001b[0;34m\u001b[0m\u001b[0m\n\u001b[0m\u001b[1;32m      3\u001b[0m \u001b[0mpillow_image\u001b[0m \u001b[0;34m=\u001b[0m \u001b[0mImage\u001b[0m\u001b[0;34m.\u001b[0m\u001b[0mfromarray\u001b[0m\u001b[0;34m(\u001b[0m\u001b[0mface\u001b[0m\u001b[0;34m)\u001b[0m\u001b[0;34m\u001b[0m\u001b[0;34m\u001b[0m\u001b[0m\n\u001b[1;32m      4\u001b[0m \u001b[0mpillow_imagesave\u001b[0m\u001b[0;34m(\u001b[0m\u001b[0mpath_to_save\u001b[0m\u001b[0;34m)\u001b[0m\u001b[0;34m\u001b[0m\u001b[0;34m\u001b[0m\u001b[0m\n",
      "\u001b[0;31mNameError\u001b[0m: name 'image_path' is not defined"
     ]
    }
   ],
   "source": [
    "from PIL import Image\n",
    "face = get_cropped_face(image_path)\n",
    "pillow_image = Image.fromarray(face)\n",
    "pillow_image.save(path_to_save)"
   ]
  },
  {
   "cell_type": "code",
   "execution_count": null,
   "id": "moral-rates",
   "metadata": {},
   "outputs": [],
   "source": []
  }
 ],
 "metadata": {
  "kernelspec": {
   "display_name": "Python 3",
   "language": "python",
   "name": "python3"
  },
  "language_info": {
   "codemirror_mode": {
    "name": "ipython",
    "version": 3
   },
   "file_extension": ".py",
   "mimetype": "text/x-python",
   "name": "python",
   "nbconvert_exporter": "python",
   "pygments_lexer": "ipython3",
   "version": "3.7.9"
  }
 },
 "nbformat": 4,
 "nbformat_minor": 5
}
