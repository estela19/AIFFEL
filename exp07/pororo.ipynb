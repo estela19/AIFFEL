{
 "cells": [
  {
   "cell_type": "code",
   "execution_count": 1,
   "metadata": {
    "collapsed": true
   },
   "outputs": [
    {
     "name": "stdout",
     "output_type": "stream",
     "text": [
      "Collecting pororo\r\n",
      "  Downloading pororo-0.4.2-py3-none-any.whl (256 kB)\r\n",
      "\u001B[K     |████████████████████████████████| 256 kB 4.6 MB/s eta 0:00:01\r\n",
      "\u001B[?25hRequirement already satisfied: lxml in /opt/conda/lib/python3.7/site-packages (from pororo) (4.6.2)\r\n",
      "Requirement already satisfied: transformers>=4.0.0 in /opt/conda/lib/python3.7/site-packages (from pororo) (4.2.1)\r\n",
      "Requirement already satisfied: nltk>=3.5 in /opt/conda/lib/python3.7/site-packages (from pororo) (3.5)\r\n",
      "Requirement already satisfied: pillow>=4.1.1 in /opt/conda/lib/python3.7/site-packages (from pororo) (8.1.0)\r\n",
      "Requirement already satisfied: joblib in /opt/conda/lib/python3.7/site-packages (from pororo) (1.0.0)\r\n",
      "Collecting torch==1.6.0\r\n",
      "  Downloading torch-1.6.0-cp37-cp37m-manylinux1_x86_64.whl (748.8 MB)\r\n",
      "\u001B[K     |████████████████████████████████| 748.8 MB 9.2 kB/s  eta 0:00:01    |███▌                            | 80.7 MB 53.8 MB/s eta 0:00:13MB/s eta 0:00:09     |██████████▌                     | 246.1 MB 57.2 MB/s eta 0:00:09\r\n",
      "\u001B[?25hRequirement already satisfied: future in /opt/conda/lib/python3.7/site-packages (from torch==1.6.0->pororo) (0.18.2)\r\n",
      "Requirement already satisfied: numpy in /opt/conda/lib/python3.7/site-packages (from torch==1.6.0->pororo) (1.19.5)\r\n",
      "Collecting torchvision==0.7.0\r\n",
      "  Downloading torchvision-0.7.0-cp37-cp37m-manylinux1_x86_64.whl (5.9 MB)\r\n",
      "\u001B[K     |████████████████████████████████| 5.9 MB 23.5 MB/s eta 0:00:01\r\n",
      "\u001B[?25hCollecting fairseq>=0.10.2\r\n",
      "  Downloading fairseq-0.10.2-cp37-cp37m-manylinux1_x86_64.whl (1.7 MB)\r\n",
      "\u001B[K     |████████████████████████████████| 1.7 MB 45.9 MB/s eta 0:00:01\r\n",
      "\u001B[?25hRequirement already satisfied: tqdm in /opt/conda/lib/python3.7/site-packages (from fairseq>=0.10.2->pororo) (4.56.0)\r\n",
      "Requirement already satisfied: regex in /opt/conda/lib/python3.7/site-packages (from fairseq>=0.10.2->pororo) (2020.11.13)\r\n",
      "Requirement already satisfied: cffi in /opt/conda/lib/python3.7/site-packages (from fairseq>=0.10.2->pororo) (1.14.4)\r\n",
      "Requirement already satisfied: click in /opt/conda/lib/python3.7/site-packages (from nltk>=3.5->pororo) (7.1.2)\r\n",
      "Collecting sacrebleu>=1.4.12\r\n",
      "  Downloading sacrebleu-2.0.0-py3-none-any.whl (90 kB)\r\n",
      "\u001B[K     |████████████████████████████████| 90 kB 18.8 MB/s eta 0:00:01\r\n",
      "\u001B[?25hRequirement already satisfied: colorama in /opt/conda/lib/python3.7/site-packages (from sacrebleu>=1.4.12->fairseq>=0.10.2->pororo) (0.4.4)\r\n",
      "Collecting sentence-transformers>=0.4.1.2\r\n",
      "  Downloading sentence-transformers-2.1.0.tar.gz (78 kB)\r\n",
      "\u001B[K     |████████████████████████████████| 78 kB 12.9 MB/s eta 0:00:01\r\n",
      "\u001B[?25hRequirement already satisfied: scikit-learn in /opt/conda/lib/python3.7/site-packages (from sentence-transformers>=0.4.1.2->pororo) (0.23.0)\r\n",
      "Requirement already satisfied: scipy in /opt/conda/lib/python3.7/site-packages (from sentence-transformers>=0.4.1.2->pororo) (1.4.1)\r\n",
      "Requirement already satisfied: sentencepiece in /opt/conda/lib/python3.7/site-packages (from sentence-transformers>=0.4.1.2->pororo) (0.1.95)\r\n",
      "Collecting tabulate>=0.8.9\r\n",
      "  Downloading tabulate-0.8.9-py3-none-any.whl (25 kB)\r\n",
      "Collecting tokenizers>=0.10.3\r\n",
      "  Downloading tokenizers-0.10.3-cp37-cp37m-manylinux_2_5_x86_64.manylinux1_x86_64.manylinux_2_12_x86_64.manylinux2010_x86_64.whl (3.3 MB)\r\n",
      "\u001B[K     |████████████████████████████████| 3.3 MB 33.2 MB/s eta 0:00:01\r\n",
      "\u001B[?25hCollecting transformers>=4.0.0\r\n",
      "  Downloading transformers-4.11.3-py3-none-any.whl (2.9 MB)\r\n",
      "\u001B[K     |████████████████████████████████| 2.9 MB 53.0 MB/s eta 0:00:01\r\n",
      "\u001B[?25hRequirement already satisfied: requests in /opt/conda/lib/python3.7/site-packages (from transformers>=4.0.0->pororo) (2.25.1)\r\n",
      "Requirement already satisfied: pyyaml>=5.1 in /opt/conda/lib/python3.7/site-packages (from transformers>=4.0.0->pororo) (5.3.1)\r\n",
      "Requirement already satisfied: importlib-metadata in /opt/conda/lib/python3.7/site-packages (from transformers>=4.0.0->pororo) (3.4.0)\r\n",
      "Requirement already satisfied: packaging>=20.0 in /opt/conda/lib/python3.7/site-packages (from transformers>=4.0.0->pororo) (20.8)\r\n",
      "Requirement already satisfied: sacremoses in /opt/conda/lib/python3.7/site-packages (from transformers>=4.0.0->pororo) (0.0.43)\r\n",
      "Requirement already satisfied: filelock in /opt/conda/lib/python3.7/site-packages (from transformers>=4.0.0->pororo) (3.0.12)\r\n",
      "Collecting huggingface-hub\r\n",
      "  Downloading huggingface_hub-0.0.19-py3-none-any.whl (56 kB)\r\n",
      "\u001B[K     |████████████████████████████████| 56 kB 10.7 MB/s eta 0:00:01\r\n",
      "\u001B[?25hRequirement already satisfied: typing-extensions in /opt/conda/lib/python3.7/site-packages (from huggingface-hub->sentence-transformers>=0.4.1.2->pororo) (3.7.4.3)\r\n",
      "Collecting packaging>=20.0\r\n",
      "  Downloading packaging-21.0-py3-none-any.whl (40 kB)\r\n",
      "\u001B[K     |████████████████████████████████| 40 kB 10.6 MB/s eta 0:00:01\r\n",
      "\u001B[?25hRequirement already satisfied: pyparsing>=2.0.2 in /opt/conda/lib/python3.7/site-packages (from packaging>=20.0->transformers>=4.0.0->pororo) (2.4.7)\r\n",
      "Requirement already satisfied: pycparser in /opt/conda/lib/python3.7/site-packages (from cffi->fairseq>=0.10.2->pororo) (2.20)\r\n",
      "Collecting cython\r\n",
      "  Downloading Cython-0.29.24-cp37-cp37m-manylinux1_x86_64.whl (2.0 MB)\r\n",
      "\u001B[K     |████████████████████████████████| 2.0 MB 58.9 MB/s eta 0:00:01\r\n",
      "\u001B[?25hCollecting dataclasses\r\n",
      "  Downloading dataclasses-0.6-py3-none-any.whl (14 kB)\r\n",
      "Collecting g2p-en\r\n",
      "  Downloading g2p_en-2.1.0-py3-none-any.whl (3.1 MB)\r\n",
      "\u001B[K     |████████████████████████████████| 3.1 MB 61.2 MB/s eta 0:00:01\r\n",
      "\u001B[?25hCollecting distance>=0.1.3\r\n",
      "  Downloading Distance-0.1.3.tar.gz (180 kB)\r\n",
      "\u001B[K     |████████████████████████████████| 180 kB 41.1 MB/s eta 0:00:01\r\n",
      "\u001B[?25hCollecting inflect>=0.3.1\r\n",
      "  Downloading inflect-5.3.0-py3-none-any.whl (32 kB)\r\n",
      "Collecting hydra-core\r\n",
      "  Downloading hydra_core-1.1.1-py3-none-any.whl (145 kB)\r\n",
      "\u001B[K     |████████████████████████████████| 145 kB 60.8 MB/s eta 0:00:01\r\n",
      "\u001B[?25hRequirement already satisfied: importlib-resources in /opt/conda/lib/python3.7/site-packages (from hydra-core->fairseq>=0.10.2->pororo) (5.1.0)\r\n",
      "Collecting antlr4-python3-runtime==4.8\r\n",
      "  Downloading antlr4-python3-runtime-4.8.tar.gz (112 kB)\r\n",
      "\u001B[K     |████████████████████████████████| 112 kB 72.4 MB/s eta 0:00:01\r\n",
      "\u001B[?25hCollecting omegaconf==2.1.*\r\n",
      "  Downloading omegaconf-2.1.1-py3-none-any.whl (74 kB)\r\n",
      "\u001B[K     |████████████████████████████████| 74 kB 5.1 MB/s  eta 0:00:01\r\n",
      "\u001B[?25hRequirement already satisfied: zipp>=0.5 in /opt/conda/lib/python3.7/site-packages (from importlib-metadata->transformers>=4.0.0->pororo) (3.4.0)\r\n",
      "Collecting kss\r\n",
      "  Downloading kss-3.2.0.tar.gz (42.4 MB)\r\n",
      "\u001B[K     |████████████████████████████████| 42.4 MB 33.9 MB/s eta 0:00:01\r\n",
      "\u001B[?25hCollecting emoji\r\n",
      "  Downloading emoji-1.6.1.tar.gz (170 kB)\r\n",
      "\u001B[K     |████████████████████████████████| 170 kB 51.6 MB/s eta 0:00:01\r\n",
      "\u001B[?25hCollecting marisa-trie\r\n",
      "  Downloading marisa_trie-0.7.7-cp37-cp37m-manylinux_2_5_x86_64.manylinux1_x86_64.manylinux_2_12_x86_64.manylinux2010_x86_64.whl (1.2 MB)\r\n",
      "\u001B[K     |████████████████████████████████| 1.2 MB 30.8 MB/s eta 0:00:01\r\n",
      "\u001B[?25hRequirement already satisfied: setuptools in /opt/conda/lib/python3.7/site-packages (from marisa-trie->pororo) (49.6.0.post20210108)\r\n",
      "Collecting portalocker\r\n",
      "  Downloading portalocker-2.3.2-py2.py3-none-any.whl (15 kB)\r\n",
      "Requirement already satisfied: certifi>=2017.4.17 in /opt/conda/lib/python3.7/site-packages (from requests->transformers>=4.0.0->pororo) (2020.12.5)\r\n",
      "Requirement already satisfied: urllib3<1.27,>=1.21.1 in /opt/conda/lib/python3.7/site-packages (from requests->transformers>=4.0.0->pororo) (1.26.2)\r\n",
      "Requirement already satisfied: chardet<5,>=3.0.2 in /opt/conda/lib/python3.7/site-packages (from requests->transformers>=4.0.0->pororo) (3.0.4)\r\n",
      "Requirement already satisfied: idna<3,>=2.5 in /opt/conda/lib/python3.7/site-packages (from requests->transformers>=4.0.0->pororo) (2.10)\r\n",
      "Requirement already satisfied: six in /opt/conda/lib/python3.7/site-packages (from sacremoses->transformers>=4.0.0->pororo) (1.15.0)\r\n",
      "Requirement already satisfied: threadpoolctl>=2.0.0 in /opt/conda/lib/python3.7/site-packages (from scikit-learn->sentence-transformers>=0.4.1.2->pororo) (2.1.0)\r\n",
      "Collecting wget\r\n",
      "  Downloading wget-3.2.zip (10 kB)\r\n",
      "Collecting whoosh\r\n",
      "  Downloading Whoosh-2.7.4-py2.py3-none-any.whl (468 kB)\r\n",
      "\u001B[K     |████████████████████████████████| 468 kB 55.9 MB/s eta 0:00:01\r\n",
      "\u001B[?25hCollecting word2word\r\n",
      "  Downloading word2word-1.0.0-py3-none-any.whl (31 kB)\r\n",
      "Building wheels for collected packages: sentence-transformers, distance, antlr4-python3-runtime, kss, emoji, wget\r\n",
      "  Building wheel for sentence-transformers (setup.py) ... \u001B[?25l-\b \b\\\b \b|\b \b/\b \b-\b \b\\\b \bdone\r\n",
      "\u001B[?25h  Created wheel for sentence-transformers: filename=sentence_transformers-2.1.0-py3-none-any.whl size=120999 sha256=15c530bb864408afdfc75fd31de5aba1c7e148419cc1b48e318f141a81532d56\r\n",
      "  Stored in directory: /aiffel/.cache/pip/wheels/90/f0/bb/ed1add84da70092ea526466eadc2bfb197c4bcb8d4fa5f7bad\r\n",
      "  Building wheel for distance (setup.py) ... \u001B[?25l-\b \bdone\r\n",
      "\u001B[?25h  Created wheel for distance: filename=Distance-0.1.3-py3-none-any.whl size=16260 sha256=31cff58eece9122137edd89645ec7481037d94f9fb400e67b9ec6dac6e84e2a5\r\n",
      "  Stored in directory: /aiffel/.cache/pip/wheels/b2/10/1b/96fca621a1be378e2fe104cfb0d160bb6cdf3d04a3d35266cc\r\n",
      "  Building wheel for antlr4-python3-runtime (setup.py) ... \u001B[?25l-\b \b\\\b \b|\b \b/\b \b-\b \b\\\b \bdone\r\n",
      "\u001B[?25h  Created wheel for antlr4-python3-runtime: filename=antlr4_python3_runtime-4.8-py3-none-any.whl size=141230 sha256=e091bba4a590b54964b14980e43da94bca1e8839794c0d28a0a0ff08147f2eda\r\n",
      "  Stored in directory: /aiffel/.cache/pip/wheels/ca/33/b7/336836125fc9bb4ceaa4376d8abca10ca8bc84ddc824baea6c\r\n",
      "  Building wheel for kss (setup.py) ... \u001B[?25l-\b \b\\\b \b|\b \b/\b \b-\b \b\\\b \b|\b \b/\b \b-\b \b\\\b \b|\b \b/\b \b-\b \b\\\b \b|\b \b/\b \b-\b \bdone\r\n",
      "\u001B[?25h  Created wheel for kss: filename=kss-3.2.0-py3-none-any.whl size=42447982 sha256=17a5b44f5353593cf4def5ba8b71e42947b1e4028156efde3e5fac4ad9550070\r\n",
      "  Stored in directory: /aiffel/.cache/pip/wheels/a1/47/9c/a5f83b5ab6096e3c4a33643fc553b26098c23e72b6539b86f4\r\n",
      "  Building wheel for emoji (setup.py) ... \u001B[?25l-\b \bdone\r\n",
      "\u001B[?25h  Created wheel for emoji: filename=emoji-1.6.1-py3-none-any.whl size=169294 sha256=e9f081f44f571e15c67802a30471fff734c026f41f93c6eca0267e404dd01e2b\r\n",
      "  Stored in directory: /aiffel/.cache/pip/wheels/ea/5f/d3/03d313ddb3c2a1a427bb4690f1621eea60fe6f2a30cc95940f\r\n",
      "  Building wheel for wget (setup.py) ... \u001B[?25l-\b \bdone\r\n",
      "\u001B[?25h  Created wheel for wget: filename=wget-3.2-py3-none-any.whl size=9680 sha256=9b032cd9e2705c9243b93299cf981582fa83fc12dd127273376d5827b9d9094a\r\n",
      "  Stored in directory: /aiffel/.cache/pip/wheels/a1/b6/7c/0e63e34eb06634181c63adacca38b79ff8f35c37e3c13e3c02\r\n",
      "Successfully built sentence-transformers distance antlr4-python3-runtime kss emoji wget\r\n",
      "Installing collected packages: packaging, antlr4-python3-runtime, torch, tokenizers, tabulate, portalocker, omegaconf, huggingface-hub, wget, transformers, torchvision, sacrebleu, inflect, hydra-core, emoji, distance, dataclasses, cython, word2word, whoosh, sentence-transformers, marisa-trie, kss, g2p-en, fairseq, pororo\r\n",
      "  Attempting uninstall: packaging\r\n",
      "    Found existing installation: packaging 20.8\r\n",
      "    Uninstalling packaging-20.8:\r\n",
      "      Successfully uninstalled packaging-20.8\r\n",
      "  Attempting uninstall: tokenizers\r\n",
      "    Found existing installation: tokenizers 0.9.4\r\n",
      "    Uninstalling tokenizers-0.9.4:\r\n",
      "      Successfully uninstalled tokenizers-0.9.4\r\n",
      "  Attempting uninstall: transformers\r\n",
      "    Found existing installation: transformers 4.2.1\r\n",
      "    Uninstalling transformers-4.2.1:\r\n",
      "      Successfully uninstalled transformers-4.2.1\r\n",
      "Successfully installed antlr4-python3-runtime-4.8 cython-0.29.24 dataclasses-0.6 distance-0.1.3 emoji-1.6.1 fairseq-0.10.2 g2p-en-2.1.0 huggingface-hub-0.0.19 hydra-core-1.1.1 inflect-5.3.0 kss-3.2.0 marisa-trie-0.7.7 omegaconf-2.1.1 packaging-21.0 pororo-0.4.2 portalocker-2.3.2 sacrebleu-2.0.0 sentence-transformers-2.1.0 tabulate-0.8.9 tokenizers-0.10.3 torch-1.6.0 torchvision-0.7.0 transformers-4.11.3 wget-3.2 whoosh-2.7.4 word2word-1.0.0\r\n",
      "\u001B[33mWARNING: You are using pip version 20.3.3; however, version 21.3 is available.\r\n",
      "You should consider upgrading via the '/opt/conda/bin/python3.7 -m pip install --upgrade pip' command.\u001B[0m\r\n"
     ]
    }
   ],
   "source": [
    "!pip install pororo"
   ]
  },
  {
   "cell_type": "code",
   "execution_count": 3,
   "outputs": [
    {
     "name": "stderr",
     "output_type": "stream",
     "text": [
      "[Korean Sentence Splitter]: Initializing Kss...\n"
     ]
    }
   ],
   "source": [
    "from pororo import Pororo"
   ],
   "metadata": {
    "collapsed": false,
    "pycharm": {
     "name": "#%%\n"
    }
   }
  },
  {
   "cell_type": "code",
   "execution_count": 4,
   "outputs": [
    {
     "name": "stderr",
     "output_type": "stream",
     "text": [
      "\n",
      "\n"
     ]
    }
   ],
   "source": [
    "movie = Pororo(task='sentiment', model='brainbert.base.ko.nsmc', lang='ko')\n"
   ],
   "metadata": {
    "collapsed": false,
    "pycharm": {
     "name": "#%%\n"
    }
   }
  },
  {
   "cell_type": "code",
   "execution_count": 5,
   "outputs": [
    {
     "data": {
      "text/plain": "'Negative'"
     },
     "execution_count": 5,
     "metadata": {},
     "output_type": "execute_result"
    }
   ],
   "source": [
    "movie('뭐야 이 평점들은.... 나쁘진 않지만 10점 짜리는 더더욱 아니잖아')\n"
   ],
   "metadata": {
    "collapsed": false,
    "pycharm": {
     "name": "#%%\n"
    }
   }
  },
  {
   "cell_type": "code",
   "execution_count": 7,
   "outputs": [
    {
     "data": {
      "text/plain": "'Positive'"
     },
     "execution_count": 7,
     "metadata": {},
     "output_type": "execute_result"
    }
   ],
   "source": [
    "movie('비주얼로 설득시키는 대서사시.')\n"
   ],
   "metadata": {
    "collapsed": false,
    "pycharm": {
     "name": "#%%\n"
    }
   }
  },
  {
   "cell_type": "code",
   "execution_count": 8,
   "outputs": [
    {
     "data": {
      "text/plain": "'Positive'"
     },
     "execution_count": 8,
     "metadata": {},
     "output_type": "execute_result"
    }
   ],
   "source": [
    "movie('영상도 내용도 신비롭고 티모시 살라메가 돋보였다.')\n"
   ],
   "metadata": {
    "collapsed": false,
    "pycharm": {
     "name": "#%%\n"
    }
   }
  },
  {
   "cell_type": "code",
   "execution_count": null,
   "outputs": [],
   "source": [],
   "metadata": {
    "collapsed": false,
    "pycharm": {
     "name": "#%%\n"
    }
   }
  }
 ],
 "metadata": {
  "kernelspec": {
   "display_name": "Python 3",
   "language": "python",
   "name": "python3"
  },
  "language_info": {
   "codemirror_mode": {
    "name": "ipython",
    "version": 2
   },
   "file_extension": ".py",
   "mimetype": "text/x-python",
   "name": "python",
   "nbconvert_exporter": "python",
   "pygments_lexer": "ipython2",
   "version": "2.7.6"
  }
 },
 "nbformat": 4,
 "nbformat_minor": 0
}