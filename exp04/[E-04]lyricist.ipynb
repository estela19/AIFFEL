{
 "cells": [
  {
   "cell_type": "code",
   "execution_count": 2,
   "id": "delayed-meeting",
   "metadata": {},
   "outputs": [
    {
     "name": "stdout",
     "output_type": "stream",
     "text": [
      "데이터 크기: 187088\n",
      "Examples:\n",
      " ['[Hook]', \"I've been down so long, it look like up to me\", 'They look up to me']\n"
     ]
    }
   ],
   "source": [
    "import glob\n",
    "import os, re\n",
    "import numpy as np\n",
    "import tensorflow as tf\n",
    "\n",
    "txt_file_path = os.getenv('HOME')+'/aiffel/lyricist/data/lyrics/*'\n",
    "\n",
    "txt_list = glob.glob(txt_file_path)\n",
    "\n",
    "raw_corpus = []\n",
    "\n",
    "# 여러개의 txt 파일을 모두 읽어서 raw_corpus 에 담습니다.\n",
    "for txt_file in txt_list:\n",
    "    with open(txt_file, \"r\") as f:\n",
    "        raw = f.read().splitlines()\n",
    "        raw_corpus.extend(raw)\n",
    "\n",
    "print(\"데이터 크기:\", len(raw_corpus))\n",
    "print(\"Examples:\\n\", raw_corpus[:3])"
   ]
  },
  {
   "cell_type": "code",
   "execution_count": 3,
   "id": "fifty-melissa",
   "metadata": {},
   "outputs": [
    {
     "name": "stdout",
     "output_type": "stream",
     "text": [
      "<start> this is sample sentence . <end>\n"
     ]
    }
   ],
   "source": [
    "# 입력된 문장을\n",
    "#     1. 소문자로 바꾸고, 양쪽 공백을 지웁니다\n",
    "#     2. 특수문자 양쪽에 공백을 넣고\n",
    "#     3. 여러개의 공백은 하나의 공백으로 바꿉니다\n",
    "#     4. a-zA-Z?.!,¿가 아닌 모든 문자를 하나의 공백으로 바꿉니다\n",
    "#     5. 다시 양쪽 공백을 지웁니다\n",
    "#     6. 문장 시작에는 <start>, 끝에는 <end>를 추가합니다\n",
    "# 이 순서로 처리해주면 문제가 되는 상황을 방지할 수 있겠네요!\n",
    "def preprocess_sentence(sentence):\n",
    "    sentence = sentence.lower().strip() # 1\n",
    "    sentence = re.sub(r\"([?.!,¿])\", r\" \\1 \", sentence) # 2\n",
    "    sentence = re.sub(r'[\" \"]+', \" \", sentence) # 3\n",
    "    sentence = re.sub(r\"[^a-zA-Z?.!,¿]+\", \" \", sentence) # 4\n",
    "    sentence = sentence.strip() # 5\n",
    "    sentence = '<start> ' + sentence + ' <end>' # 6\n",
    "    return sentence\n",
    "\n",
    "# 이 문장이 어떻게 필터링되는지 확인해 보세요.\n",
    "print(preprocess_sentence(\"This @_is ;;;sample        sentence.\"))"
   ]
  },
  {
   "cell_type": "code",
   "execution_count": 25,
   "id": "bored-bikini",
   "metadata": {},
   "outputs": [
    {
     "data": {
      "text/plain": [
       "['<start> hook <end>',\n",
       " '<start> i ve been down so long , it look like up to me <end>',\n",
       " '<start> they look up to me <end>',\n",
       " '<start> i got fake people showin fake love to me <end>',\n",
       " '<start> straight up to my face , straight up to my face <end>',\n",
       " '<start> i ve been down so long , it look like up to me <end>',\n",
       " '<start> they look up to me <end>',\n",
       " '<start> i got fake people showin fake love to me <end>',\n",
       " '<start> straight up to my face , straight up to my face verse <end>',\n",
       " '<start> somethin ain t right when we talkin <end>']"
      ]
     },
     "execution_count": 25,
     "metadata": {},
     "output_type": "execute_result"
    }
   ],
   "source": [
    "# 여기에 정제된 문장을 모을겁니다\n",
    "corpus = []\n",
    "\n",
    "for sentence in raw_corpus:\n",
    "    # 우리가 원하지 않는 문장은 건너뜁니다\n",
    "    if len(sentence) == 0: continue\n",
    "    if sentence[-1] == \":\": continue\n",
    "    \n",
    "    # 정제를 하고 담아주세요\n",
    "    preprocessed_sentence = preprocess_sentence(sentence)\n",
    "    if len(preprocessed_sentence.split(\" \")) <= 15:\n",
    "        corpus.append(preprocessed_sentence)\n",
    "        \n",
    "# 정제된 결과를 10개만 확인해보죠\n",
    "corpus[:10]"
   ]
  },
  {
   "cell_type": "code",
   "execution_count": 26,
   "id": "spare-stewart",
   "metadata": {
    "scrolled": true
   },
   "outputs": [
    {
     "name": "stdout",
     "output_type": "stream",
     "text": [
      "[[   2  966    3 ...    0    0    0]\n",
      " [   2    4   95 ...   10   12    3]\n",
      " [   2   38  133 ...    0    0    0]\n",
      " ...\n",
      " [   2  202    3 ...    0    0    0]\n",
      " [   2  415    9 ...    0    0    0]\n",
      " [   2    9 1558 ...    0    0    0]] <keras_preprocessing.text.Tokenizer object at 0x7f30d47f7850>\n"
     ]
    }
   ],
   "source": [
    "# 토큰화 할 때 텐서플로우의 Tokenizer와 pad_sequences를 사용합니다\n",
    "# 더 잘 알기 위해 아래 문서들을 참고하면 좋습니다\n",
    "# https://www.tensorflow.org/api_docs/python/tf/keras/preprocessing/text/Tokenizer\n",
    "# https://www.tensorflow.org/api_docs/python/tf/keras/preprocessing/sequence/pad_sequences\n",
    "def tokenize(corpus):\n",
    "    # 13000단어를 기억할 수 있는 tokenizer를 만들겁니다\n",
    "    # 우리는 이미 문장을 정제했으니 filters가 필요없어요\n",
    "    # 13000단어에 포함되지 못한 단어는 '<unk>'로 바꿀거에요\n",
    "    tokenizer = tf.keras.preprocessing.text.Tokenizer(\n",
    "        num_words=13000, \n",
    "        filters=' ',\n",
    "        oov_token=\"<unk>\"\n",
    "    )\n",
    "    # corpus를 이용해 tokenizer 내부의 단어장을 완성합니다\n",
    "    tokenizer.fit_on_texts(corpus)\n",
    "    # 준비한 tokenizer를 이용해 corpus를 Tensor로 변환합니다\n",
    "    tensor = tokenizer.texts_to_sequences(corpus)   \n",
    "    # 입력 데이터의 시퀀스 길이를 일정하게 맞춰줍니다\n",
    "    # 만약 시퀀스가 짧다면 문장 뒤에 패딩을 붙여 길이를 맞춰줍니다.\n",
    "    # 문장 앞에 패딩을 붙여 길이를 맞추고 싶다면 padding='pre'를 사용합니다\n",
    "    tensor = tf.keras.preprocessing.sequence.pad_sequences(tensor, padding='post', maxlen=15)  \n",
    "    \n",
    "    print(tensor,tokenizer)\n",
    "    return tensor, tokenizer\n",
    "\n",
    "tensor, tokenizer = tokenize(corpus)"
   ]
  },
  {
   "cell_type": "code",
   "execution_count": 27,
   "id": "knowing-recorder",
   "metadata": {},
   "outputs": [
    {
     "name": "stdout",
     "output_type": "stream",
     "text": [
      "[  2 966   3   0   0   0   0   0   0   0   0   0   0   0]\n",
      "[966   3   0   0   0   0   0   0   0   0   0   0   0   0]\n"
     ]
    }
   ],
   "source": [
    "# tensor에서 마지막 토큰을 잘라내서 소스 문장을 생성합니다\n",
    "# 마지막 토큰은 <end>가 아니라 <pad>일 가능성이 높습니다.\n",
    "src_input = tensor[:, :-1]  \n",
    "# tensor에서 <start>를 잘라내서 타겟 문장을 생성합니다.\n",
    "tgt_input = tensor[:, 1:]    \n",
    "\n",
    "print(src_input[0])\n",
    "print(tgt_input[0])"
   ]
  },
  {
   "cell_type": "code",
   "execution_count": 28,
   "id": "killing-specialist",
   "metadata": {},
   "outputs": [],
   "source": [
    "from sklearn.model_selection import train_test_split\n",
    "\n",
    "enc_train, enc_val, dec_train, dec_val = train_test_split(src_input, tgt_input, test_size = 0.2)"
   ]
  },
  {
   "cell_type": "code",
   "execution_count": 29,
   "id": "approved-queue",
   "metadata": {},
   "outputs": [
    {
     "name": "stdout",
     "output_type": "stream",
     "text": [
      "Source Train: (124810, 14)\n",
      "Target Train: (124810, 14)\n"
     ]
    }
   ],
   "source": [
    "print(\"Source Train:\", enc_train.shape)\n",
    "print(\"Target Train:\", dec_train.shape)"
   ]
  },
  {
   "cell_type": "code",
   "execution_count": 36,
   "id": "secret-nickel",
   "metadata": {},
   "outputs": [
    {
     "data": {
      "text/plain": [
       "<BatchDataset shapes: ((256, 14), (256, 14)), types: (tf.int32, tf.int32)>"
      ]
     },
     "execution_count": 36,
     "metadata": {},
     "output_type": "execute_result"
    }
   ],
   "source": [
    "BUFFER_SIZE = len(enc_train)\n",
    "BATCH_SIZE = 256\n",
    "steps_per_epoch = len(enc_train) // BATCH_SIZE\n",
    "\n",
    " # tokenizer가 구축한 단어사전 내 7000개와, 여기 포함되지 않은 0:<pad>를 포함하여 7001개\n",
    "VOCAB_SIZE = tokenizer.num_words + 1   \n",
    "\n",
    "# 준비한 데이터 소스로부터 데이터셋을 만듭니다\n",
    "# 데이터셋에 대해서는 아래 문서를 참고하세요\n",
    "# 자세히 알아둘수록 도움이 많이 되는 중요한 문서입니다\n",
    "# https://www.tensorflow.org/api_docs/python/tf/data/Dataset\n",
    "dataset = tf.data.Dataset.from_tensor_slices((enc_train, dec_train))\n",
    "dataset = dataset.shuffle(BUFFER_SIZE)\n",
    "dataset = dataset.batch(BATCH_SIZE, drop_remainder=True)\n",
    "dataset"
   ]
  },
  {
   "cell_type": "code",
   "execution_count": 34,
   "id": "eligible-intermediate",
   "metadata": {},
   "outputs": [],
   "source": [
    "class TextGenerator(tf.keras.Model):\n",
    "    def __init__(self, vocab_size, embedding_size, hidden_size):\n",
    "        super().__init__()\n",
    "        \n",
    "        self.embedding = tf.keras.layers.Embedding(vocab_size, embedding_size)\n",
    "        self.rnn_1 = tf.keras.layers.LSTM(hidden_size, return_sequences=True)\n",
    "        self.rnn_2 = tf.keras.layers.LSTM(hidden_size, return_sequences=True)\n",
    "        self.linear = tf.keras.layers.Dense(vocab_size)\n",
    "        \n",
    "    def call(self, x):\n",
    "        out = self.embedding(x)\n",
    "        out = self.rnn_1(out)\n",
    "        out = self.rnn_2(out)\n",
    "        out = self.linear(out)\n",
    "        \n",
    "        return out\n",
    "    \n",
    "embedding_size = 256\n",
    "hidden_size = 1024\n",
    "model = TextGenerator(tokenizer.num_words + 1, embedding_size , hidden_size)"
   ]
  },
  {
   "cell_type": "code",
   "execution_count": 37,
   "id": "lightweight-intermediate",
   "metadata": {},
   "outputs": [
    {
     "data": {
      "text/plain": [
       "<tf.Tensor: shape=(256, 14, 13001), dtype=float32, numpy=\n",
       "array([[[-8.21616231e-06, -1.25163642e-04, -2.81685439e-04, ...,\n",
       "          1.97192203e-04, -2.41003982e-05,  1.33791633e-04],\n",
       "        [ 2.00236136e-05, -1.77378664e-04, -5.74881618e-04, ...,\n",
       "          1.01081816e-04, -2.45071897e-05,  1.48762090e-04],\n",
       "        [-1.25958119e-04, -3.38931335e-04, -8.09381076e-04, ...,\n",
       "         -1.21529018e-04, -2.25376411e-04,  2.47948337e-04],\n",
       "        ...,\n",
       "        [-1.99093460e-03,  1.32769957e-04, -3.18941718e-04, ...,\n",
       "          4.18034149e-04, -9.83644422e-05, -1.00593467e-03],\n",
       "        [-2.22348282e-03,  2.80344771e-04, -2.22525137e-04, ...,\n",
       "          5.55497711e-04, -8.19704801e-05, -1.12737052e-03],\n",
       "        [-2.43222434e-03,  4.07112762e-04, -1.18761440e-04, ...,\n",
       "          6.66487555e-04, -6.27744230e-05, -1.23200624e-03]],\n",
       "\n",
       "       [[-8.21616231e-06, -1.25163642e-04, -2.81685439e-04, ...,\n",
       "          1.97192203e-04, -2.41003982e-05,  1.33791633e-04],\n",
       "        [ 1.03255654e-04, -1.33825553e-04, -4.50270425e-04, ...,\n",
       "          3.60697915e-04,  8.18131812e-05, -9.50044432e-06],\n",
       "        [ 1.51611268e-04, -4.54942565e-05, -6.79462333e-04, ...,\n",
       "          3.97524040e-04,  1.95609944e-04, -3.93056107e-05],\n",
       "        ...,\n",
       "        [-1.55218178e-03, -2.09495745e-04, -7.23716978e-04, ...,\n",
       "          1.23445201e-03,  7.78681831e-04, -3.10143310e-04],\n",
       "        [-1.85015472e-03, -4.01724683e-05, -6.62606559e-04, ...,\n",
       "          1.29745051e-03,  6.65318163e-04, -5.17510576e-04],\n",
       "        [-2.12069065e-03,  1.18008946e-04, -5.78014704e-04, ...,\n",
       "          1.33603998e-03,  5.67178242e-04, -7.09547545e-04]],\n",
       "\n",
       "       [[-8.21616231e-06, -1.25163642e-04, -2.81685439e-04, ...,\n",
       "          1.97192203e-04, -2.41003982e-05,  1.33791633e-04],\n",
       "        [-3.03511624e-05, -2.06679862e-04, -4.18261225e-05, ...,\n",
       "          3.77812277e-04, -2.74357182e-04,  5.92450633e-05],\n",
       "        [ 1.34755755e-04, -1.78794624e-04, -8.55823964e-05, ...,\n",
       "          3.10756062e-04, -2.40400157e-04, -1.57820206e-04],\n",
       "        ...,\n",
       "        [-1.36230979e-03, -4.86255769e-04, -3.05274676e-04, ...,\n",
       "          8.53451202e-05,  7.54018372e-04, -9.78023047e-04],\n",
       "        [-1.59207324e-03, -2.86027149e-04, -3.51299415e-04, ...,\n",
       "          2.37923596e-04,  6.75534073e-04, -1.07988936e-03],\n",
       "        [-1.82057684e-03, -8.47154370e-05, -3.59060330e-04, ...,\n",
       "          3.84458166e-04,  5.95466641e-04, -1.18076347e-03]],\n",
       "\n",
       "       ...,\n",
       "\n",
       "       [[-8.21616231e-06, -1.25163642e-04, -2.81685439e-04, ...,\n",
       "          1.97192203e-04, -2.41003982e-05,  1.33791633e-04],\n",
       "        [-1.15453695e-04, -3.15840240e-04, -2.66850897e-04, ...,\n",
       "          3.42020503e-04, -1.19864650e-04,  2.10519633e-04],\n",
       "        [-2.74998019e-04, -3.15715122e-04, -1.27512307e-04, ...,\n",
       "          2.98553437e-04, -2.81785789e-04,  1.85129597e-04],\n",
       "        ...,\n",
       "        [-1.47727283e-03, -6.33006101e-04, -1.98769427e-04, ...,\n",
       "          1.68438171e-04,  2.55019288e-04,  3.00864122e-05],\n",
       "        [-1.75082288e-03, -4.29087493e-04, -1.92160791e-04, ...,\n",
       "          3.99446144e-04,  2.09650432e-04, -1.78852264e-04],\n",
       "        [-2.00963463e-03, -2.26738426e-04, -1.66503072e-04, ...,\n",
       "          5.95334743e-04,  1.72865766e-04, -3.80876852e-04]],\n",
       "\n",
       "       [[-8.21616231e-06, -1.25163642e-04, -2.81685439e-04, ...,\n",
       "          1.97192203e-04, -2.41003982e-05,  1.33791633e-04],\n",
       "        [-7.36555085e-05, -2.07816585e-04, -3.56279314e-04, ...,\n",
       "          3.55305820e-04, -7.49078608e-05,  2.51118036e-04],\n",
       "        [-3.96805335e-05, -2.99366831e-04, -2.89295451e-04, ...,\n",
       "          4.15300310e-04,  5.73024272e-06,  3.68129084e-04],\n",
       "        ...,\n",
       "        [-5.87396964e-04, -4.98910493e-04,  4.51546570e-04, ...,\n",
       "          3.33614240e-04,  1.59839459e-04,  2.69717984e-05],\n",
       "        [-8.54143233e-04, -5.74783422e-04,  4.05582105e-04, ...,\n",
       "          4.27872757e-04,  3.58011574e-04, -8.69907235e-05],\n",
       "        [-1.16799551e-03, -5.51798556e-04,  3.21797328e-04, ...,\n",
       "          5.80247492e-04,  4.77799535e-04, -1.94888242e-04]],\n",
       "\n",
       "       [[-8.21616231e-06, -1.25163642e-04, -2.81685439e-04, ...,\n",
       "          1.97192203e-04, -2.41003982e-05,  1.33791633e-04],\n",
       "        [-1.79888448e-04, -3.59130529e-04, -5.11360820e-04, ...,\n",
       "          1.48365580e-04, -2.02799827e-04,  3.23957560e-04],\n",
       "        [-5.28020155e-06, -4.63357806e-04, -4.33240202e-04, ...,\n",
       "         -1.50183463e-04, -2.28697274e-04,  2.98438739e-04],\n",
       "        ...,\n",
       "        [-3.32754018e-04, -2.33546889e-05, -2.56005034e-04, ...,\n",
       "          5.79559128e-04, -1.51489701e-04, -8.34772014e-04],\n",
       "        [-5.90653974e-04,  1.97316695e-05, -2.50926911e-04, ...,\n",
       "          7.75748398e-04, -6.49935682e-05, -9.17424913e-04],\n",
       "        [-8.94719618e-04,  1.04864623e-04, -2.57543812e-04, ...,\n",
       "          9.66848398e-04, -9.12538053e-06, -9.87005420e-04]]],\n",
       "      dtype=float32)>"
      ]
     },
     "execution_count": 37,
     "metadata": {},
     "output_type": "execute_result"
    }
   ],
   "source": [
    "for src_sample, tgt_sample in dataset.take(1): break\n",
    "\n",
    "# 한 배치만 불러온 데이터를 모델에 넣어봅니다\n",
    "model(src_sample)"
   ]
  },
  {
   "cell_type": "code",
   "execution_count": 38,
   "id": "extensive-aurora",
   "metadata": {},
   "outputs": [
    {
     "name": "stdout",
     "output_type": "stream",
     "text": [
      "Model: \"text_generator_1\"\n",
      "_________________________________________________________________\n",
      "Layer (type)                 Output Shape              Param #   \n",
      "=================================================================\n",
      "embedding_1 (Embedding)      multiple                  3328256   \n",
      "_________________________________________________________________\n",
      "lstm_2 (LSTM)                multiple                  5246976   \n",
      "_________________________________________________________________\n",
      "lstm_3 (LSTM)                multiple                  8392704   \n",
      "_________________________________________________________________\n",
      "dense_1 (Dense)              multiple                  13326025  \n",
      "=================================================================\n",
      "Total params: 30,293,961\n",
      "Trainable params: 30,293,961\n",
      "Non-trainable params: 0\n",
      "_________________________________________________________________\n"
     ]
    }
   ],
   "source": [
    "model.summary()"
   ]
  },
  {
   "cell_type": "code",
   "execution_count": 31,
   "id": "composed-science",
   "metadata": {},
   "outputs": [],
   "source": [
    "#Loss\n",
    "loss = tf.keras.losses.SparseCategoricalCrossentropy(\n",
    "    from_logits=True, reduction='none')"
   ]
  },
  {
   "cell_type": "code",
   "execution_count": 39,
   "id": "tough-tackle",
   "metadata": {},
   "outputs": [
    {
     "name": "stdout",
     "output_type": "stream",
     "text": [
      "Epoch 1/10\n",
      "487/487 [==============================] - 155s 313ms/step - loss: 4.0607\n",
      "Epoch 2/10\n",
      "487/487 [==============================] - 153s 314ms/step - loss: 3.0598\n",
      "Epoch 3/10\n",
      "487/487 [==============================] - 153s 313ms/step - loss: 2.8779\n",
      "Epoch 4/10\n",
      "487/487 [==============================] - 154s 315ms/step - loss: 2.7523\n",
      "Epoch 5/10\n",
      "487/487 [==============================] - 157s 323ms/step - loss: 2.6345\n",
      "Epoch 6/10\n",
      "487/487 [==============================] - 206s 423ms/step - loss: 2.5416\n",
      "Epoch 7/10\n",
      "487/487 [==============================] - 152s 312ms/step - loss: 2.4509\n",
      "Epoch 8/10\n",
      "487/487 [==============================] - 151s 310ms/step - loss: 2.3694\n",
      "Epoch 9/10\n",
      "487/487 [==============================] - 151s 309ms/step - loss: 2.2899\n",
      "Epoch 10/10\n",
      "487/487 [==============================] - 151s 309ms/step - loss: 2.2184\n"
     ]
    },
    {
     "data": {
      "text/plain": [
       "<tensorflow.python.keras.callbacks.History at 0x7f30d2e0d190>"
      ]
     },
     "execution_count": 39,
     "metadata": {},
     "output_type": "execute_result"
    }
   ],
   "source": [
    "optimizer = tf.keras.optimizers.Adam()\n",
    "\n",
    "model.compile(loss=loss, optimizer=optimizer)\n",
    "model.fit(dataset, epochs=10)"
   ]
  },
  {
   "cell_type": "code",
   "execution_count": 42,
   "id": "canadian-edgar",
   "metadata": {},
   "outputs": [],
   "source": [
    "def generate_text(model, tokenizer, init_sentence=\"<start>\", max_len=20):\n",
    "    # 테스트를 위해서 입력받은 init_sentence도 텐서로 변환합니다\n",
    "    test_input = tokenizer.texts_to_sequences([init_sentence])\n",
    "    test_tensor = tf.convert_to_tensor(test_input, dtype=tf.int64)\n",
    "    end_token = tokenizer.word_index[\"<end>\"]\n",
    "\n",
    "    # 단어 하나씩 예측해 문장을 만듭니다\n",
    "    #    1. 입력받은 문장의 텐서를 입력합니다\n",
    "    #    2. 예측된 값 중 가장 높은 확률인 word index를 뽑아냅니다\n",
    "    #    3. 2에서 예측된 word index를 문장 뒤에 붙입니다\n",
    "    #    4. 모델이 <end>를 예측했거나, max_len에 도달했다면 문장 생성을 마칩니다\n",
    "    while True:\n",
    "        # 1\n",
    "        predict = model(test_tensor) \n",
    "        # 2\n",
    "        predict_word = tf.argmax(tf.nn.softmax(predict, axis=-1), axis=-1)[:, -1] \n",
    "        # 3 \n",
    "        test_tensor = tf.concat([test_tensor, tf.expand_dims(predict_word, axis=0)], axis=-1)\n",
    "        # 4\n",
    "        if predict_word.numpy()[0] == end_token: break\n",
    "        if test_tensor.shape[1] >= max_len: break\n",
    "\n",
    "    generated = \"\"\n",
    "    # tokenizer를 이용해 word index를 단어로 하나씩 변환합니다 \n",
    "    for word_index in test_tensor[0].numpy():\n",
    "        generated += tokenizer.index_word[word_index] + \" \"\n",
    "\n",
    "    return generated"
   ]
  },
  {
   "cell_type": "code",
   "execution_count": 45,
   "id": "incorporate-preservation",
   "metadata": {},
   "outputs": [
    {
     "data": {
      "text/plain": [
       "'<start> i will be there <end> '"
      ]
     },
     "execution_count": 45,
     "metadata": {},
     "output_type": "execute_result"
    }
   ],
   "source": [
    "generate_text(model, tokenizer, init_sentence=\"<start> i will\", max_len=20)"
   ]
  },
  {
   "cell_type": "code",
   "execution_count": null,
   "id": "asian-variety",
   "metadata": {},
   "outputs": [],
   "source": []
  }
 ],
 "metadata": {
  "kernelspec": {
   "display_name": "Python 3",
   "language": "python",
   "name": "python3"
  },
  "language_info": {
   "codemirror_mode": {
    "name": "ipython",
    "version": 3
   },
   "file_extension": ".py",
   "mimetype": "text/x-python",
   "name": "python",
   "nbconvert_exporter": "python",
   "pygments_lexer": "ipython3",
   "version": "3.7.9"
  }
 },
 "nbformat": 4,
 "nbformat_minor": 5
}
