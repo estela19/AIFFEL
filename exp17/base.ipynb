{
 "cells": [
  {
   "cell_type": "code",
   "execution_count": 1,
   "id": "fabulous-ottawa",
   "metadata": {},
   "outputs": [],
   "source": [
    "# imports\n",
    "from __future__ import absolute_import, division, print_function, unicode_literals\n",
    "\n",
    "import tensorflow as tf\n",
    "import tensorflow.keras.backend as K\n",
    "import tensorflow_addons as tfa\n",
    "\n",
    "import os\n",
    "import re\n",
    "import numpy as np\n",
    "import pandas as pd\n",
    "import pickle\n",
    "import random\n",
    "import collections\n",
    "import json\n",
    "from datetime import datetime\n",
    "\n",
    "import sentencepiece as spm\n",
    "from tqdm.notebook import tqdm\n",
    "import matplotlib.pyplot as plt\n",
    "import seaborn as sns\n",
    "from wordcloud import WordCloud\n",
    "\n",
    "random_seed = 1234\n",
    "random.seed(random_seed)\n",
    "np.random.seed(random_seed)\n",
    "tf.random.set_seed(random_seed)"
   ]
  },
  {
   "cell_type": "code",
   "execution_count": 2,
   "id": "green-layer",
   "metadata": {},
   "outputs": [],
   "source": [
    "def print_json_tree(data, indent=\"\"):\n",
    "    for key, value in data.items():\n",
    "        if type(value) == list:     # list 형태의 item은 첫번째 item만 출력\n",
    "            print(f'{indent}- {key}: [{len(value)}]')\n",
    "            print_json_tree(value[0], indent + \"  \")\n",
    "        else:\n",
    "            print(f'{indent}- {key}: {value}')"
   ]
  },
  {
   "cell_type": "code",
   "execution_count": 3,
   "id": "religious-columbus",
   "metadata": {},
   "outputs": [
    {
     "name": "stdout",
     "output_type": "stream",
     "text": [
      "- version: KorQuAD_v1.0_train\n",
      "- data: [1420]\n",
      "  - paragraphs: [3]\n",
      "    - qas: [8]\n",
      "      - answers: [1]\n",
      "        - text: 교향곡\n",
      "        - answer_start: 54\n",
      "      - id: 6566495-0-0\n",
      "      - question: 바그너는 괴테의 파우스트를 읽고 무엇을 쓰고자 했는가?\n",
      "    - context: 1839년 바그너는 괴테의 파우스트을 처음 읽고 그 내용에 마음이 끌려 이를 소재로 해서 하나의 교향곡을 쓰려는 뜻을 갖는다. 이 시기 바그너는 1838년에 빛 독촉으로 산전수전을 다 걲은 상황이라 좌절과 실망에 가득했으며 메피스토펠레스를 만나는 파우스트의 심경에 공감했다고 한다. 또한 파리에서 아브네크의 지휘로 파리 음악원 관현악단이 연주하는 베토벤의 교향곡 9번을 듣고 깊은 감명을 받았는데, 이것이 이듬해 1월에 파우스트의 서곡으로 쓰여진 이 작품에 조금이라도 영향을 끼쳤으리라는 것은 의심할 여지가 없다. 여기의 라단조 조성의 경우에도 그의 전기에 적혀 있는 것처럼 단순한 정신적 피로나 실의가 반영된 것이 아니라 베토벤의 합창교향곡 조성의 영향을 받은 것을 볼 수 있다. 그렇게 교향곡 작곡을 1839년부터 40년에 걸쳐 파리에서 착수했으나 1악장을 쓴 뒤에 중단했다. 또한 작품의 완성과 동시에 그는 이 서곡(1악장)을 파리 음악원의 연주회에서 연주할 파트보까지 준비하였으나, 실제로는 이루어지지는 않았다. 결국 초연은 4년 반이 지난 후에 드레스덴에서 연주되었고 재연도 이루어졌지만, 이후에 그대로 방치되고 말았다. 그 사이에 그는 리엔치와 방황하는 네덜란드인을 완성하고 탄호이저에도 착수하는 등 분주한 시간을 보냈는데, 그런 바쁜 생활이 이 곡을 잊게 한 것이 아닌가 하는 의견도 있다.\n",
      "  - title: 파우스트_서곡\n"
     ]
    }
   ],
   "source": [
    "data_dir = os.getenv('HOME')+'/aiffel/bert_qna/data'\n",
    "model_dir = os.getenv('HOME')+'/aiffel/bert_qna/models'\n",
    "\n",
    "# 훈련데이터 확인\n",
    "train_json_path = data_dir + '/KorQuAD_v1.0_train.json'\n",
    "with open(train_json_path) as f:\n",
    "    train_json = json.load(f)\n",
    "    print_json_tree(train_json)"
   ]
  },
  {
   "cell_type": "code",
   "execution_count": 4,
   "id": "complimentary-healing",
   "metadata": {},
   "outputs": [
    {
     "name": "stdout",
     "output_type": "stream",
     "text": [
      "- version: KorQuAD_v1.0_dev\n",
      "- data: [140]\n",
      "  - paragraphs: [2]\n",
      "    - qas: [7]\n",
      "      - answers: [1]\n",
      "        - text: 1989년 2월 15일\n",
      "        - answer_start: 0\n",
      "      - id: 6548850-0-0\n",
      "      - question: 임종석이 여의도 농민 폭력 시위를 주도한 혐의로 지명수배 된 날은?\n",
      "    - context: 1989년 2월 15일 여의도 농민 폭력 시위를 주도한 혐의(폭력행위등처벌에관한법률위반)으로 지명수배되었다. 1989년 3월 12일 서울지방검찰청 공안부는 임종석의 사전구속영장을 발부받았다. 같은 해 6월 30일 평양축전에 임수경을 대표로 파견하여 국가보안법위반 혐의가 추가되었다. 경찰은 12월 18일~20일 사이 서울 경희대학교에서 임종석이 성명 발표를 추진하고 있다는 첩보를 입수했고, 12월 18일 오전 7시 40분 경 가스총과 전자봉으로 무장한 특공조 및 대공과 직원 12명 등 22명의 사복 경찰을 승용차 8대에 나누어 경희대학교에 투입했다. 1989년 12월 18일 오전 8시 15분 경 서울청량리경찰서는 호위 학생 5명과 함께 경희대학교 학생회관 건물 계단을 내려오는 임종석을 발견, 검거해 구속을 집행했다. 임종석은 청량리경찰서에서 약 1시간 동안 조사를 받은 뒤 오전 9시 50분 경 서울 장안동의 서울지방경찰청 공안분실로 인계되었다.\n",
      "  - title: 임종석\n"
     ]
    }
   ],
   "source": [
    "# 검증데이터 확인\n",
    "dev_json_path = data_dir + '/KorQuAD_v1.0_dev.json'\n",
    "with open(dev_json_path) as f:\n",
    "    dev_json = json.load(f)\n",
    "    print_json_tree(dev_json)"
   ]
  },
  {
   "cell_type": "code",
   "execution_count": 5,
   "id": "amateur-dialogue",
   "metadata": {},
   "outputs": [
    {
     "name": "stdout",
     "output_type": "stream",
     "text": [
      "{\n",
      "  \"paragraphs\": [\n",
      "    {\n",
      "      \"qas\": [\n",
      "        {\n",
      "          \"answers\": [\n",
      "            {\n",
      "              \"text\": \"교향곡\",\n",
      "              \"answer_start\": 54\n",
      "            }\n",
      "          ],\n",
      "          \"id\": \"6566495-0-0\",\n",
      "          \"question\": \"바그너는 괴테의 파우스트를 읽고 무엇을 쓰고자 했는가?\"\n",
      "        },\n",
      "        {\n",
      "          \"answers\": [\n",
      "            {\n",
      "              \"text\": \"1악장\",\n",
      "              \"answer_start\": 421\n",
      "            }\n",
      "          ],\n",
      "          \"id\": \"6566495-0-1\",\n",
      "          \"question\": \"바그너는 교향곡 작곡을 어디까지 쓴 뒤에 중단했는가?\"\n",
      "        },\n",
      "        {\n",
      "          \"answers\": [\n",
      "            {\n",
      "              \"text\": \"베토벤의 교향곡 9번\",\n",
      "              \"answer_start\": 194\n",
      "            }\n",
      "          ],\n",
      "          \"id\": \"6566495-0-2\",\n",
      "          \"question\": \"바그너가 파우스트 서곡을 쓸 때 어떤 곡의 영향을 받았는가?\"\n",
      "        },\n",
      "        {\n",
      "          \"answers\": [\n",
      "            {\n",
      "              \"text\": \"파우스트\",\n",
      "              \"answer_start\": 15\n",
      "            }\n",
      "          ],\n",
      "          \"id\": \"6566518-0-0\",\n",
      "          \"question\": \"1839년 바그너가 교향곡의 소재로 쓰려고 했던 책은?\"\n",
      "        },\n",
      "        {\n",
      "          \"answers\": [\n",
      "            {\n",
      "              \"text\": \"합창교향곡\",\n",
      "              \"answer_start\": 354\n",
      "            }\n",
      "          ],\n",
      "          \"id\": \"6566518-0-1\",\n",
      "          \"question\": \"파우스트 서곡의 라단조 조성이 영향을 받은 베토벤의 곡은?\"\n",
      "        },\n",
      "        {\n",
      "          \"answers\": [\n",
      "            {\n",
      "              \"text\": \"1839\",\n",
      "              \"answer_start\": 0\n",
      "            }\n",
      "          ],\n",
      "          \"id\": \"5917067-0-0\",\n",
      "          \"question\": \"바그너가 파우스트를 처음으로 읽은 년도는?\"\n",
      "        },\n",
      "        {\n",
      "          \"answers\": [\n",
      "            {\n",
      "              \"text\": \"파리\",\n",
      "              \"answer_start\": 410\n",
      "            }\n",
      "          ],\n",
      "          \"id\": \"5917067-0-1\",\n",
      "          \"question\": \"바그너가 처음 교향곡 작곡을 한 장소는?\"\n",
      "        },\n",
      "        {\n",
      "          \"answers\": [\n",
      "            {\n",
      "              \"text\": \"드레스덴\",\n",
      "              \"answer_start\": 534\n",
      "            }\n",
      "          ],\n",
      "          \"id\": \"5917067-0-2\",\n",
      "          \"question\": \"바그너의 1악장의 초연은 어디서 연주되었는가?\"\n",
      "        }\n",
      "      ],\n",
      "      \"context\": \"1839년 바그너는 괴테의 파우스트을 처음 읽고 그 내용에 마음이 끌려 이를 소재로 해서 하나의 교향곡을 쓰려는 뜻을 갖는다. 이 시기 바그너는 1838년에 빛 독촉으로 산전수전을 다 걲은 상황이라 좌절과 실망에 가득했으며 메피스토펠레스를 만나는 파우스트의 심경에 공감했다고 한다. 또한 파리에서 아브네크의 지휘로 파리 음악원 관현악단이 연주하는 베토벤의 교향곡 9번을 듣고 깊은 감명을 받았는데, 이것이 이듬해 1월에 파우스트의 서곡으로 쓰여진 이 작품에 조금이라도 영향을 끼쳤으리라는 것은 의심할 여지가 없다. 여기의 라단조 조성의 경우에도 그의 전기에 적혀 있는 것처럼 단순한 정신적 피로나 실의가 반영된 것이 아니라 베토벤의 합창교향곡 조성의 영향을 받은 것을 볼 수 있다. 그렇게 교향곡 작곡을 1839년부터 40년에 걸쳐 파리에서 착수했으나 1악장을 쓴 뒤에 중단했다. 또한 작품의 완성과 동시에 그는 이 서곡(1악장)을 파리 음악원의 연주회에서 연주할 파트보까지 준비하였으나, 실제로는 이루어지지는 않았다. 결국 초연은 4년 반이 지난 후에 드레스덴에서 연주되었고 재연도 이루어졌지만, 이후에 그대로 방치되고 말았다. 그 사이에 그는 리엔치와 방황하는 네덜란드인을 완성하고 탄호이저에도 착수하는 등 분주한 시간을 보냈는데, 그런 바쁜 생활이 이 곡을 잊게 한 것이 아닌가 하는 의견도 있다.\"\n",
      "    },\n",
      "    {\n",
      "      \"qas\": [\n",
      "        {\n",
      "          \"answers\": [\n",
      "            {\n",
      "              \"text\": \"한스 폰 뷜로\",\n",
      "              \"answer_start\": 402\n",
      "            }\n",
      "          ],\n",
      "          \"id\": \"6566495-1-0\",\n",
      "          \"question\": \"바그너의 작품을 시인의 피로 쓰여졌다고 극찬한 것은 누구인가?\"\n",
      "        },\n",
      "        {\n",
      "          \"answers\": [\n",
      "            {\n",
      "              \"text\": \"리스트\",\n",
      "              \"answer_start\": 23\n",
      "            }\n",
      "          ],\n",
      "          \"id\": \"6566495-1-1\",\n",
      "          \"question\": \"잊혀져 있는 파우스트 서곡 1악장을 부활시킨 것은 누구인가?\"\n",
      "        },\n",
      "        {\n",
      "          \"answers\": [\n",
      "            {\n",
      "              \"text\": \"20루이의 금\",\n",
      "              \"answer_start\": 345\n",
      "            }\n",
      "          ],\n",
      "          \"id\": \"6566495-1-2\",\n",
      "          \"question\": \"바그너는 다시 개정된 총보를 얼마를 받고 팔았는가?\"\n",
      "        },\n",
      "        {\n",
      "          \"answers\": [\n",
      "            {\n",
      "              \"text\": \"리스트\",\n",
      "              \"answer_start\": 23\n",
      "            }\n",
      "          ],\n",
      "          \"id\": \"6566518-1-0\",\n",
      "          \"question\": \"파우스트 교향곡을 부활시킨 사람은?\"\n",
      "        },\n",
      "        {\n",
      "          \"answers\": [\n",
      "            {\n",
      "              \"text\": \"한스 폰 뷜로\",\n",
      "              \"answer_start\": 402\n",
      "            }\n",
      "          ],\n",
      "          \"id\": \"6566518-1-1\",\n",
      "          \"question\": \"파우스트 교향곡을 피아노 독주용으로 편곡한 사람은?\"\n",
      "        },\n",
      "        {\n",
      "          \"answers\": [\n",
      "            {\n",
      "              \"text\": \"리스트\",\n",
      "              \"answer_start\": 23\n",
      "            }\n",
      "          ],\n",
      "          \"id\": \"5917067-1-0\",\n",
      "          \"question\": \"1악장을 부활시켜 연주한 사람은?\"\n",
      "        },\n",
      "        {\n",
      "          \"answers\": [\n",
      "            {\n",
      "              \"text\": \"한스 폰 뷜로\",\n",
      "              \"answer_start\": 402\n",
      "            }\n",
      "          ],\n",
      "          \"id\": \"5917067-1-1\",\n",
      "          \"question\": \"파우스트 교향곡에 감탄하여 피아노곡으로 편곡한 사람은?\"\n",
      "        },\n",
      "        {\n",
      "          \"answers\": [\n",
      "            {\n",
      "              \"text\": \"1840년\",\n",
      "              \"answer_start\": 3\n",
      "            }\n",
      "          ],\n",
      "          \"id\": \"5917067-1-2\",\n",
      "          \"question\": \"리스트가 바그너와 알게 된 연도는?\"\n",
      "        }\n",
      "      ],\n",
      "      \"context\": \"한편 1840년부터 바그너와 알고 지내던 리스트가 잊혀져 있던 1악장을 부활시켜 1852년에 바이마르에서 연주했다. 이것을 계기로 바그너도 이 작품에 다시 관심을 갖게 되었고, 그 해 9월에는 총보의 반환을 요구하여 이를 서곡으로 간추린 다음 수정을 했고 브라이트코프흐 & 헤르텔 출판사에서 출판할 개정판도 준비했다. 1853년 5월에는 리스트가 이 작품이 수정되었다는 것을 인정했지만, 끝내 바그너의 출판 계획은 무산되고 말았다. 이후 1855년에 리스트가 자신의 작품 파우스트 교향곡을 거의 완성하여 그 사실을 바그너에게 알렸고, 바그너는 다시 개정된 총보를 리스트에게 보내고 브라이트코프흐 & 헤르텔 출판사에는 20루이의 금을 받고 팔았다. 또한 그의 작품을 “하나하나의 음표가 시인의 피로 쓰여졌다”며 극찬했던 한스 폰 뷜로가 그것을 피아노 독주용으로 편곡했는데, 리스트는 그것을 약간 변형되었을 뿐이라고 지적했다. 이 서곡의 총보 첫머리에는 파우스트 1부의 내용 중 한 구절을 인용하고 있다.\"\n",
      "    },\n",
      "    {\n",
      "      \"qas\": [\n",
      "        {\n",
      "          \"answers\": [\n",
      "            {\n",
      "              \"text\": \"주제, 동기\",\n",
      "              \"answer_start\": 70\n",
      "            }\n",
      "          ],\n",
      "          \"id\": \"6566495-2-0\",\n",
      "          \"question\": \"서주에는 무엇이 암시되어 있는가?\"\n",
      "        },\n",
      "        {\n",
      "          \"answers\": [\n",
      "            {\n",
      "              \"text\": \"제1바이올린\",\n",
      "              \"answer_start\": 148\n",
      "            }\n",
      "          ],\n",
      "          \"id\": \"6566495-2-1\",\n",
      "          \"question\": \"첫부분에는 어떤 악기를 사용해 더욱 명확하게 나타내는가?\"\n",
      "        },\n",
      "        {\n",
      "          \"answers\": [\n",
      "            {\n",
      "              \"text\": \"소나타 형식\",\n",
      "              \"answer_start\": 272\n",
      "            }\n",
      "          ],\n",
      "          \"id\": \"6566495-2-2\",\n",
      "          \"question\": \"주요부는 어떤 형식으로 되어 있는가?\"\n",
      "        },\n",
      "        {\n",
      "          \"answers\": [\n",
      "            {\n",
      "              \"text\": \"저음 주제\",\n",
      "              \"answer_start\": 102\n",
      "            }\n",
      "          ],\n",
      "          \"id\": \"6566518-2-0\",\n",
      "          \"question\": \"첫 부분의 주요주제를 암시하는 주제는?\"\n",
      "        },\n",
      "        {\n",
      "          \"answers\": [\n",
      "            {\n",
      "              \"text\": \"D장조\",\n",
      "              \"answer_start\": 409\n",
      "            }\n",
      "          ],\n",
      "          \"id\": \"6566518-2-1\",\n",
      "          \"question\": \"제2주제의 축소된 재현부의 조성은?\"\n",
      "        },\n",
      "        {\n",
      "          \"answers\": [\n",
      "            {\n",
      "              \"text\": \"4/4박자\",\n",
      "              \"answer_start\": 35\n",
      "            }\n",
      "          ],\n",
      "          \"id\": \"5917067-2-0\",\n",
      "          \"question\": \"곡이 시작할때의 박자는?\"\n",
      "        },\n",
      "        {\n",
      "          \"answers\": [\n",
      "            {\n",
      "              \"text\": \"고뇌와 갈망 동기, 청춘의 사랑 동기\",\n",
      "              \"answer_start\": 115\n",
      "            }\n",
      "          ],\n",
      "          \"id\": \"5917067-2-1\",\n",
      "          \"question\": \"이 곡의 주요 주제는?\"\n",
      "        },\n",
      "        {\n",
      "          \"answers\": [\n",
      "            {\n",
      "              \"text\": \"D장조\",\n",
      "              \"answer_start\": 409\n",
      "            }\n",
      "          ],\n",
      "          \"id\": \"5917067-2-2\",\n",
      "          \"question\": \"제 2주제에선 무슨 장조로 재현되는가?\"\n",
      "        }\n",
      "      ],\n",
      "      \"context\": \"이 작품은 라단조, Sehr gehalten(아주 신중하게), 4/4박자의 부드러운 서주로 서주로 시작되는데, 여기에는 주요 주제, 동기의 대부분이 암시, 예고되어 있다. 첫 부분의 저음 주제는 주요 주제(고뇌와 갈망 동기, 청춘의 사랑 동기)를 암시하고 있으며, 제1바이올린으로 더욱 명확하게 나타난다. 또한 그것을 이어받는 동기도 중요한 역할을 한다. 여기에 새로운 소재가 더해진 뒤에 새로운 주제도 연주된다. 주요부는 Sehr bewegt(아주 격동적으로), 2/2박자의 자유로운 소나타 형식으로 매우 드라마틱한 구상과 유기적인 구성을 하고 있다. 여기에는 지금까지의 주제나 소재 외에도 오보에에 의한 선율과 제2주제를 떠올리게 하는 부차적인 주제가 더해지는데, 중간부에서는 약보3이 중심이 되고 제2주제는 축소된 재현부에서 D장조로 재현된다. 마지막에는 주요 주제를 회상하면서 조용히 마친다.\"\n",
      "    }\n",
      "  ],\n",
      "  \"title\": \"파우스트_서곡\"\n",
      "}\n"
     ]
    }
   ],
   "source": [
    "print(json.dumps(train_json[\"data\"][0], indent=2, ensure_ascii=False))"
   ]
  },
  {
   "cell_type": "markdown",
   "id": "august-omega",
   "metadata": {},
   "source": [
    "# 띄어쓰기 단위 정보관리"
   ]
  },
  {
   "cell_type": "code",
   "execution_count": 6,
   "id": "essential-resident",
   "metadata": {},
   "outputs": [],
   "source": [
    "def _is_whitespace(c):\n",
    "    if c == \" \" or c == \"\\t\" or c == \"\\r\" or c == \"\\n\" or ord(c) == 0x202F:\n",
    "        return True\n",
    "    return False"
   ]
  },
  {
   "cell_type": "code",
   "execution_count": 7,
   "id": "musical-employee",
   "metadata": {},
   "outputs": [
    {
     "data": {
      "text/plain": [
       "('파우스트', '파우스트')"
      ]
     },
     "execution_count": 7,
     "metadata": {},
     "output_type": "execute_result"
    }
   ],
   "source": [
    "# whitespace가 2개인 경우를 처리해야 함\n",
    "\n",
    "string1 = '1839년 파우스트를 읽었다.'\n",
    "string2 = '1839년  파우스트를 읽었다.'\n",
    "string1[6:10], string2[7:11]"
   ]
  },
  {
   "cell_type": "code",
   "execution_count": 8,
   "id": "loose-spyware",
   "metadata": {},
   "outputs": [
    {
     "name": "stdout",
     "output_type": "stream",
     "text": [
      "'1' : ['1'] : [0]\n",
      "'8' : ['18'] : [0, 0]\n",
      "'3' : ['183'] : [0, 0, 0]\n",
      "'9' : ['1839'] : [0, 0, 0, 0]\n",
      "'년' : ['1839년'] : [0, 0, 0, 0, 0]\n",
      "' ' : ['1839년'] : [0, 0, 0, 0, 0, 0]\n",
      "'파' : ['1839년', '파'] : [0, 0, 0, 0, 0, 0, 1]\n",
      "'우' : ['1839년', '파우'] : [0, 0, 0, 0, 0, 0, 1, 1]\n",
      "'스' : ['1839년', '파우스'] : [0, 0, 0, 0, 0, 0, 1, 1, 1]\n",
      "'트' : ['1839년', '파우스트'] : [0, 0, 0, 0, 0, 0, 1, 1, 1, 1]\n",
      "'를' : ['1839년', '파우스트를'] : [0, 0, 0, 0, 0, 0, 1, 1, 1, 1, 1]\n",
      "' ' : ['1839년', '파우스트를'] : [0, 0, 0, 0, 0, 0, 1, 1, 1, 1, 1, 1]\n",
      "'읽' : ['1839년', '파우스트를', '읽'] : [0, 0, 0, 0, 0, 0, 1, 1, 1, 1, 1, 1, 2]\n",
      "'었' : ['1839년', '파우스트를', '읽었'] : [0, 0, 0, 0, 0, 0, 1, 1, 1, 1, 1, 1, 2, 2]\n",
      "'다' : ['1839년', '파우스트를', '읽었다'] : [0, 0, 0, 0, 0, 0, 1, 1, 1, 1, 1, 1, 2, 2, 2]\n",
      "'.' : ['1839년', '파우스트를', '읽었다.'] : [0, 0, 0, 0, 0, 0, 1, 1, 1, 1, 1, 1, 2, 2, 2, 2]\n"
     ]
    }
   ],
   "source": [
    "word_tokens = []\n",
    "char_to_word = []\n",
    "prev_is_whitespace = True\n",
    "\n",
    "# 첫번째 문장(string1)에 대해 띄어쓰기 영역 정보를 표시\n",
    "for c in string1:\n",
    "    if _is_whitespace(c):\n",
    "        prev_is_whitespace = True\n",
    "    else:\n",
    "        if prev_is_whitespace:\n",
    "            word_tokens.append(c)\n",
    "        else:\n",
    "            word_tokens[-1] += c\n",
    "        prev_is_whitespace = False    \n",
    "    char_to_word.append(len(word_tokens) - 1)\n",
    "    print(f'\\'{c}\\' : {word_tokens} : {char_to_word}')"
   ]
  },
  {
   "cell_type": "code",
   "execution_count": 9,
   "id": "hungarian-islam",
   "metadata": {},
   "outputs": [
    {
     "name": "stdout",
     "output_type": "stream",
     "text": [
      "'1' : ['1'] : [0]\n",
      "'8' : ['18'] : [0, 0]\n",
      "'3' : ['183'] : [0, 0, 0]\n",
      "'9' : ['1839'] : [0, 0, 0, 0]\n",
      "'년' : ['1839년'] : [0, 0, 0, 0, 0]\n",
      "' ' : ['1839년'] : [0, 0, 0, 0, 0, 0]\n",
      "' ' : ['1839년'] : [0, 0, 0, 0, 0, 0, 0]\n",
      "'파' : ['1839년', '파'] : [0, 0, 0, 0, 0, 0, 0, 1]\n",
      "'우' : ['1839년', '파우'] : [0, 0, 0, 0, 0, 0, 0, 1, 1]\n",
      "'스' : ['1839년', '파우스'] : [0, 0, 0, 0, 0, 0, 0, 1, 1, 1]\n",
      "'트' : ['1839년', '파우스트'] : [0, 0, 0, 0, 0, 0, 0, 1, 1, 1, 1]\n",
      "'를' : ['1839년', '파우스트를'] : [0, 0, 0, 0, 0, 0, 0, 1, 1, 1, 1, 1]\n",
      "' ' : ['1839년', '파우스트를'] : [0, 0, 0, 0, 0, 0, 0, 1, 1, 1, 1, 1, 1]\n",
      "'읽' : ['1839년', '파우스트를', '읽'] : [0, 0, 0, 0, 0, 0, 0, 1, 1, 1, 1, 1, 1, 2]\n",
      "'었' : ['1839년', '파우스트를', '읽었'] : [0, 0, 0, 0, 0, 0, 0, 1, 1, 1, 1, 1, 1, 2, 2]\n",
      "'다' : ['1839년', '파우스트를', '읽었다'] : [0, 0, 0, 0, 0, 0, 0, 1, 1, 1, 1, 1, 1, 2, 2, 2]\n",
      "'.' : ['1839년', '파우스트를', '읽었다.'] : [0, 0, 0, 0, 0, 0, 0, 1, 1, 1, 1, 1, 1, 2, 2, 2, 2]\n"
     ]
    }
   ],
   "source": [
    "word_tokens = []\n",
    "char_to_word = []\n",
    "prev_is_whitespace = True\n",
    "\n",
    "# 두번째 문장(string2)에 대해 띄어쓰기 영역 정보를 표시\n",
    "for c in string2:\n",
    "    if _is_whitespace(c):\n",
    "        prev_is_whitespace = True\n",
    "    else:\n",
    "        if prev_is_whitespace:\n",
    "            word_tokens.append(c)\n",
    "        else:\n",
    "            word_tokens[-1] += c\n",
    "        prev_is_whitespace = False    \n",
    "    char_to_word.append(len(word_tokens) - 1)\n",
    "    print(f'\\'{c}\\' : {word_tokens} : {char_to_word}')"
   ]
  },
  {
   "cell_type": "code",
   "execution_count": 10,
   "id": "inappropriate-ancient",
   "metadata": {},
   "outputs": [],
   "source": [
    "def _tokenize_whitespace(string):\n",
    "    word_tokens = []\n",
    "    char_to_word = []\n",
    "    prev_is_whitespace = True\n",
    "\n",
    "    for c in string:\n",
    "        if _is_whitespace(c):\n",
    "            prev_is_whitespace = True\n",
    "        else:\n",
    "            if prev_is_whitespace:\n",
    "                word_tokens.append(c)\n",
    "            else:\n",
    "                word_tokens[-1] += c\n",
    "            prev_is_whitespace = False    \n",
    "        char_to_word.append(len(word_tokens) - 1)\n",
    "    \n",
    "    return word_tokens, char_to_word"
   ]
  },
  {
   "cell_type": "code",
   "execution_count": 11,
   "id": "alone-current",
   "metadata": {},
   "outputs": [
    {
     "name": "stdout",
     "output_type": "stream",
     "text": [
      "'1' : 0\n",
      "'8' : 0\n",
      "'3' : 0\n",
      "'9' : 0\n",
      "'년' : 0\n",
      "' ' : 0\n",
      "'파' : 1\n",
      "'우' : 1\n",
      "'스' : 1\n",
      "'트' : 1\n",
      "'를' : 1\n",
      "' ' : 1\n",
      "'읽' : 2\n",
      "'었' : 2\n",
      "'다' : 2\n",
      "'.' : 2\n"
     ]
    },
    {
     "data": {
      "text/plain": [
       "(['1839년', '파우스트를', '읽었다.'], [0, 0, 0, 0, 0, 0, 1, 1, 1, 1, 1, 1, 2, 2, 2, 2])"
      ]
     },
     "execution_count": 11,
     "metadata": {},
     "output_type": "execute_result"
    }
   ],
   "source": [
    "# 첫번째 문장(string1)에 대해 띄어쓰기 영역 정보를 표시\n",
    "word_tokens, char_to_word = _tokenize_whitespace(string1)\n",
    "for c, i in zip(list(string1), char_to_word):\n",
    "    print(f'\\'{c}\\' : {i}')\n",
    "\n",
    "word_tokens, char_to_word"
   ]
  },
  {
   "cell_type": "code",
   "execution_count": 12,
   "id": "excess-triple",
   "metadata": {},
   "outputs": [
    {
     "name": "stdout",
     "output_type": "stream",
     "text": [
      "'1' : 0\n",
      "'8' : 0\n",
      "'3' : 0\n",
      "'9' : 0\n",
      "'년' : 0\n",
      "' ' : 0\n",
      "' ' : 0\n",
      "'파' : 1\n",
      "'우' : 1\n",
      "'스' : 1\n",
      "'트' : 1\n",
      "'를' : 1\n",
      "' ' : 1\n",
      "'읽' : 2\n",
      "'었' : 2\n",
      "'다' : 2\n",
      "'.' : 2\n"
     ]
    },
    {
     "data": {
      "text/plain": [
       "(['1839년', '파우스트를', '읽었다.'],\n",
       " [0, 0, 0, 0, 0, 0, 0, 1, 1, 1, 1, 1, 1, 2, 2, 2, 2])"
      ]
     },
     "execution_count": 12,
     "metadata": {},
     "output_type": "execute_result"
    }
   ],
   "source": [
    "# 두번째 문장(string2)에 대해 띄어쓰기 영역 정보를 표시\n",
    "word_tokens, char_to_word = _tokenize_whitespace(string2)\n",
    "for c, i in zip(list(string2), char_to_word):\n",
    "    print(f'\\'{c}\\' : {i}')\n",
    "\n",
    "word_tokens, char_to_word"
   ]
  },
  {
   "cell_type": "markdown",
   "id": "boolean-commonwealth",
   "metadata": {},
   "source": [
    "# Tokenize by Vocab\n",
    "koNLPy 이용 subword 분절"
   ]
  },
  {
   "cell_type": "code",
   "execution_count": 13,
   "id": "czech-tribune",
   "metadata": {},
   "outputs": [
    {
     "data": {
      "text/plain": [
       "(['▁1839', '년', '▁', '파우스트', '를', '▁읽', '었다', '.'], [0, 2, 5])"
      ]
     },
     "execution_count": 13,
     "metadata": {},
     "output_type": "execute_result"
    }
   ],
   "source": [
    "# vocab loading\n",
    "vocab = spm.SentencePieceProcessor()\n",
    "vocab.load(f\"{model_dir}/ko_32000.model\")\n",
    "\n",
    "# word를 subword로 변경하면서 index 저장\n",
    "word_to_token = []\n",
    "context_tokens = []\n",
    "for (i, word) in enumerate(word_tokens):\n",
    "    word_to_token.append(len(context_tokens))\n",
    "    tokens = vocab.encode_as_pieces(word)  # SentencePiece를 사용해 Subword로 쪼갭니다.\n",
    "    for token in tokens:\n",
    "        context_tokens.append(token)\n",
    "\n",
    "context_tokens, word_to_token"
   ]
  },
  {
   "cell_type": "code",
   "execution_count": 14,
   "id": "joint-stationery",
   "metadata": {},
   "outputs": [],
   "source": [
    "def _tokenize_vocab(vocab, context_words):\n",
    "    word_to_token = []\n",
    "    context_tokens = []\n",
    "    for (i, word) in enumerate(context_words):\n",
    "        word_to_token.append(len(context_tokens))\n",
    "        tokens = vocab.encode_as_pieces(word)\n",
    "        for token in tokens:\n",
    "            context_tokens.append(token)\n",
    "    return context_tokens, word_to_token"
   ]
  },
  {
   "cell_type": "code",
   "execution_count": 15,
   "id": "protective-monkey",
   "metadata": {},
   "outputs": [
    {
     "name": "stdout",
     "output_type": "stream",
     "text": [
      "['1839년', '파우스트를', '읽었다.']\n"
     ]
    },
    {
     "data": {
      "text/plain": [
       "(['▁1839', '년', '▁', '파우스트', '를', '▁읽', '었다', '.'], [0, 2, 5])"
      ]
     },
     "execution_count": 15,
     "metadata": {},
     "output_type": "execute_result"
    }
   ],
   "source": [
    "print(word_tokens)  # 처리해야 할 word 단위 입력\n",
    "\n",
    "context_tokens, word_to_token = _tokenize_vocab(vocab, word_tokens)\n",
    "context_tokens, word_to_token   # Subword 단위로 토큰화한 결과"
   ]
  },
  {
   "cell_type": "markdown",
   "id": "visible-rebound",
   "metadata": {},
   "source": [
    "# Improve Span\n",
    "정답에 해당하는 지문영역을 찾음"
   ]
  },
  {
   "cell_type": "code",
   "execution_count": 16,
   "id": "proprietary-token",
   "metadata": {},
   "outputs": [
    {
     "name": "stdout",
     "output_type": "stream",
     "text": [
      "[context]  1839년 바그너는 괴테의 파우스트을 처음 읽고 그 내용에 마음이 끌려 이를 소재로 해서 하나의 교향곡을 쓰려는 뜻을 갖는다. 이 시기 바그너는 1838년에 빛 독촉으로 산전수전을 다 걲은 상황이라 좌절과 실망에 가득했으며 메피스토펠레스를 만나는 파우스트의 심경에 공감했다고 한다. 또한 파리에서 아브네크의 지휘로 파리 음악원 관현악단이 연주하는 베토벤의 교향곡 9번을 듣고 깊은 감명을 받았는데, 이것이 이듬해 1월에 파우스트의 서곡으로 쓰여진 이 작품에 조금이라도 영향을 끼쳤으리라는 것은 의심할 여지가 없다. 여기의 라단조 조성의 경우에도 그의 전기에 적혀 있는 것처럼 단순한 정신적 피로나 실의가 반영된 것이 아니라 베토벤의 합창교향곡 조성의 영향을 받은 것을 볼 수 있다. 그렇게 교향곡 작곡을 1839년부터 40년에 걸쳐 파리에서 착수했으나 1악장을 쓴 뒤에 중단했다. 또한 작품의 완성과 동시에 그는 이 서곡(1악장)을 파리 음악원의 연주회에서 연주할 파트보까지 준비하였으나, 실제로는 이루어지지는 않았다. 결국 초연은 4년 반이 지난 후에 드레스덴에서 연주되었고 재연도 이루어졌지만, 이후에 그대로 방치되고 말았다. 그 사이에 그는 리엔치와 방황하는 네덜란드인을 완성하고 탄호이저에도 착수하는 등 분주한 시간을 보냈는데, 그런 바쁜 생활이 이 곡을 잊게 한 것이 아닌가 하는 의견도 있다.\n",
      "[question]  바그너는 괴테의 파우스트를 읽고 무엇을 쓰고자 했는가?\n",
      "[answer]  교향곡\n",
      "[answer_start] index:  54 character:  교\n",
      "[answer_end]index:  56 character:  곡\n"
     ]
    }
   ],
   "source": [
    "context = train_json['data'][0]['paragraphs'][0]['context']\n",
    "question = train_json['data'][0]['paragraphs'][0]['qas'][0]['question']\n",
    "answer_text = train_json['data'][0]['paragraphs'][0]['qas'][0]['answers'][0]['text']\n",
    "answer_start = train_json['data'][0]['paragraphs'][0]['qas'][0]['answers'][0]['answer_start']\n",
    "answer_end = answer_start + len(answer_text) - 1\n",
    "\n",
    "print('[context] ', context)\n",
    "print('[question] ', question)\n",
    "print('[answer] ', answer_text)\n",
    "print('[answer_start] index: ', answer_start, 'character: ', context[answer_start])\n",
    "print('[answer_end]index: ', answer_end, 'character: ', context[answer_end])\n",
    "\n",
    "# answer_text에 해당하는 context 영역을 정확히 찾아내야 합니다. \n",
    "assert context[answer_start:answer_end + 1] == answer_text"
   ]
  },
  {
   "cell_type": "code",
   "execution_count": 17,
   "id": "ignored-cycling",
   "metadata": {},
   "outputs": [
    {
     "name": "stdout",
     "output_type": "stream",
     "text": [
      "['1839년', '바그너는', '괴테의', '파우스트을', '처음', '읽고', '그', '내용에', '마음이', '끌려', '이를', '소재로', '해서', '하나의', '교향곡을', '쓰려는', '뜻을', '갖는다.', '이', '시기']\n"
     ]
    },
    {
     "data": {
      "text/plain": [
       "([0, 0, 0, 0, 0, 0, 1, 1, 1, 1, 1, 2, 2, 2, 2, 3, 3, 3, 3, 3],\n",
       " '1839년 바그너는 괴테의 파우스트을')"
      ]
     },
     "execution_count": 17,
     "metadata": {},
     "output_type": "execute_result"
    }
   ],
   "source": [
    "# context를 띄어쓰기(word) 단위로 토큰화한 결과를 살펴봅니다. \n",
    "word_tokens, char_to_word = _tokenize_whitespace(context)\n",
    "\n",
    "print( word_tokens[:20])\n",
    "\n",
    "char_to_word[:20], context[:20]"
   ]
  },
  {
   "cell_type": "code",
   "execution_count": 18,
   "id": "western-florida",
   "metadata": {},
   "outputs": [
    {
     "name": "stdout",
     "output_type": "stream",
     "text": [
      "0 ['▁1839', '년']\n",
      "2 ['▁바그너', '는']\n",
      "4 ['▁괴테', '의']\n",
      "6 ['▁', '파우스트', '을']\n",
      "9 ['▁처음']\n",
      "10 ['▁읽고']\n",
      "11 ['▁그']\n",
      "12 ['▁내용에']\n",
      "13 ['▁마음이']\n",
      "14 ['▁끌려']\n",
      "15 ['▁이를']\n",
      "16 ['▁소재로']\n",
      "17 ['▁해서']\n",
      "18 ['▁하나의']\n",
      "19 ['▁교향곡', '을']\n",
      "21 ['▁쓰', '려는']\n",
      "23 ['▁뜻을']\n",
      "24 ['▁갖는다', '.']\n",
      "26 ['▁이']\n",
      "27 ['▁시기']\n"
     ]
    }
   ],
   "source": [
    "# 띄어쓰기(word) 단위로 쪼개진 context(word_tokens)를 Subword로 토큰화한 결과를 살펴봅니다. \n",
    "context_tokens, word_to_token = _tokenize_vocab(vocab, word_tokens)\n",
    "for i in range(min(20, len(word_to_token) - 1)):\n",
    "    print(word_to_token[i], context_tokens[word_to_token[i]:word_to_token[i + 1]])"
   ]
  },
  {
   "cell_type": "code",
   "execution_count": 19,
   "id": "conscious-stress",
   "metadata": {},
   "outputs": [
    {
     "data": {
      "text/plain": [
       "(14, 14, '교향곡', ['교향곡을'])"
      ]
     },
     "execution_count": 19,
     "metadata": {},
     "output_type": "execute_result"
    }
   ],
   "source": [
    "# answer_start와 answer_end로부터 word_start와 word_end를 구합니다. \n",
    "word_start = char_to_word[answer_start]\n",
    "word_end = char_to_word[answer_end]\n",
    "word_start, word_end, answer_text, word_tokens[word_start:word_end + 1]"
   ]
  },
  {
   "cell_type": "code",
   "execution_count": 20,
   "id": "preceding-ukraine",
   "metadata": {},
   "outputs": [
    {
     "data": {
      "text/plain": [
       "(19, 20, ['▁교향곡', '을'])"
      ]
     },
     "execution_count": 20,
     "metadata": {},
     "output_type": "execute_result"
    }
   ],
   "source": [
    "token_start = word_to_token[word_start]\n",
    "if word_end < len(word_to_token) - 1:\n",
    "    token_end = word_to_token[word_end + 1] - 1\n",
    "else:\n",
    "    token_end = len(context_tokens) - 1\n",
    "token_start, token_end, context_tokens[token_start:token_end + 1]"
   ]
  },
  {
   "cell_type": "code",
   "execution_count": 21,
   "id": "liberal-hughes",
   "metadata": {},
   "outputs": [
    {
     "data": {
      "text/plain": [
       "'▁교향곡'"
      ]
     },
     "execution_count": 21,
     "metadata": {},
     "output_type": "execute_result"
    }
   ],
   "source": [
    "# 실제 정답인 answer_text도 Subword 기준으로 토큰화해 둡니다. \n",
    "token_answer = \" \".join(vocab.encode_as_pieces(answer_text))\n",
    "token_answer"
   ]
  },
  {
   "cell_type": "code",
   "execution_count": 22,
   "id": "herbal-complement",
   "metadata": {},
   "outputs": [
    {
     "name": "stdout",
     "output_type": "stream",
     "text": [
      "X >> (19, 20) ▁교향곡 을\n",
      "O >> (19, 19) ▁교향곡\n",
      "X >> (20, 20) 을\n"
     ]
    }
   ],
   "source": [
    "# 정답이 될수 있는 new_start와 new_end의 경우를 순회탐색합니다. \n",
    "for new_start in range(token_start, token_end + 1):\n",
    "    for new_end in range(token_end, new_start - 1, -1):\n",
    "        text_span = \" \".join(context_tokens[new_start : (new_end + 1)])\n",
    "        if text_span == token_answer:   # 정답과 일치하는 경우\n",
    "            print(\"O >>\", (new_start, new_end), text_span)\n",
    "        else:\n",
    "            print(\"X >>\", (new_start, new_end), text_span)"
   ]
  },
  {
   "cell_type": "code",
   "execution_count": 23,
   "id": "indirect-tyler",
   "metadata": {},
   "outputs": [],
   "source": [
    "# context_tokens에서 char_answer의 위치를 찾아 리턴하는 함수\n",
    "def _improve_span(vocab, context_tokens, token_start, token_end, char_answer):\n",
    "    token_answer = \" \".join(vocab.encode_as_pieces(char_answer))\n",
    "    for new_start in range(token_start, token_end + 1):\n",
    "        for new_end in range(token_end, new_start - 1, -1):\n",
    "            text_span = \" \".join(context_tokens[new_start : (new_end + 1)])\n",
    "            if text_span == token_answer:\n",
    "                return (new_start, new_end)\n",
    "    return (token_start, token_end)"
   ]
  },
  {
   "cell_type": "code",
   "execution_count": 24,
   "id": "finite-parking",
   "metadata": {},
   "outputs": [
    {
     "name": "stdout",
     "output_type": "stream",
     "text": [
      "token_start: 19  token_end: 19\n"
     ]
    },
    {
     "data": {
      "text/plain": [
       "['▁교향곡']"
      ]
     },
     "execution_count": 24,
     "metadata": {},
     "output_type": "execute_result"
    }
   ],
   "source": [
    "token_start, token_end = _improve_span(vocab, context_tokens, token_start, token_end, answer_text)\n",
    "print('token_start:', token_start, ' token_end:', token_end)\n",
    "context_tokens[token_start:token_end + 1]"
   ]
  },
  {
   "cell_type": "markdown",
   "id": "conscious-shape",
   "metadata": {},
   "source": [
    "# 데이터셋 분리"
   ]
  },
  {
   "cell_type": "code",
   "execution_count": 25,
   "id": "greater-eating",
   "metadata": {},
   "outputs": [],
   "source": [
    "def dump_korquad(vocab, json_data, out_file):\n",
    "    with open(out_file, \"w\") as f:\n",
    "        for data in tqdm(json_data[\"data\"]):\n",
    "            title = data[\"title\"]\n",
    "            for paragraph in data[\"paragraphs\"]:\n",
    "                context = paragraph[\"context\"]\n",
    "                context_words, char_to_word = _tokenize_whitespace(context)\n",
    "\n",
    "                for qa in paragraph[\"qas\"]:\n",
    "                    assert len(qa[\"answers\"]) == 1\n",
    "                    qa_id = qa[\"id\"]\n",
    "                    question = qa[\"question\"]\n",
    "                    answer_text = qa[\"answers\"][0][\"text\"]\n",
    "                    answer_start = qa[\"answers\"][0][\"answer_start\"]\n",
    "                    answer_end = answer_start + len(answer_text) - 1\n",
    "\n",
    "                    assert answer_text == context[answer_start:answer_end + 1]\n",
    "\n",
    "                    word_start = char_to_word[answer_start]\n",
    "                    word_end = char_to_word[answer_end]\n",
    "\n",
    "                    word_answer = \" \".join(context_words[word_start:word_end + 1])\n",
    "                    char_answer = \" \".join(answer_text.strip().split())\n",
    "                    assert char_answer in word_answer\n",
    "\n",
    "                    context_tokens, word_to_token = _tokenize_vocab(vocab, context_words)\n",
    "\n",
    "                    token_start = word_to_token[word_start]\n",
    "                    if word_end < len(word_to_token) - 1:\n",
    "                        token_end = word_to_token[word_end + 1] - 1\n",
    "                    else:\n",
    "                        token_end = len(context_tokens) - 1\n",
    "\n",
    "                    token_start, token_end = _improve_span(vocab, context_tokens, token_start, token_end, char_answer)\n",
    "\n",
    "                    data = {\"qa_id\": qa_id, \"title\": title, \"question\": vocab.encode_as_pieces(question), \"context\": context_tokens, \"answer\": char_answer, \"token_start\": token_start, \"token_end\":token_end}\n",
    "                    f.write(json.dumps(data, ensure_ascii=False))\n",
    "                    f.write(\"\\n\")"
   ]
  },
  {
   "cell_type": "code",
   "execution_count": 26,
   "id": "statistical-mortality",
   "metadata": {},
   "outputs": [
    {
     "data": {
      "application/vnd.jupyter.widget-view+json": {
       "model_id": "588d8af814dc497db7dd91dd75cd4508",
       "version_major": 2,
       "version_minor": 0
      },
      "text/plain": [
       "  0%|          | 0/1420 [00:00<?, ?it/s]"
      ]
     },
     "metadata": {},
     "output_type": "display_data"
    },
    {
     "data": {
      "application/vnd.jupyter.widget-view+json": {
       "model_id": "8d5e2011bdc544f7ae2e12122e085489",
       "version_major": 2,
       "version_minor": 0
      },
      "text/plain": [
       "  0%|          | 0/140 [00:00<?, ?it/s]"
      ]
     },
     "metadata": {},
     "output_type": "display_data"
    }
   ],
   "source": [
    "# 전처리를 수행하여 파일로 생성합니다. \n",
    "dump_korquad(vocab, train_json, f\"{data_dir}/korquad_train.json\")\n",
    "dump_korquad(vocab, dev_json, f\"{data_dir}/korquad_dev.json\")"
   ]
  },
  {
   "cell_type": "code",
   "execution_count": 27,
   "id": "smaller-thong",
   "metadata": {},
   "outputs": [
    {
     "name": "stdout",
     "output_type": "stream",
     "text": [
      "{\"qa_id\": \"6566495-0-0\", \"title\": \"파우스트_서곡\", \"question\": [\"▁바그너\", \"는\", \"▁괴테\", \"의\", \"▁\", \"파우스트\", \"를\", \"▁읽고\", \"▁무엇을\", \"▁쓰고\", \"자\", \"▁\", \"했\", \"는\", \"가\", \"?\"], \"context\": [\"▁1839\", \"년\", \"▁바그너\", \"는\", \"▁괴테\", \"의\", \"▁\", \"파우스트\", \"을\", \"▁처음\", \"▁읽고\", \"▁그\", \"▁내용에\", \"▁마음이\", \"▁끌려\", \"▁이를\", \"▁소재로\", \"▁해서\", \"▁하나의\", \"▁교향곡\", \"을\", \"▁쓰\", \"려는\", \"▁뜻을\", \"▁갖는다\", \".\", \"▁이\", \"▁시기\", \"▁바그너\", \"는\", \"▁1838\", \"년에\", \"▁빛\", \"▁독\", \"촉\", \"으로\", \"▁산\", \"전\", \"수\", \"전을\", \"▁다\", \"▁\", \"걲\", \"은\", \"▁상황이\", \"라\", \"▁좌절\", \"과\", \"▁실망\", \"에\", \"▁가득\", \"했으며\", \"▁메\", \"피스\", \"토\", \"펠\", \"레스\", \"를\", \"▁만나는\", \"▁\", \"파우스트\", \"의\", \"▁심\", \"경에\", \"▁공감\", \"했다고\", \"▁한다\", \".\", \"▁또한\", \"▁파리에서\", \"▁아브\", \"네\", \"크의\", \"▁지휘\", \"로\", \"▁파리\", \"▁음악원\", \"▁관현악단\", \"이\", \"▁연주하는\", \"▁베토벤\", \"의\", \"▁교향곡\", \"▁9\", \"번을\", \"▁듣고\", \"▁깊은\", \"▁감\", \"명을\", \"▁받았는데\", \",\", \"▁이것이\", \"▁이듬해\", \"▁1\", \"월에\", \"▁\", \"파우스트\", \"의\", \"▁서\", \"곡으로\", \"▁쓰여진\", \"▁이\", \"▁작품에\", \"▁조금\", \"이라도\", \"▁영향을\", \"▁끼\", \"쳤\", \"으리라\", \"는\", \"▁것은\", \"▁의심\", \"할\", \"▁여지가\", \"▁없다\", \".\", \"▁여기\", \"의\", \"▁라\", \"단\", \"조\", \"▁조성\", \"의\", \"▁경우에도\", \"▁그의\", \"▁전기\", \"에\", \"▁적혀\", \"▁있는\", \"▁것처럼\", \"▁단순한\", \"▁정신적\", \"▁피로\", \"나\", \"▁실\", \"의\", \"가\", \"▁반영\", \"된\", \"▁것이\", \"▁아니라\", \"▁베토벤\", \"의\", \"▁합창\", \"교\", \"향\", \"곡\", \"▁조성\", \"의\", \"▁영향을\", \"▁받은\", \"▁것을\", \"▁볼\", \"▁수\", \"▁있다\", \".\", \"▁그렇게\", \"▁교향곡\", \"▁작곡\", \"을\", \"▁1839\", \"년부터\", \"▁40\", \"년에\", \"▁걸쳐\", \"▁파리에서\", \"▁착수\", \"했으나\", \"▁1\", \"악장\", \"을\", \"▁쓴\", \"▁뒤에\", \"▁중단\", \"했다\", \".\", \"▁또한\", \"▁작품의\", \"▁완성\", \"과\", \"▁동시에\", \"▁그는\", \"▁이\", \"▁서\", \"곡\", \"(1\", \"악장\", \")\", \"을\", \"▁파리\", \"▁음악원\", \"의\", \"▁연주회\", \"에서\", \"▁연주\", \"할\", \"▁파트\", \"보\", \"까지\", \"▁준비\", \"하였으나\", \",\", \"▁실제로는\", \"▁이루어지지\", \"는\", \"▁않았다\", \".\", \"▁결국\", \"▁초연\", \"은\", \"▁4\", \"년\", \"▁반\", \"이\", \"▁지난\", \"▁후에\", \"▁드레스덴\", \"에서\", \"▁연주\", \"되었고\", \"▁재\", \"연\", \"도\", \"▁이루어졌\", \"지만\", \",\", \"▁이후에\", \"▁그대로\", \"▁방치\", \"되고\", \"▁말았다\", \".\", \"▁그\", \"▁사이에\", \"▁그는\", \"▁리\", \"엔\", \"치\", \"와\", \"▁방\", \"황\", \"하는\", \"▁네덜란드\", \"인\", \"을\", \"▁완성\", \"하고\", \"▁탄\", \"호\", \"이\", \"저\", \"에도\", \"▁착수\", \"하는\", \"▁등\", \"▁분\", \"주\", \"한\", \"▁시간을\", \"▁보\", \"냈는데\", \",\", \"▁그런\", \"▁바쁜\", \"▁생활\", \"이\", \"▁이\", \"▁곡을\", \"▁잊\", \"게\", \"▁한\", \"▁것이\", \"▁아닌\", \"가\", \"▁하는\", \"▁의견도\", \"▁있다\", \".\"], \"answer\": \"교향곡\", \"token_start\": 19, \"token_end\": 19}\n",
      "{\"qa_id\": \"6566495-0-1\", \"title\": \"파우스트_서곡\", \"question\": [\"▁바그너\", \"는\", \"▁교향곡\", \"▁작곡\", \"을\", \"▁어디\", \"까지\", \"▁쓴\", \"▁뒤에\", \"▁중단\", \"했\", \"는\", \"가\", \"?\"], \"context\": [\"▁1839\", \"년\", \"▁바그너\", \"는\", \"▁괴테\", \"의\", \"▁\", \"파우스트\", \"을\", \"▁처음\", \"▁읽고\", \"▁그\", \"▁내용에\", \"▁마음이\", \"▁끌려\", \"▁이를\", \"▁소재로\", \"▁해서\", \"▁하나의\", \"▁교향곡\", \"을\", \"▁쓰\", \"려는\", \"▁뜻을\", \"▁갖는다\", \".\", \"▁이\", \"▁시기\", \"▁바그너\", \"는\", \"▁1838\", \"년에\", \"▁빛\", \"▁독\", \"촉\", \"으로\", \"▁산\", \"전\", \"수\", \"전을\", \"▁다\", \"▁\", \"걲\", \"은\", \"▁상황이\", \"라\", \"▁좌절\", \"과\", \"▁실망\", \"에\", \"▁가득\", \"했으며\", \"▁메\", \"피스\", \"토\", \"펠\", \"레스\", \"를\", \"▁만나는\", \"▁\", \"파우스트\", \"의\", \"▁심\", \"경에\", \"▁공감\", \"했다고\", \"▁한다\", \".\", \"▁또한\", \"▁파리에서\", \"▁아브\", \"네\", \"크의\", \"▁지휘\", \"로\", \"▁파리\", \"▁음악원\", \"▁관현악단\", \"이\", \"▁연주하는\", \"▁베토벤\", \"의\", \"▁교향곡\", \"▁9\", \"번을\", \"▁듣고\", \"▁깊은\", \"▁감\", \"명을\", \"▁받았는데\", \",\", \"▁이것이\", \"▁이듬해\", \"▁1\", \"월에\", \"▁\", \"파우스트\", \"의\", \"▁서\", \"곡으로\", \"▁쓰여진\", \"▁이\", \"▁작품에\", \"▁조금\", \"이라도\", \"▁영향을\", \"▁끼\", \"쳤\", \"으리라\", \"는\", \"▁것은\", \"▁의심\", \"할\", \"▁여지가\", \"▁없다\", \".\", \"▁여기\", \"의\", \"▁라\", \"단\", \"조\", \"▁조성\", \"의\", \"▁경우에도\", \"▁그의\", \"▁전기\", \"에\", \"▁적혀\", \"▁있는\", \"▁것처럼\", \"▁단순한\", \"▁정신적\", \"▁피로\", \"나\", \"▁실\", \"의\", \"가\", \"▁반영\", \"된\", \"▁것이\", \"▁아니라\", \"▁베토벤\", \"의\", \"▁합창\", \"교\", \"향\", \"곡\", \"▁조성\", \"의\", \"▁영향을\", \"▁받은\", \"▁것을\", \"▁볼\", \"▁수\", \"▁있다\", \".\", \"▁그렇게\", \"▁교향곡\", \"▁작곡\", \"을\", \"▁1839\", \"년부터\", \"▁40\", \"년에\", \"▁걸쳐\", \"▁파리에서\", \"▁착수\", \"했으나\", \"▁1\", \"악장\", \"을\", \"▁쓴\", \"▁뒤에\", \"▁중단\", \"했다\", \".\", \"▁또한\", \"▁작품의\", \"▁완성\", \"과\", \"▁동시에\", \"▁그는\", \"▁이\", \"▁서\", \"곡\", \"(1\", \"악장\", \")\", \"을\", \"▁파리\", \"▁음악원\", \"의\", \"▁연주회\", \"에서\", \"▁연주\", \"할\", \"▁파트\", \"보\", \"까지\", \"▁준비\", \"하였으나\", \",\", \"▁실제로는\", \"▁이루어지지\", \"는\", \"▁않았다\", \".\", \"▁결국\", \"▁초연\", \"은\", \"▁4\", \"년\", \"▁반\", \"이\", \"▁지난\", \"▁후에\", \"▁드레스덴\", \"에서\", \"▁연주\", \"되었고\", \"▁재\", \"연\", \"도\", \"▁이루어졌\", \"지만\", \",\", \"▁이후에\", \"▁그대로\", \"▁방치\", \"되고\", \"▁말았다\", \".\", \"▁그\", \"▁사이에\", \"▁그는\", \"▁리\", \"엔\", \"치\", \"와\", \"▁방\", \"황\", \"하는\", \"▁네덜란드\", \"인\", \"을\", \"▁완성\", \"하고\", \"▁탄\", \"호\", \"이\", \"저\", \"에도\", \"▁착수\", \"하는\", \"▁등\", \"▁분\", \"주\", \"한\", \"▁시간을\", \"▁보\", \"냈는데\", \",\", \"▁그런\", \"▁바쁜\", \"▁생활\", \"이\", \"▁이\", \"▁곡을\", \"▁잊\", \"게\", \"▁한\", \"▁것이\", \"▁아닌\", \"가\", \"▁하는\", \"▁의견도\", \"▁있다\", \".\"], \"answer\": \"1악장\", \"token_start\": 168, \"token_end\": 169}\n",
      "{\"qa_id\": \"6566495-0-2\", \"title\": \"파우스트_서곡\", \"question\": [\"▁바그너\", \"가\", \"▁\", \"파우스트\", \"▁서\", \"곡을\", \"▁쓸\", \"▁때\", \"▁어떤\", \"▁곡\", \"의\", \"▁영향을\", \"▁받았\", \"는\", \"가\", \"?\"], \"context\": [\"▁1839\", \"년\", \"▁바그너\", \"는\", \"▁괴테\", \"의\", \"▁\", \"파우스트\", \"을\", \"▁처음\", \"▁읽고\", \"▁그\", \"▁내용에\", \"▁마음이\", \"▁끌려\", \"▁이를\", \"▁소재로\", \"▁해서\", \"▁하나의\", \"▁교향곡\", \"을\", \"▁쓰\", \"려는\", \"▁뜻을\", \"▁갖는다\", \".\", \"▁이\", \"▁시기\", \"▁바그너\", \"는\", \"▁1838\", \"년에\", \"▁빛\", \"▁독\", \"촉\", \"으로\", \"▁산\", \"전\", \"수\", \"전을\", \"▁다\", \"▁\", \"걲\", \"은\", \"▁상황이\", \"라\", \"▁좌절\", \"과\", \"▁실망\", \"에\", \"▁가득\", \"했으며\", \"▁메\", \"피스\", \"토\", \"펠\", \"레스\", \"를\", \"▁만나는\", \"▁\", \"파우스트\", \"의\", \"▁심\", \"경에\", \"▁공감\", \"했다고\", \"▁한다\", \".\", \"▁또한\", \"▁파리에서\", \"▁아브\", \"네\", \"크의\", \"▁지휘\", \"로\", \"▁파리\", \"▁음악원\", \"▁관현악단\", \"이\", \"▁연주하는\", \"▁베토벤\", \"의\", \"▁교향곡\", \"▁9\", \"번을\", \"▁듣고\", \"▁깊은\", \"▁감\", \"명을\", \"▁받았는데\", \",\", \"▁이것이\", \"▁이듬해\", \"▁1\", \"월에\", \"▁\", \"파우스트\", \"의\", \"▁서\", \"곡으로\", \"▁쓰여진\", \"▁이\", \"▁작품에\", \"▁조금\", \"이라도\", \"▁영향을\", \"▁끼\", \"쳤\", \"으리라\", \"는\", \"▁것은\", \"▁의심\", \"할\", \"▁여지가\", \"▁없다\", \".\", \"▁여기\", \"의\", \"▁라\", \"단\", \"조\", \"▁조성\", \"의\", \"▁경우에도\", \"▁그의\", \"▁전기\", \"에\", \"▁적혀\", \"▁있는\", \"▁것처럼\", \"▁단순한\", \"▁정신적\", \"▁피로\", \"나\", \"▁실\", \"의\", \"가\", \"▁반영\", \"된\", \"▁것이\", \"▁아니라\", \"▁베토벤\", \"의\", \"▁합창\", \"교\", \"향\", \"곡\", \"▁조성\", \"의\", \"▁영향을\", \"▁받은\", \"▁것을\", \"▁볼\", \"▁수\", \"▁있다\", \".\", \"▁그렇게\", \"▁교향곡\", \"▁작곡\", \"을\", \"▁1839\", \"년부터\", \"▁40\", \"년에\", \"▁걸쳐\", \"▁파리에서\", \"▁착수\", \"했으나\", \"▁1\", \"악장\", \"을\", \"▁쓴\", \"▁뒤에\", \"▁중단\", \"했다\", \".\", \"▁또한\", \"▁작품의\", \"▁완성\", \"과\", \"▁동시에\", \"▁그는\", \"▁이\", \"▁서\", \"곡\", \"(1\", \"악장\", \")\", \"을\", \"▁파리\", \"▁음악원\", \"의\", \"▁연주회\", \"에서\", \"▁연주\", \"할\", \"▁파트\", \"보\", \"까지\", \"▁준비\", \"하였으나\", \",\", \"▁실제로는\", \"▁이루어지지\", \"는\", \"▁않았다\", \".\", \"▁결국\", \"▁초연\", \"은\", \"▁4\", \"년\", \"▁반\", \"이\", \"▁지난\", \"▁후에\", \"▁드레스덴\", \"에서\", \"▁연주\", \"되었고\", \"▁재\", \"연\", \"도\", \"▁이루어졌\", \"지만\", \",\", \"▁이후에\", \"▁그대로\", \"▁방치\", \"되고\", \"▁말았다\", \".\", \"▁그\", \"▁사이에\", \"▁그는\", \"▁리\", \"엔\", \"치\", \"와\", \"▁방\", \"황\", \"하는\", \"▁네덜란드\", \"인\", \"을\", \"▁완성\", \"하고\", \"▁탄\", \"호\", \"이\", \"저\", \"에도\", \"▁착수\", \"하는\", \"▁등\", \"▁분\", \"주\", \"한\", \"▁시간을\", \"▁보\", \"냈는데\", \",\", \"▁그런\", \"▁바쁜\", \"▁생활\", \"이\", \"▁이\", \"▁곡을\", \"▁잊\", \"게\", \"▁한\", \"▁것이\", \"▁아닌\", \"가\", \"▁하는\", \"▁의견도\", \"▁있다\", \".\"], \"answer\": \"베토벤의 교향곡 9번\", \"token_start\": 80, \"token_end\": 84}\n",
      "{\"qa_id\": \"6566518-0-0\", \"title\": \"파우스트_서곡\", \"question\": [\"▁1839\", \"년\", \"▁바그너\", \"가\", \"▁교향곡\", \"의\", \"▁소재로\", \"▁쓰\", \"려고\", \"▁했던\", \"▁책은\", \"?\"], \"context\": [\"▁1839\", \"년\", \"▁바그너\", \"는\", \"▁괴테\", \"의\", \"▁\", \"파우스트\", \"을\", \"▁처음\", \"▁읽고\", \"▁그\", \"▁내용에\", \"▁마음이\", \"▁끌려\", \"▁이를\", \"▁소재로\", \"▁해서\", \"▁하나의\", \"▁교향곡\", \"을\", \"▁쓰\", \"려는\", \"▁뜻을\", \"▁갖는다\", \".\", \"▁이\", \"▁시기\", \"▁바그너\", \"는\", \"▁1838\", \"년에\", \"▁빛\", \"▁독\", \"촉\", \"으로\", \"▁산\", \"전\", \"수\", \"전을\", \"▁다\", \"▁\", \"걲\", \"은\", \"▁상황이\", \"라\", \"▁좌절\", \"과\", \"▁실망\", \"에\", \"▁가득\", \"했으며\", \"▁메\", \"피스\", \"토\", \"펠\", \"레스\", \"를\", \"▁만나는\", \"▁\", \"파우스트\", \"의\", \"▁심\", \"경에\", \"▁공감\", \"했다고\", \"▁한다\", \".\", \"▁또한\", \"▁파리에서\", \"▁아브\", \"네\", \"크의\", \"▁지휘\", \"로\", \"▁파리\", \"▁음악원\", \"▁관현악단\", \"이\", \"▁연주하는\", \"▁베토벤\", \"의\", \"▁교향곡\", \"▁9\", \"번을\", \"▁듣고\", \"▁깊은\", \"▁감\", \"명을\", \"▁받았는데\", \",\", \"▁이것이\", \"▁이듬해\", \"▁1\", \"월에\", \"▁\", \"파우스트\", \"의\", \"▁서\", \"곡으로\", \"▁쓰여진\", \"▁이\", \"▁작품에\", \"▁조금\", \"이라도\", \"▁영향을\", \"▁끼\", \"쳤\", \"으리라\", \"는\", \"▁것은\", \"▁의심\", \"할\", \"▁여지가\", \"▁없다\", \".\", \"▁여기\", \"의\", \"▁라\", \"단\", \"조\", \"▁조성\", \"의\", \"▁경우에도\", \"▁그의\", \"▁전기\", \"에\", \"▁적혀\", \"▁있는\", \"▁것처럼\", \"▁단순한\", \"▁정신적\", \"▁피로\", \"나\", \"▁실\", \"의\", \"가\", \"▁반영\", \"된\", \"▁것이\", \"▁아니라\", \"▁베토벤\", \"의\", \"▁합창\", \"교\", \"향\", \"곡\", \"▁조성\", \"의\", \"▁영향을\", \"▁받은\", \"▁것을\", \"▁볼\", \"▁수\", \"▁있다\", \".\", \"▁그렇게\", \"▁교향곡\", \"▁작곡\", \"을\", \"▁1839\", \"년부터\", \"▁40\", \"년에\", \"▁걸쳐\", \"▁파리에서\", \"▁착수\", \"했으나\", \"▁1\", \"악장\", \"을\", \"▁쓴\", \"▁뒤에\", \"▁중단\", \"했다\", \".\", \"▁또한\", \"▁작품의\", \"▁완성\", \"과\", \"▁동시에\", \"▁그는\", \"▁이\", \"▁서\", \"곡\", \"(1\", \"악장\", \")\", \"을\", \"▁파리\", \"▁음악원\", \"의\", \"▁연주회\", \"에서\", \"▁연주\", \"할\", \"▁파트\", \"보\", \"까지\", \"▁준비\", \"하였으나\", \",\", \"▁실제로는\", \"▁이루어지지\", \"는\", \"▁않았다\", \".\", \"▁결국\", \"▁초연\", \"은\", \"▁4\", \"년\", \"▁반\", \"이\", \"▁지난\", \"▁후에\", \"▁드레스덴\", \"에서\", \"▁연주\", \"되었고\", \"▁재\", \"연\", \"도\", \"▁이루어졌\", \"지만\", \",\", \"▁이후에\", \"▁그대로\", \"▁방치\", \"되고\", \"▁말았다\", \".\", \"▁그\", \"▁사이에\", \"▁그는\", \"▁리\", \"엔\", \"치\", \"와\", \"▁방\", \"황\", \"하는\", \"▁네덜란드\", \"인\", \"을\", \"▁완성\", \"하고\", \"▁탄\", \"호\", \"이\", \"저\", \"에도\", \"▁착수\", \"하는\", \"▁등\", \"▁분\", \"주\", \"한\", \"▁시간을\", \"▁보\", \"냈는데\", \",\", \"▁그런\", \"▁바쁜\", \"▁생활\", \"이\", \"▁이\", \"▁곡을\", \"▁잊\", \"게\", \"▁한\", \"▁것이\", \"▁아닌\", \"가\", \"▁하는\", \"▁의견도\", \"▁있다\", \".\"], \"answer\": \"파우스트\", \"token_start\": 6, \"token_end\": 7}\n",
      "{\"qa_id\": \"6566518-0-1\", \"title\": \"파우스트_서곡\", \"question\": [\"▁\", \"파우스트\", \"▁서\", \"곡\", \"의\", \"▁라\", \"단\", \"조\", \"▁조성\", \"이\", \"▁영향을\", \"▁받은\", \"▁베토벤\", \"의\", \"▁곡은\", \"?\"], \"context\": [\"▁1839\", \"년\", \"▁바그너\", \"는\", \"▁괴테\", \"의\", \"▁\", \"파우스트\", \"을\", \"▁처음\", \"▁읽고\", \"▁그\", \"▁내용에\", \"▁마음이\", \"▁끌려\", \"▁이를\", \"▁소재로\", \"▁해서\", \"▁하나의\", \"▁교향곡\", \"을\", \"▁쓰\", \"려는\", \"▁뜻을\", \"▁갖는다\", \".\", \"▁이\", \"▁시기\", \"▁바그너\", \"는\", \"▁1838\", \"년에\", \"▁빛\", \"▁독\", \"촉\", \"으로\", \"▁산\", \"전\", \"수\", \"전을\", \"▁다\", \"▁\", \"걲\", \"은\", \"▁상황이\", \"라\", \"▁좌절\", \"과\", \"▁실망\", \"에\", \"▁가득\", \"했으며\", \"▁메\", \"피스\", \"토\", \"펠\", \"레스\", \"를\", \"▁만나는\", \"▁\", \"파우스트\", \"의\", \"▁심\", \"경에\", \"▁공감\", \"했다고\", \"▁한다\", \".\", \"▁또한\", \"▁파리에서\", \"▁아브\", \"네\", \"크의\", \"▁지휘\", \"로\", \"▁파리\", \"▁음악원\", \"▁관현악단\", \"이\", \"▁연주하는\", \"▁베토벤\", \"의\", \"▁교향곡\", \"▁9\", \"번을\", \"▁듣고\", \"▁깊은\", \"▁감\", \"명을\", \"▁받았는데\", \",\", \"▁이것이\", \"▁이듬해\", \"▁1\", \"월에\", \"▁\", \"파우스트\", \"의\", \"▁서\", \"곡으로\", \"▁쓰여진\", \"▁이\", \"▁작품에\", \"▁조금\", \"이라도\", \"▁영향을\", \"▁끼\", \"쳤\", \"으리라\", \"는\", \"▁것은\", \"▁의심\", \"할\", \"▁여지가\", \"▁없다\", \".\", \"▁여기\", \"의\", \"▁라\", \"단\", \"조\", \"▁조성\", \"의\", \"▁경우에도\", \"▁그의\", \"▁전기\", \"에\", \"▁적혀\", \"▁있는\", \"▁것처럼\", \"▁단순한\", \"▁정신적\", \"▁피로\", \"나\", \"▁실\", \"의\", \"가\", \"▁반영\", \"된\", \"▁것이\", \"▁아니라\", \"▁베토벤\", \"의\", \"▁합창\", \"교\", \"향\", \"곡\", \"▁조성\", \"의\", \"▁영향을\", \"▁받은\", \"▁것을\", \"▁볼\", \"▁수\", \"▁있다\", \".\", \"▁그렇게\", \"▁교향곡\", \"▁작곡\", \"을\", \"▁1839\", \"년부터\", \"▁40\", \"년에\", \"▁걸쳐\", \"▁파리에서\", \"▁착수\", \"했으나\", \"▁1\", \"악장\", \"을\", \"▁쓴\", \"▁뒤에\", \"▁중단\", \"했다\", \".\", \"▁또한\", \"▁작품의\", \"▁완성\", \"과\", \"▁동시에\", \"▁그는\", \"▁이\", \"▁서\", \"곡\", \"(1\", \"악장\", \")\", \"을\", \"▁파리\", \"▁음악원\", \"의\", \"▁연주회\", \"에서\", \"▁연주\", \"할\", \"▁파트\", \"보\", \"까지\", \"▁준비\", \"하였으나\", \",\", \"▁실제로는\", \"▁이루어지지\", \"는\", \"▁않았다\", \".\", \"▁결국\", \"▁초연\", \"은\", \"▁4\", \"년\", \"▁반\", \"이\", \"▁지난\", \"▁후에\", \"▁드레스덴\", \"에서\", \"▁연주\", \"되었고\", \"▁재\", \"연\", \"도\", \"▁이루어졌\", \"지만\", \",\", \"▁이후에\", \"▁그대로\", \"▁방치\", \"되고\", \"▁말았다\", \".\", \"▁그\", \"▁사이에\", \"▁그는\", \"▁리\", \"엔\", \"치\", \"와\", \"▁방\", \"황\", \"하는\", \"▁네덜란드\", \"인\", \"을\", \"▁완성\", \"하고\", \"▁탄\", \"호\", \"이\", \"저\", \"에도\", \"▁착수\", \"하는\", \"▁등\", \"▁분\", \"주\", \"한\", \"▁시간을\", \"▁보\", \"냈는데\", \",\", \"▁그런\", \"▁바쁜\", \"▁생활\", \"이\", \"▁이\", \"▁곡을\", \"▁잊\", \"게\", \"▁한\", \"▁것이\", \"▁아닌\", \"가\", \"▁하는\", \"▁의견도\", \"▁있다\", \".\"], \"answer\": \"합창교향곡\", \"token_start\": 143, \"token_end\": 146}\n",
      "{\"qa_id\": \"5917067-0-0\", \"title\": \"파우스트_서곡\", \"question\": [\"▁바그너\", \"가\", \"▁\", \"파우스트\", \"를\", \"▁처음으로\", \"▁읽\", \"은\", \"▁\", \"년\", \"도\", \"는\", \"?\"], \"context\": [\"▁1839\", \"년\", \"▁바그너\", \"는\", \"▁괴테\", \"의\", \"▁\", \"파우스트\", \"을\", \"▁처음\", \"▁읽고\", \"▁그\", \"▁내용에\", \"▁마음이\", \"▁끌려\", \"▁이를\", \"▁소재로\", \"▁해서\", \"▁하나의\", \"▁교향곡\", \"을\", \"▁쓰\", \"려는\", \"▁뜻을\", \"▁갖는다\", \".\", \"▁이\", \"▁시기\", \"▁바그너\", \"는\", \"▁1838\", \"년에\", \"▁빛\", \"▁독\", \"촉\", \"으로\", \"▁산\", \"전\", \"수\", \"전을\", \"▁다\", \"▁\", \"걲\", \"은\", \"▁상황이\", \"라\", \"▁좌절\", \"과\", \"▁실망\", \"에\", \"▁가득\", \"했으며\", \"▁메\", \"피스\", \"토\", \"펠\", \"레스\", \"를\", \"▁만나는\", \"▁\", \"파우스트\", \"의\", \"▁심\", \"경에\", \"▁공감\", \"했다고\", \"▁한다\", \".\", \"▁또한\", \"▁파리에서\", \"▁아브\", \"네\", \"크의\", \"▁지휘\", \"로\", \"▁파리\", \"▁음악원\", \"▁관현악단\", \"이\", \"▁연주하는\", \"▁베토벤\", \"의\", \"▁교향곡\", \"▁9\", \"번을\", \"▁듣고\", \"▁깊은\", \"▁감\", \"명을\", \"▁받았는데\", \",\", \"▁이것이\", \"▁이듬해\", \"▁1\", \"월에\", \"▁\", \"파우스트\", \"의\", \"▁서\", \"곡으로\", \"▁쓰여진\", \"▁이\", \"▁작품에\", \"▁조금\", \"이라도\", \"▁영향을\", \"▁끼\", \"쳤\", \"으리라\", \"는\", \"▁것은\", \"▁의심\", \"할\", \"▁여지가\", \"▁없다\", \".\", \"▁여기\", \"의\", \"▁라\", \"단\", \"조\", \"▁조성\", \"의\", \"▁경우에도\", \"▁그의\", \"▁전기\", \"에\", \"▁적혀\", \"▁있는\", \"▁것처럼\", \"▁단순한\", \"▁정신적\", \"▁피로\", \"나\", \"▁실\", \"의\", \"가\", \"▁반영\", \"된\", \"▁것이\", \"▁아니라\", \"▁베토벤\", \"의\", \"▁합창\", \"교\", \"향\", \"곡\", \"▁조성\", \"의\", \"▁영향을\", \"▁받은\", \"▁것을\", \"▁볼\", \"▁수\", \"▁있다\", \".\", \"▁그렇게\", \"▁교향곡\", \"▁작곡\", \"을\", \"▁1839\", \"년부터\", \"▁40\", \"년에\", \"▁걸쳐\", \"▁파리에서\", \"▁착수\", \"했으나\", \"▁1\", \"악장\", \"을\", \"▁쓴\", \"▁뒤에\", \"▁중단\", \"했다\", \".\", \"▁또한\", \"▁작품의\", \"▁완성\", \"과\", \"▁동시에\", \"▁그는\", \"▁이\", \"▁서\", \"곡\", \"(1\", \"악장\", \")\", \"을\", \"▁파리\", \"▁음악원\", \"의\", \"▁연주회\", \"에서\", \"▁연주\", \"할\", \"▁파트\", \"보\", \"까지\", \"▁준비\", \"하였으나\", \",\", \"▁실제로는\", \"▁이루어지지\", \"는\", \"▁않았다\", \".\", \"▁결국\", \"▁초연\", \"은\", \"▁4\", \"년\", \"▁반\", \"이\", \"▁지난\", \"▁후에\", \"▁드레스덴\", \"에서\", \"▁연주\", \"되었고\", \"▁재\", \"연\", \"도\", \"▁이루어졌\", \"지만\", \",\", \"▁이후에\", \"▁그대로\", \"▁방치\", \"되고\", \"▁말았다\", \".\", \"▁그\", \"▁사이에\", \"▁그는\", \"▁리\", \"엔\", \"치\", \"와\", \"▁방\", \"황\", \"하는\", \"▁네덜란드\", \"인\", \"을\", \"▁완성\", \"하고\", \"▁탄\", \"호\", \"이\", \"저\", \"에도\", \"▁착수\", \"하는\", \"▁등\", \"▁분\", \"주\", \"한\", \"▁시간을\", \"▁보\", \"냈는데\", \",\", \"▁그런\", \"▁바쁜\", \"▁생활\", \"이\", \"▁이\", \"▁곡을\", \"▁잊\", \"게\", \"▁한\", \"▁것이\", \"▁아닌\", \"가\", \"▁하는\", \"▁의견도\", \"▁있다\", \".\"], \"answer\": \"1839\", \"token_start\": 0, \"token_end\": 0}\n",
      "{\"qa_id\": \"5917067-0-1\", \"title\": \"파우스트_서곡\", \"question\": [\"▁바그너\", \"가\", \"▁처음\", \"▁교향곡\", \"▁작곡\", \"을\", \"▁한\", \"▁장소\", \"는\", \"?\"], \"context\": [\"▁1839\", \"년\", \"▁바그너\", \"는\", \"▁괴테\", \"의\", \"▁\", \"파우스트\", \"을\", \"▁처음\", \"▁읽고\", \"▁그\", \"▁내용에\", \"▁마음이\", \"▁끌려\", \"▁이를\", \"▁소재로\", \"▁해서\", \"▁하나의\", \"▁교향곡\", \"을\", \"▁쓰\", \"려는\", \"▁뜻을\", \"▁갖는다\", \".\", \"▁이\", \"▁시기\", \"▁바그너\", \"는\", \"▁1838\", \"년에\", \"▁빛\", \"▁독\", \"촉\", \"으로\", \"▁산\", \"전\", \"수\", \"전을\", \"▁다\", \"▁\", \"걲\", \"은\", \"▁상황이\", \"라\", \"▁좌절\", \"과\", \"▁실망\", \"에\", \"▁가득\", \"했으며\", \"▁메\", \"피스\", \"토\", \"펠\", \"레스\", \"를\", \"▁만나는\", \"▁\", \"파우스트\", \"의\", \"▁심\", \"경에\", \"▁공감\", \"했다고\", \"▁한다\", \".\", \"▁또한\", \"▁파리에서\", \"▁아브\", \"네\", \"크의\", \"▁지휘\", \"로\", \"▁파리\", \"▁음악원\", \"▁관현악단\", \"이\", \"▁연주하는\", \"▁베토벤\", \"의\", \"▁교향곡\", \"▁9\", \"번을\", \"▁듣고\", \"▁깊은\", \"▁감\", \"명을\", \"▁받았는데\", \",\", \"▁이것이\", \"▁이듬해\", \"▁1\", \"월에\", \"▁\", \"파우스트\", \"의\", \"▁서\", \"곡으로\", \"▁쓰여진\", \"▁이\", \"▁작품에\", \"▁조금\", \"이라도\", \"▁영향을\", \"▁끼\", \"쳤\", \"으리라\", \"는\", \"▁것은\", \"▁의심\", \"할\", \"▁여지가\", \"▁없다\", \".\", \"▁여기\", \"의\", \"▁라\", \"단\", \"조\", \"▁조성\", \"의\", \"▁경우에도\", \"▁그의\", \"▁전기\", \"에\", \"▁적혀\", \"▁있는\", \"▁것처럼\", \"▁단순한\", \"▁정신적\", \"▁피로\", \"나\", \"▁실\", \"의\", \"가\", \"▁반영\", \"된\", \"▁것이\", \"▁아니라\", \"▁베토벤\", \"의\", \"▁합창\", \"교\", \"향\", \"곡\", \"▁조성\", \"의\", \"▁영향을\", \"▁받은\", \"▁것을\", \"▁볼\", \"▁수\", \"▁있다\", \".\", \"▁그렇게\", \"▁교향곡\", \"▁작곡\", \"을\", \"▁1839\", \"년부터\", \"▁40\", \"년에\", \"▁걸쳐\", \"▁파리에서\", \"▁착수\", \"했으나\", \"▁1\", \"악장\", \"을\", \"▁쓴\", \"▁뒤에\", \"▁중단\", \"했다\", \".\", \"▁또한\", \"▁작품의\", \"▁완성\", \"과\", \"▁동시에\", \"▁그는\", \"▁이\", \"▁서\", \"곡\", \"(1\", \"악장\", \")\", \"을\", \"▁파리\", \"▁음악원\", \"의\", \"▁연주회\", \"에서\", \"▁연주\", \"할\", \"▁파트\", \"보\", \"까지\", \"▁준비\", \"하였으나\", \",\", \"▁실제로는\", \"▁이루어지지\", \"는\", \"▁않았다\", \".\", \"▁결국\", \"▁초연\", \"은\", \"▁4\", \"년\", \"▁반\", \"이\", \"▁지난\", \"▁후에\", \"▁드레스덴\", \"에서\", \"▁연주\", \"되었고\", \"▁재\", \"연\", \"도\", \"▁이루어졌\", \"지만\", \",\", \"▁이후에\", \"▁그대로\", \"▁방치\", \"되고\", \"▁말았다\", \".\", \"▁그\", \"▁사이에\", \"▁그는\", \"▁리\", \"엔\", \"치\", \"와\", \"▁방\", \"황\", \"하는\", \"▁네덜란드\", \"인\", \"을\", \"▁완성\", \"하고\", \"▁탄\", \"호\", \"이\", \"저\", \"에도\", \"▁착수\", \"하는\", \"▁등\", \"▁분\", \"주\", \"한\", \"▁시간을\", \"▁보\", \"냈는데\", \",\", \"▁그런\", \"▁바쁜\", \"▁생활\", \"이\", \"▁이\", \"▁곡을\", \"▁잊\", \"게\", \"▁한\", \"▁것이\", \"▁아닌\", \"가\", \"▁하는\", \"▁의견도\", \"▁있다\", \".\"], \"answer\": \"파리\", \"token_start\": 165, \"token_end\": 165}\n",
      "{\"qa_id\": \"5917067-0-2\", \"title\": \"파우스트_서곡\", \"question\": [\"▁바그너\", \"의\", \"▁1\", \"악장\", \"의\", \"▁초연\", \"은\", \"▁어디서\", \"▁연주\", \"되었\", \"는\", \"가\", \"?\"], \"context\": [\"▁1839\", \"년\", \"▁바그너\", \"는\", \"▁괴테\", \"의\", \"▁\", \"파우스트\", \"을\", \"▁처음\", \"▁읽고\", \"▁그\", \"▁내용에\", \"▁마음이\", \"▁끌려\", \"▁이를\", \"▁소재로\", \"▁해서\", \"▁하나의\", \"▁교향곡\", \"을\", \"▁쓰\", \"려는\", \"▁뜻을\", \"▁갖는다\", \".\", \"▁이\", \"▁시기\", \"▁바그너\", \"는\", \"▁1838\", \"년에\", \"▁빛\", \"▁독\", \"촉\", \"으로\", \"▁산\", \"전\", \"수\", \"전을\", \"▁다\", \"▁\", \"걲\", \"은\", \"▁상황이\", \"라\", \"▁좌절\", \"과\", \"▁실망\", \"에\", \"▁가득\", \"했으며\", \"▁메\", \"피스\", \"토\", \"펠\", \"레스\", \"를\", \"▁만나는\", \"▁\", \"파우스트\", \"의\", \"▁심\", \"경에\", \"▁공감\", \"했다고\", \"▁한다\", \".\", \"▁또한\", \"▁파리에서\", \"▁아브\", \"네\", \"크의\", \"▁지휘\", \"로\", \"▁파리\", \"▁음악원\", \"▁관현악단\", \"이\", \"▁연주하는\", \"▁베토벤\", \"의\", \"▁교향곡\", \"▁9\", \"번을\", \"▁듣고\", \"▁깊은\", \"▁감\", \"명을\", \"▁받았는데\", \",\", \"▁이것이\", \"▁이듬해\", \"▁1\", \"월에\", \"▁\", \"파우스트\", \"의\", \"▁서\", \"곡으로\", \"▁쓰여진\", \"▁이\", \"▁작품에\", \"▁조금\", \"이라도\", \"▁영향을\", \"▁끼\", \"쳤\", \"으리라\", \"는\", \"▁것은\", \"▁의심\", \"할\", \"▁여지가\", \"▁없다\", \".\", \"▁여기\", \"의\", \"▁라\", \"단\", \"조\", \"▁조성\", \"의\", \"▁경우에도\", \"▁그의\", \"▁전기\", \"에\", \"▁적혀\", \"▁있는\", \"▁것처럼\", \"▁단순한\", \"▁정신적\", \"▁피로\", \"나\", \"▁실\", \"의\", \"가\", \"▁반영\", \"된\", \"▁것이\", \"▁아니라\", \"▁베토벤\", \"의\", \"▁합창\", \"교\", \"향\", \"곡\", \"▁조성\", \"의\", \"▁영향을\", \"▁받은\", \"▁것을\", \"▁볼\", \"▁수\", \"▁있다\", \".\", \"▁그렇게\", \"▁교향곡\", \"▁작곡\", \"을\", \"▁1839\", \"년부터\", \"▁40\", \"년에\", \"▁걸쳐\", \"▁파리에서\", \"▁착수\", \"했으나\", \"▁1\", \"악장\", \"을\", \"▁쓴\", \"▁뒤에\", \"▁중단\", \"했다\", \".\", \"▁또한\", \"▁작품의\", \"▁완성\", \"과\", \"▁동시에\", \"▁그는\", \"▁이\", \"▁서\", \"곡\", \"(1\", \"악장\", \")\", \"을\", \"▁파리\", \"▁음악원\", \"의\", \"▁연주회\", \"에서\", \"▁연주\", \"할\", \"▁파트\", \"보\", \"까지\", \"▁준비\", \"하였으나\", \",\", \"▁실제로는\", \"▁이루어지지\", \"는\", \"▁않았다\", \".\", \"▁결국\", \"▁초연\", \"은\", \"▁4\", \"년\", \"▁반\", \"이\", \"▁지난\", \"▁후에\", \"▁드레스덴\", \"에서\", \"▁연주\", \"되었고\", \"▁재\", \"연\", \"도\", \"▁이루어졌\", \"지만\", \",\", \"▁이후에\", \"▁그대로\", \"▁방치\", \"되고\", \"▁말았다\", \".\", \"▁그\", \"▁사이에\", \"▁그는\", \"▁리\", \"엔\", \"치\", \"와\", \"▁방\", \"황\", \"하는\", \"▁네덜란드\", \"인\", \"을\", \"▁완성\", \"하고\", \"▁탄\", \"호\", \"이\", \"저\", \"에도\", \"▁착수\", \"하는\", \"▁등\", \"▁분\", \"주\", \"한\", \"▁시간을\", \"▁보\", \"냈는데\", \",\", \"▁그런\", \"▁바쁜\", \"▁생활\", \"이\", \"▁이\", \"▁곡을\", \"▁잊\", \"게\", \"▁한\", \"▁것이\", \"▁아닌\", \"가\", \"▁하는\", \"▁의견도\", \"▁있다\", \".\"], \"answer\": \"드레스덴\", \"token_start\": 216, \"token_end\": 216}\n",
      "{\"qa_id\": \"6566495-1-0\", \"title\": \"파우스트_서곡\", \"question\": [\"▁바그너\", \"의\", \"▁작품을\", \"▁시인\", \"의\", \"▁피로\", \"▁쓰여\", \"졌다\", \"고\", \"▁극찬\", \"한\", \"▁것은\", \"▁누구\", \"인\", \"가\", \"?\"], \"context\": [\"▁한편\", \"▁1840\", \"년부터\", \"▁바그너\", \"와\", \"▁알고\", \"▁지내던\", \"▁리스트\", \"가\", \"▁잊\", \"혀\", \"져\", \"▁있던\", \"▁1\", \"악장\", \"을\", \"▁부활\", \"시켜\", \"▁1852\", \"년에\", \"▁바이마르\", \"에서\", \"▁연주\", \"했다\", \".\", \"▁이것을\", \"▁계기로\", \"▁바그너\", \"도\", \"▁이\", \"▁작품에\", \"▁다시\", \"▁관심을\", \"▁갖게\", \"▁되었고\", \",\", \"▁그\", \"▁해\", \"▁9\", \"월에는\", \"▁총\", \"보\", \"의\", \"▁반환\", \"을\", \"▁요구\", \"하여\", \"▁이를\", \"▁서\", \"곡으로\", \"▁간\", \"추\", \"린\", \"▁다음\", \"▁수정\", \"을\", \"▁했고\", \"▁브\", \"라이트\", \"코프\", \"흐\", \"▁&\", \"▁헤르\", \"텔\", \"▁출판사\", \"에서\", \"▁출판\", \"할\", \"▁개정\", \"판\", \"도\", \"▁준비\", \"했다\", \".\", \"▁1853\", \"년\", \"▁5\", \"월에는\", \"▁리스트\", \"가\", \"▁이\", \"▁작품이\", \"▁수정\", \"되었다\", \"는\", \"▁것을\", \"▁인정\", \"했지만\", \",\", \"▁끝내\", \"▁바그너\", \"의\", \"▁출판\", \"▁계획은\", \"▁무산\", \"되고\", \"▁말았다\", \".\", \"▁이후\", \"▁1855\", \"년에\", \"▁리스트\", \"가\", \"▁자신의\", \"▁작품\", \"▁\", \"파우스트\", \"▁교향곡\", \"을\", \"▁거의\", \"▁완성\", \"하여\", \"▁그\", \"▁사실을\", \"▁바그너\", \"에게\", \"▁알\", \"렸고\", \",\", \"▁바그너\", \"는\", \"▁다시\", \"▁개정된\", \"▁총\", \"보를\", \"▁리스트\", \"에게\", \"▁보내고\", \"▁브\", \"라이트\", \"코프\", \"흐\", \"▁&\", \"▁헤르\", \"텔\", \"▁출판사\", \"에는\", \"▁20\", \"루이\", \"의\", \"▁금\", \"을\", \"▁받고\", \"▁팔았다\", \".\", \"▁또한\", \"▁그의\", \"▁작품을\", \"▁“\", \"하나\", \"하나\", \"의\", \"▁음\", \"표\", \"가\", \"▁시인\", \"의\", \"▁피로\", \"▁쓰여\", \"졌다\", \"”\", \"며\", \"▁극찬\", \"했던\", \"▁한스\", \"▁폰\", \"▁\", \"뷜\", \"로\", \"가\", \"▁그것을\", \"▁피아노\", \"▁독주\", \"용으로\", \"▁편곡\", \"했는데\", \",\", \"▁리스트\", \"는\", \"▁그것을\", \"▁약간\", \"▁변형\", \"되었을\", \"▁뿐\", \"이라고\", \"▁지적했다\", \".\", \"▁이\", \"▁서\", \"곡\", \"의\", \"▁총\", \"보\", \"▁첫\", \"머리\", \"에는\", \"▁\", \"파우스트\", \"▁1\", \"부의\", \"▁내용\", \"▁중\", \"▁한\", \"▁구절\", \"을\", \"▁인용\", \"하고\", \"▁있다\", \".\"], \"answer\": \"한스 폰 뷜로\", \"token_start\": 164, \"token_end\": 168}\n",
      "{\"qa_id\": \"6566495-1-1\", \"title\": \"파우스트_서곡\", \"question\": [\"▁잊\", \"혀\", \"져\", \"▁있는\", \"▁\", \"파우스트\", \"▁서\", \"곡\", \"▁1\", \"악장\", \"을\", \"▁부활\", \"시킨\", \"▁것은\", \"▁누구\", \"인\", \"가\", \"?\"], \"context\": [\"▁한편\", \"▁1840\", \"년부터\", \"▁바그너\", \"와\", \"▁알고\", \"▁지내던\", \"▁리스트\", \"가\", \"▁잊\", \"혀\", \"져\", \"▁있던\", \"▁1\", \"악장\", \"을\", \"▁부활\", \"시켜\", \"▁1852\", \"년에\", \"▁바이마르\", \"에서\", \"▁연주\", \"했다\", \".\", \"▁이것을\", \"▁계기로\", \"▁바그너\", \"도\", \"▁이\", \"▁작품에\", \"▁다시\", \"▁관심을\", \"▁갖게\", \"▁되었고\", \",\", \"▁그\", \"▁해\", \"▁9\", \"월에는\", \"▁총\", \"보\", \"의\", \"▁반환\", \"을\", \"▁요구\", \"하여\", \"▁이를\", \"▁서\", \"곡으로\", \"▁간\", \"추\", \"린\", \"▁다음\", \"▁수정\", \"을\", \"▁했고\", \"▁브\", \"라이트\", \"코프\", \"흐\", \"▁&\", \"▁헤르\", \"텔\", \"▁출판사\", \"에서\", \"▁출판\", \"할\", \"▁개정\", \"판\", \"도\", \"▁준비\", \"했다\", \".\", \"▁1853\", \"년\", \"▁5\", \"월에는\", \"▁리스트\", \"가\", \"▁이\", \"▁작품이\", \"▁수정\", \"되었다\", \"는\", \"▁것을\", \"▁인정\", \"했지만\", \",\", \"▁끝내\", \"▁바그너\", \"의\", \"▁출판\", \"▁계획은\", \"▁무산\", \"되고\", \"▁말았다\", \".\", \"▁이후\", \"▁1855\", \"년에\", \"▁리스트\", \"가\", \"▁자신의\", \"▁작품\", \"▁\", \"파우스트\", \"▁교향곡\", \"을\", \"▁거의\", \"▁완성\", \"하여\", \"▁그\", \"▁사실을\", \"▁바그너\", \"에게\", \"▁알\", \"렸고\", \",\", \"▁바그너\", \"는\", \"▁다시\", \"▁개정된\", \"▁총\", \"보를\", \"▁리스트\", \"에게\", \"▁보내고\", \"▁브\", \"라이트\", \"코프\", \"흐\", \"▁&\", \"▁헤르\", \"텔\", \"▁출판사\", \"에는\", \"▁20\", \"루이\", \"의\", \"▁금\", \"을\", \"▁받고\", \"▁팔았다\", \".\", \"▁또한\", \"▁그의\", \"▁작품을\", \"▁“\", \"하나\", \"하나\", \"의\", \"▁음\", \"표\", \"가\", \"▁시인\", \"의\", \"▁피로\", \"▁쓰여\", \"졌다\", \"”\", \"며\", \"▁극찬\", \"했던\", \"▁한스\", \"▁폰\", \"▁\", \"뷜\", \"로\", \"가\", \"▁그것을\", \"▁피아노\", \"▁독주\", \"용으로\", \"▁편곡\", \"했는데\", \",\", \"▁리스트\", \"는\", \"▁그것을\", \"▁약간\", \"▁변형\", \"되었을\", \"▁뿐\", \"이라고\", \"▁지적했다\", \".\", \"▁이\", \"▁서\", \"곡\", \"의\", \"▁총\", \"보\", \"▁첫\", \"머리\", \"에는\", \"▁\", \"파우스트\", \"▁1\", \"부의\", \"▁내용\", \"▁중\", \"▁한\", \"▁구절\", \"을\", \"▁인용\", \"하고\", \"▁있다\", \".\"], \"answer\": \"리스트\", \"token_start\": 7, \"token_end\": 7}\n"
     ]
    }
   ],
   "source": [
    "def print_file(filename, count=10):\n",
    "    \"\"\"\n",
    "    파일 내용 출력\n",
    "    :param filename: 파일 이름\n",
    "    :param count: 출력 라인 수\n",
    "    \"\"\"\n",
    "    with open(filename) as f:\n",
    "        for i, line in enumerate(f):\n",
    "            if count <= i:\n",
    "                break\n",
    "            print(line.strip())\n",
    "\n",
    "print_file(f\"{data_dir}/korquad_train.json\")"
   ]
  },
  {
   "cell_type": "markdown",
   "id": "interpreted-scotland",
   "metadata": {},
   "source": [
    "# 데이터 분석 : Question"
   ]
  },
  {
   "cell_type": "code",
   "execution_count": 28,
   "id": "equivalent-finding",
   "metadata": {},
   "outputs": [
    {
     "name": "stdout",
     "output_type": "stream",
     "text": [
      "19 ['▁바그너', '는', '▁괴테', '의', '▁', '파우스트', '를', '▁읽고', '▁무엇을', '▁쓰고', '자', '▁', '했', '는', '가', '?']\n",
      "168 ['▁바그너', '는', '▁교향곡', '▁작곡', '을', '▁어디', '까지', '▁쓴', '▁뒤에', '▁중단', '했', '는', '가', '?']\n",
      "80 ['▁바그너', '가', '▁', '파우스트', '▁서', '곡을', '▁쓸', '▁때', '▁어떤', '▁곡', '의', '▁영향을', '▁받았', '는', '가', '?']\n",
      "6 ['▁1839', '년', '▁바그너', '가', '▁교향곡', '의', '▁소재로', '▁쓰', '려고', '▁했던', '▁책은', '?']\n",
      "143 ['▁', '파우스트', '▁서', '곡', '의', '▁라', '단', '조', '▁조성', '이', '▁영향을', '▁받은', '▁베토벤', '의', '▁곡은', '?']\n",
      "0 ['▁바그너', '가', '▁', '파우스트', '를', '▁처음으로', '▁읽', '은', '▁', '년', '도', '는', '?']\n",
      "165 ['▁바그너', '가', '▁처음', '▁교향곡', '▁작곡', '을', '▁한', '▁장소', '는', '?']\n",
      "216 ['▁바그너', '의', '▁1', '악장', '의', '▁초연', '은', '▁어디서', '▁연주', '되었', '는', '가', '?']\n",
      "164 ['▁바그너', '의', '▁작품을', '▁시인', '의', '▁피로', '▁쓰여', '졌다', '고', '▁극찬', '한', '▁것은', '▁누구', '인', '가', '?']\n",
      "7 ['▁잊', '혀', '져', '▁있는', '▁', '파우스트', '▁서', '곡', '▁1', '악장', '을', '▁부활', '시킨', '▁것은', '▁누구', '인', '가', '?']\n"
     ]
    }
   ],
   "source": [
    "questions = []\n",
    "contexts = []\n",
    "token_starts = []\n",
    "with open(f\"{data_dir}/korquad_train.json\") as f:\n",
    "    for i, line in enumerate(f):\n",
    "        data = json.loads(line)\n",
    "        questions.append(data[\"question\"])\n",
    "        contexts.append(data[\"context\"])\n",
    "        token_starts.append(data[\"token_start\"])\n",
    "        if i < 10:\n",
    "            print(data[\"token_start\"], data[\"question\"])"
   ]
  },
  {
   "cell_type": "code",
   "execution_count": 29,
   "id": "practical-ending",
   "metadata": {},
   "outputs": [
    {
     "data": {
      "text/plain": [
       "[16, 14, 16, 12, 16, 13, 10, 13, 16, 18]"
      ]
     },
     "execution_count": 29,
     "metadata": {},
     "output_type": "execute_result"
    }
   ],
   "source": [
    "# token count\n",
    "train_question_counts = [len(question) for question in questions]\n",
    "train_question_counts[:10]"
   ]
  },
  {
   "cell_type": "code",
   "execution_count": 30,
   "id": "vanilla-platinum",
   "metadata": {},
   "outputs": [
    {
     "data": {
      "image/png": "[encoded data removed]",
      "text/plain": [
       "<Figure size 576x288 with 1 Axes>"
      ]
     },
     "metadata": {
      "needs_background": "light"
     },
     "output_type": "display_data"
    }
   ],
   "source": [
    "# 그래프에 대한 이미지 사이즈 선언\n",
    "# figsize: (가로, 세로) 형태의 튜플로 입력\n",
    "plt.figure(figsize=(8, 4))\n",
    "# histogram 선언\n",
    "# bins: 히스토그램 값들에 대한 버켓 범위, \n",
    "# range: x축 값의 범위\n",
    "# facecolor: 그래프 색상\n",
    "# label: 그래프에 대한 라벨\n",
    "plt.hist(train_question_counts, bins=100, range=[0, 100], facecolor='b', label='train')\n",
    "# 그래프 제목\n",
    "plt.title('Count of question')\n",
    "# 그래프 x 축 라벨\n",
    "plt.xlabel('Number of question')\n",
    "# 그래프 y 축 라벨\n",
    "plt.ylabel('Count of question')\n",
    "plt.show()"
   ]
  },
  {
   "cell_type": "code",
   "execution_count": 31,
   "id": "olive-measurement",
   "metadata": {},
   "outputs": [
    {
     "name": "stdout",
     "output_type": "stream",
     "text": [
      "question 길이 최대:      58\n",
      "question 길이 최소:       3\n",
      "question 길이 평균:      15.25\n",
      "question 길이 표준편차:    5.50\n",
      "question 25/100분위:    11.00\n",
      "question 50/100분위:    14.00\n",
      "question 75/100분위:    18.00\n",
      "question IQR:           7.00\n",
      "question MAX/100분위:   28.50\n"
     ]
    }
   ],
   "source": [
    "# 데이터 길이\n",
    "print(f\"question 길이 최대:    {np.max(train_question_counts):4d}\")\n",
    "print(f\"question 길이 최소:    {np.min(train_question_counts):4d}\")\n",
    "print(f\"question 길이 평균:    {np.mean(train_question_counts):7.2f}\")\n",
    "print(f\"question 길이 표준편차: {np.std(train_question_counts):7.2f}\")\n",
    "# https://ko.wikipedia.org/wiki/%EB%B0%B1%EB%B6%84%EC%9C%84%EC%88%98\n",
    "# 백분위수(Percentile)는 크기가 있는 값들로 이뤄진 자료를 순서대로 나열했을 때 백분율로 나타낸 특정 위치의 값을 이르는 용어이다.\n",
    "# 일반적으로 크기가 작은 것부터 나열하여 가장 작은 것을 0, 가장 큰 것을 100으로 한다.\n",
    "# 100개의 값을 가진 어떤 자료의 20 백분위수는 그 자료의 값들 중 20번째로 작은 값을 뜻한다. 50 백분위수는 중앙값과 같다.\n",
    "percentile25 = np.percentile(train_question_counts, 25)\n",
    "percentile50 = np.percentile(train_question_counts, 50)\n",
    "percentile75 = np.percentile(train_question_counts, 75)\n",
    "percentileIQR = percentile75 - percentile25\n",
    "percentileMAX = percentile75 + percentileIQR * 1.5\n",
    "print(f\"question 25/100분위:  {percentile25:7.2f}\")\n",
    "print(f\"question 50/100분위:  {percentile50:7.2f}\")\n",
    "print(f\"question 75/100분위:  {percentile75:7.2f}\")\n",
    "print(f\"question IQR:        {percentileIQR:7.2f}\")\n",
    "print(f\"question MAX/100분위: {percentileMAX:7.2f}\")"
   ]
  },
  {
   "cell_type": "code",
   "execution_count": 32,
   "id": "leading-warrant",
   "metadata": {},
   "outputs": [
    {
     "data": {
      "image/png": "[encoded data removed]",
      "text/plain": [
       "<Figure size 288x432 with 1 Axes>"
      ]
     },
     "metadata": {
      "needs_background": "light"
     },
     "output_type": "display_data"
    }
   ],
   "source": [
    "plt.figure(figsize=(4, 6))\n",
    "# 박스플롯 생성\n",
    "# 첫번째 파라메터: 여러 분포에 대한 데이터 리스트를\n",
    "# labels: 입력한 데이터에 대한 라벨\n",
    "# showmeans: 평균값을 표현\n",
    "# 참고: https://leebaro.tistory.com/entry/%EB%B0%95%EC%8A%A4-%ED%94%8C%EB%A1%AFbox-plot-%EC%84%A4%EB%AA%85\n",
    "plt.boxplot(train_question_counts, labels=['token counts'], showmeans=True)\n",
    "plt.show()"
   ]
  },
  {
   "cell_type": "markdown",
   "id": "killing-large",
   "metadata": {},
   "source": [
    "# 데이터 분석 : Context"
   ]
  },
  {
   "cell_type": "code",
   "execution_count": 33,
   "id": "downtown-dragon",
   "metadata": {},
   "outputs": [
    {
     "data": {
      "text/plain": [
       "[278, 278, 278, 278, 278, 278, 278, 278, 209, 209]"
      ]
     },
     "execution_count": 33,
     "metadata": {},
     "output_type": "execute_result"
    }
   ],
   "source": [
    "# token count\n",
    "train_context_counts = [len(context) for context in contexts]\n",
    "train_context_counts[:10]"
   ]
  },
  {
   "cell_type": "code",
   "execution_count": 34,
   "id": "elementary-chester",
   "metadata": {},
   "outputs": [
    {
     "data": {
      "image/png": "[encoded data removed]",
      "text/plain": [
       "<Figure size 576x288 with 1 Axes>"
      ]
     },
     "metadata": {
      "needs_background": "light"
     },
     "output_type": "display_data"
    }
   ],
   "source": [
    "# 그래프에 대한 이미지 사이즈 선언\n",
    "# figsize: (가로, 세로) 형태의 튜플로 입력\n",
    "plt.figure(figsize=(8, 4))\n",
    "# histogram 선언\n",
    "# bins: 히스토그램 값들에 대한 버켓 범위, \n",
    "# range: x축 값의 범위\n",
    "# facecolor: 그래프 색상\n",
    "# label: 그래프에 대한 라벨\n",
    "plt.hist(train_context_counts, bins=900, range=[100, 1000], facecolor='r', label='train')\n",
    "# 그래프 제목\n",
    "plt.title('Count of context')\n",
    "# 그래프 x 축 라벨\n",
    "plt.xlabel('Number of context')\n",
    "# 그래프 y 축 라벨\n",
    "plt.ylabel('Count of context')\n",
    "plt.show()"
   ]
  },
  {
   "cell_type": "code",
   "execution_count": 35,
   "id": "divided-bruce",
   "metadata": {},
   "outputs": [
    {
     "name": "stdout",
     "output_type": "stream",
     "text": [
      "context 길이 최대:    4816\n",
      "context 길이 최소:     108\n",
      "context 길이 평균:     222.84\n",
      "context 길이 표준편차:   97.68\n",
      "context 25/100분위:   169.00\n",
      "context 50/100분위:   199.00\n",
      "context 75/100분위:   248.00\n",
      "context IQR:          79.00\n",
      "context MAX/100분위:  366.50\n"
     ]
    }
   ],
   "source": [
    "# 데이터 길이\n",
    "print(f\"context 길이 최대:    {np.max(train_context_counts):4d}\")\n",
    "print(f\"context 길이 최소:    {np.min(train_context_counts):4d}\")\n",
    "print(f\"context 길이 평균:    {np.mean(train_context_counts):7.2f}\")\n",
    "print(f\"context 길이 표준편차: {np.std(train_context_counts):7.2f}\")\n",
    "# https://ko.wikipedia.org/wiki/%EB%B0%B1%EB%B6%84%EC%9C%84%EC%88%98\n",
    "# 백분위수(Percentile)는 크기가 있는 값들로 이뤄진 자료를 순서대로 나열했을 때 백분율로 나타낸 특정 위치의 값을 이르는 용어이다.\n",
    "# 일반적으로 크기가 작은 것부터 나열하여 가장 작은 것을 0, 가장 큰 것을 100으로 한다.\n",
    "# 100개의 값을 가진 어떤 자료의 20 백분위수는 그 자료의 값들 중 20번째로 작은 값을 뜻한다. 50 백분위수는 중앙값과 같다.\n",
    "percentile25 = np.percentile(train_context_counts, 25)\n",
    "percentile50 = np.percentile(train_context_counts, 50)\n",
    "percentile75 = np.percentile(train_context_counts, 75)\n",
    "percentileIQR = percentile75 - percentile25\n",
    "percentileMAX = percentile75 + percentileIQR * 1.5\n",
    "print(f\"context 25/100분위:  {percentile25:7.2f}\")\n",
    "print(f\"context 50/100분위:  {percentile50:7.2f}\")\n",
    "print(f\"context 75/100분위:  {percentile75:7.2f}\")\n",
    "print(f\"context IQR:        {percentileIQR:7.2f}\")\n",
    "print(f\"context MAX/100분위: {percentileMAX:7.2f}\")"
   ]
  },
  {
   "cell_type": "code",
   "execution_count": 36,
   "id": "consecutive-spine",
   "metadata": {},
   "outputs": [
    {
     "data": {
      "image/png": "[encoded data removed]",
      "text/plain": [
       "<Figure size 288x432 with 1 Axes>"
      ]
     },
     "metadata": {
      "needs_background": "light"
     },
     "output_type": "display_data"
    }
   ],
   "source": [
    "plt.figure(figsize=(4, 6))\n",
    "# 박스플롯 생성\n",
    "# 첫번째 파라메터: 여러 분포에 대한 데이터 리스트를\n",
    "# labels: 입력한 데이터에 대한 라벨\n",
    "# showmeans: 평균값을 표현\n",
    "# 참고: https://leebaro.tistory.com/entry/%EB%B0%95%EC%8A%A4-%ED%94%8C%EB%A1%AFbox-plot-%EC%84%A4%EB%AA%85\n",
    "plt.boxplot(train_context_counts, labels=['token counts'], showmeans=True)\n",
    "plt.show()"
   ]
  },
  {
   "cell_type": "markdown",
   "id": "brave-nursery",
   "metadata": {},
   "source": [
    "# 데이터 분석 : Answer"
   ]
  },
  {
   "cell_type": "code",
   "execution_count": 37,
   "id": "northern-occasions",
   "metadata": {},
   "outputs": [
    {
     "data": {
      "text/plain": [
       "[19, 168, 80, 6, 143, 0, 165, 216, 164, 7]"
      ]
     },
     "execution_count": 37,
     "metadata": {},
     "output_type": "execute_result"
    }
   ],
   "source": [
    "# token count\n",
    "train_answer_starts = token_starts\n",
    "train_answer_starts[:10]"
   ]
  },
  {
   "cell_type": "code",
   "execution_count": 38,
   "id": "electric-woman",
   "metadata": {},
   "outputs": [
    {
     "data": {
      "image/png": "[encoded data removed]",
      "text/plain": [
       "<Figure size 576x288 with 1 Axes>"
      ]
     },
     "metadata": {
      "needs_background": "light"
     },
     "output_type": "display_data"
    }
   ],
   "source": [
    "# 그래프에 대한 이미지 사이즈 선언\n",
    "# figsize: (가로, 세로) 형태의 튜플로 입력\n",
    "plt.figure(figsize=(8, 4))\n",
    "# histogram 선언\n",
    "# bins: 히스토그램 값들에 대한 버켓 범위, \n",
    "# range: x축 값의 범위\n",
    "# facecolor: 그래프 색상\n",
    "# label: 그래프에 대한 라벨\n",
    "plt.hist(train_answer_starts, bins=500, range=[0, 500], facecolor='g', label='train')\n",
    "# 그래프 제목\n",
    "plt.title('Count of answer')\n",
    "# 그래프 x 축 라벨\n",
    "plt.xlabel('Number of answer')\n",
    "# 그래프 y 축 라벨\n",
    "plt.ylabel('Count of answer')\n",
    "plt.show()"
   ]
  },
  {
   "cell_type": "code",
   "execution_count": 39,
   "id": "agricultural-burning",
   "metadata": {},
   "outputs": [
    {
     "name": "stdout",
     "output_type": "stream",
     "text": [
      "answer 위치 최대:    1124\n",
      "answer 위치 최소:       0\n",
      "answer 위치 평균:      89.01\n",
      "answer 위치 표준편차:   78.21\n",
      "answer 25/100분위:    25.00\n",
      "answer 50/100분위:    74.00\n",
      "answer 75/100분위:   134.00\n",
      "answer IQR:         109.00\n",
      "answer MAX/100분위:  297.50\n"
     ]
    }
   ],
   "source": [
    "# 데이터 길이\n",
    "print(f\"answer 위치 최대:    {np.max(train_answer_starts):4d}\")\n",
    "print(f\"answer 위치 최소:    {np.min(train_answer_starts):4d}\")\n",
    "print(f\"answer 위치 평균:    {np.mean(train_answer_starts):7.2f}\")\n",
    "print(f\"answer 위치 표준편차: {np.std(train_answer_starts):7.2f}\")\n",
    "# https://ko.wikipedia.org/wiki/%EB%B0%B1%EB%B6%84%EC%9C%84%EC%88%98\n",
    "# 백분위수(Percentile)는 크기가 있는 값들로 이뤄진 자료를 순서대로 나열했을 때 백분율로 나타낸 특정 위치의 값을 이르는 용어이다.\n",
    "# 일반적으로 크기가 작은 것부터 나열하여 가장 작은 것을 0, 가장 큰 것을 100으로 한다.\n",
    "# 100개의 값을 가진 어떤 자료의 20 백분위수는 그 자료의 값들 중 20번째로 작은 값을 뜻한다. 50 백분위수는 중앙값과 같다.\n",
    "percentile25 = np.percentile(train_answer_starts, 25)\n",
    "percentile50 = np.percentile(train_answer_starts, 50)\n",
    "percentile75 = np.percentile(train_answer_starts, 75)\n",
    "percentileIQR = percentile75 - percentile25\n",
    "percentileMAX = percentile75 + percentileIQR * 1.5\n",
    "print(f\"answer 25/100분위:  {percentile25:7.2f}\")\n",
    "print(f\"answer 50/100분위:  {percentile50:7.2f}\")\n",
    "print(f\"answer 75/100분위:  {percentile75:7.2f}\")\n",
    "print(f\"answer IQR:        {percentileIQR:7.2f}\")\n",
    "print(f\"answer MAX/100분위: {percentileMAX:7.2f}\")"
   ]
  },
  {
   "cell_type": "code",
   "execution_count": 40,
   "id": "cooked-tradition",
   "metadata": {},
   "outputs": [
    {
     "data": {
      "image/png": "[encoded data removed]",
      "text/plain": [
       "<Figure size 288x432 with 1 Axes>"
      ]
     },
     "metadata": {
      "needs_background": "light"
     },
     "output_type": "display_data"
    }
   ],
   "source": [
    "plt.figure(figsize=(4, 6))\n",
    "# 박스플롯 생성\n",
    "# 첫번째 파라메터: 여러 분포에 대한 데이터 리스트를\n",
    "# labels: 입력한 데이터에 대한 라벨\n",
    "# showmeans: 평균값을 표현\n",
    "# 참고: https://leebaro.tistory.com/entry/%EB%B0%95%EC%8A%A4-%ED%94%8C%EB%A1%AFbox-plot-%EC%84%A4%EB%AA%85\n",
    "plt.boxplot(train_answer_starts, labels=['token counts'], showmeans=True)\n",
    "plt.show()"
   ]
  },
  {
   "cell_type": "markdown",
   "id": "growing-buffer",
   "metadata": {},
   "source": [
    "# 데이터 분석 : Word Cloud"
   ]
  },
  {
   "cell_type": "code",
   "execution_count": 41,
   "id": "wooden-offering",
   "metadata": {},
   "outputs": [
    {
     "data": {
      "application/vnd.jupyter.widget-view+json": {
       "model_id": "fafc46f479cc44d5843f91e02d637315",
       "version_major": 2,
       "version_minor": 0
      },
      "text/plain": [
       "  0%|          | 0/1420 [00:00<?, ?it/s]"
      ]
     },
     "metadata": {},
     "output_type": "display_data"
    },
    {
     "data": {
      "text/plain": [
       "['파우스트_서곡',\n",
       " '1839년 바그너는 괴테의 파우스트을 처음 읽고 그 내용에 마음이 끌려 이를 소재로 해서 하나의 교향곡을 쓰려는 뜻을 갖는다. 이 시기 바그너는 1838년에 빛 독촉으로 산전수전을 다 걲은 상황이라 좌절과 실망에 가득했으며 메피스토펠레스를 만나는 파우스트의 심경에 공감했다고 한다. 또한 파리에서 아브네크의 지휘로 파리 음악원 관현악단이 연주하는 베토벤의 교향곡 9번을 듣고 깊은 감명을 받았는데, 이것이 이듬해 1월에 파우스트의 서곡으로 쓰여진 이 작품에 조금이라도 영향을 끼쳤으리라는 것은 의심할 여지가 없다. 여기의 라단조 조성의 경우에도 그의 전기에 적혀 있는 것처럼 단순한 정신적 피로나 실의가 반영된 것이 아니라 베토벤의 합창교향곡 조성의 영향을 받은 것을 볼 수 있다. 그렇게 교향곡 작곡을 1839년부터 40년에 걸쳐 파리에서 착수했으나 1악장을 쓴 뒤에 중단했다. 또한 작품의 완성과 동시에 그는 이 서곡(1악장)을 파리 음악원의 연주회에서 연주할 파트보까지 준비하였으나, 실제로는 이루어지지는 않았다. 결국 초연은 4년 반이 지난 후에 드레스덴에서 연주되었고 재연도 이루어졌지만, 이후에 그대로 방치되고 말았다. 그 사이에 그는 리엔치와 방황하는 네덜란드인을 완성하고 탄호이저에도 착수하는 등 분주한 시간을 보냈는데, 그런 바쁜 생활이 이 곡을 잊게 한 것이 아닌가 하는 의견도 있다.',\n",
       " '바그너는 괴테의 파우스트를 읽고 무엇을 쓰고자 했는가?',\n",
       " '바그너는 교향곡 작곡을 어디까지 쓴 뒤에 중단했는가?',\n",
       " '바그너가 파우스트 서곡을 쓸 때 어떤 곡의 영향을 받았는가?',\n",
       " '1839년 바그너가 교향곡의 소재로 쓰려고 했던 책은?',\n",
       " '파우스트 서곡의 라단조 조성이 영향을 받은 베토벤의 곡은?',\n",
       " '바그너가 파우스트를 처음으로 읽은 년도는?',\n",
       " '바그너가 처음 교향곡 작곡을 한 장소는?',\n",
       " '바그너의 1악장의 초연은 어디서 연주되었는가?']"
      ]
     },
     "execution_count": 41,
     "metadata": {},
     "output_type": "execute_result"
    }
   ],
   "source": [
    "# train documents\n",
    "documents = []\n",
    "\n",
    "# 전체 데이터에서 title, context, question 문장을 모두 추출합니다. \n",
    "for data in tqdm(train_json[\"data\"]):\n",
    "    title = data[\"title\"]\n",
    "    documents.append(title)\n",
    "    for paragraph in data[\"paragraphs\"]:\n",
    "        context = paragraph[\"context\"]\n",
    "        documents.append(context)\n",
    "\n",
    "        for qa in paragraph[\"qas\"]:\n",
    "            assert len(qa[\"answers\"]) == 1\n",
    "            question = qa[\"question\"]\n",
    "            documents.append(question)\n",
    "\n",
    "documents[:10]   # 그중 맨 앞 10개만 확인해 봅니다."
   ]
  },
  {
   "cell_type": "code",
   "execution_count": 42,
   "id": "israeli-fashion",
   "metadata": {},
   "outputs": [
    {
     "data": {
      "text/plain": [
       "'파우스트_서곡 1839년 바그너는 괴테의 파우스트을 처음 읽고 그 내용에 마음이 끌려 이를 소재로 해서 하나의 교향곡을 쓰려는 뜻을 갖는다. 이 시기 바그너는 1838년에 빛 독촉으로 산전수전을 다 걲은 상황이라 좌절과 실망에 가득했으며 메피스토펠레스를 만나는 파우스트의 심경에 공감했다고 한다. 또한 파리에서 아브네크의 지휘로 파리 음악원 관현악단이 연주하는 베토벤의 교향곡 9번을 듣고 깊은 감명을 받았는데, 이것이 이듬해 1월에 파우스트의 서곡으로 쓰여진 이 작품에 조금이라도 영향을 끼쳤으리라는 것은 의심할 여지가 없다. 여기의 라단조 조성의 경우에도 그의 전기에 적혀 있는 것처럼 단순한 정신적 피로나 실의가 반영된 것이 아니라 베토벤의 합창교향곡 조성의 영향을 받은 것을 볼 수 있다. 그렇게 교향곡 작곡을 1839년부터 40년에 걸쳐 파리에서 착수했으나 1악장을 쓴 뒤에 중단했다. 또한 작품의 완성과 동시에 그는 이 서곡(1악장)을 파리 음악원의 연주회에서 연주할 파트보까지 준비하였으나, 실제로는 이루어지지는 않았다. 결국 초연은 4년 반이 지난 후에 드레스덴에서 연주되었고 재연도 이루어졌지만, 이후에 그대로 방치되고 말았다. 그 사이에 그는 리엔치와 방황하는 네덜란드인을 완성하고 탄호이저에도 착수하는 등 분주한 시간을 보냈는데, 그런 바쁜 생활이 이 곡을 잊게 한 것이 아닌가 하는 의견도 있다. 바그너는 괴테의 파우스트를 읽고 무엇을 쓰고자 했는가? 바그너는 교향곡 작곡을 어디까지 쓴 뒤에 중단했는가? 바그너가 파우스트 서곡을 쓸 때 어떤 곡의 영향을 받았는가? 1839년 바그너가 교향곡의 소재로 쓰려고 했던 책은? 파우스트 서곡의 라단조 조성이 영향을 받은 베토벤의 곡은? 바그너가 파우스트를 처음으로 읽은 년도는? 바그너가 처음 교향곡 작곡을 한 장소는? 바그너의 1악장의 초연은 어디서 연주되었는가?'"
      ]
     },
     "execution_count": 42,
     "metadata": {},
     "output_type": "execute_result"
    }
   ],
   "source": [
    "# documents를 전부 이어 하나의 문장으로 만들면 이렇게 보입니다. \n",
    "\" \".join(documents[:10])"
   ]
  },
  {
   "cell_type": "code",
   "execution_count": 43,
   "id": "hollywood-poverty",
   "metadata": {},
   "outputs": [
    {
     "data": {
      "image/png": "[encoded data removed]",
      "text/plain": [
       "<Figure size 720x720 with 1 Axes>"
      ]
     },
     "metadata": {
      "needs_background": "light"
     },
     "output_type": "display_data"
    }
   ],
   "source": [
    "# WordCloud로 \" \".join(documents)를 처리해 봅니다. \n",
    "wordcloud = WordCloud(width=800, height=800, font_path='/usr/share/fonts/truetype/nanum/NanumBarunGothic.ttf').generate(\" \".join(documents))\n",
    "plt.figure(figsize=(10, 10))\n",
    "# image 출력, interpolation 이미지 시각화 옵션\n",
    "plt.imshow(wordcloud, interpolation='bilinear')\n",
    "plt.axis('off')\n",
    "plt.show()"
   ]
  },
  {
   "cell_type": "markdown",
   "id": "round-heavy",
   "metadata": {},
   "source": [
    "# 데이터 로드"
   ]
  },
  {
   "cell_type": "code",
   "execution_count": 44,
   "id": "spanish-garlic",
   "metadata": {},
   "outputs": [],
   "source": [
    "train_json = os.path.join(data_dir, \"korquad_train.json\")\n",
    "dev_json = os.path.join(data_dir, \"korquad_dev.json\")"
   ]
  },
  {
   "cell_type": "code",
   "execution_count": 45,
   "id": "manufactured-netscape",
   "metadata": {},
   "outputs": [
    {
     "data": {
      "text/plain": [
       "{'max_seq_length': 384, 'max_query_length': 64}"
      ]
     },
     "execution_count": 45,
     "metadata": {},
     "output_type": "execute_result"
    }
   ],
   "source": [
    "class Config(dict):\n",
    "    \"\"\"\n",
    "    json을 config 형태로 사용하기 위한 Class\n",
    "    :param dict: config dictionary\n",
    "    \"\"\"\n",
    "    __getattr__ = dict.__getitem__\n",
    "    __setattr__ = dict.__setitem__\n",
    "\n",
    "\n",
    "args = Config({\n",
    "    'max_seq_length': 384,\n",
    "    'max_query_length': 64,\n",
    "})\n",
    "args"
   ]
  },
  {
   "cell_type": "code",
   "execution_count": 46,
   "id": "complex-integration",
   "metadata": {},
   "outputs": [],
   "source": [
    "# 생성한 데이터셋 파일을 메모리에 로딩하는 함수\n",
    "def load_data(args, filename):\n",
    "    inputs, segments, labels_start, labels_end = [], [], [], []\n",
    "\n",
    "    n_discard = 0\n",
    "    with open(filename, \"r\") as f:\n",
    "        for i, line in enumerate(tqdm(f, desc=f\"Loading ...\")):\n",
    "            data = json.loads(line)\n",
    "            token_start = data.get(\"token_start\")\n",
    "            token_end = data.get(\"token_end\")\n",
    "            question = data[\"question\"][:args.max_query_length]\n",
    "            context = data[\"context\"]\n",
    "            answer_tokens = \" \".join(context[token_start:token_end + 1])\n",
    "            context_len = args.max_seq_length - len(question) - 3\n",
    "\n",
    "            if token_end >= context_len:\n",
    "                # 최대 길이내에 token이 들어가지 않은 경우 처리하지 않음\n",
    "                n_discard += 1\n",
    "                continue\n",
    "            context = context[:context_len]\n",
    "            assert len(question) + len(context) <= args.max_seq_length - 3\n",
    "\n",
    "            tokens = ['[CLS]'] + question + ['[SEP]'] + context + ['[SEP]']\n",
    "            ids = [vocab.piece_to_id(token) for token in tokens]\n",
    "            ids += [0] * (args.max_seq_length - len(ids))\n",
    "            inputs.append(ids)\n",
    "            segs = [0] * (len(question) + 2) + [1] * (len(context) + 1)\n",
    "            segs += [0] * (args.max_seq_length - len(segs))\n",
    "            segments.append(segs)\n",
    "            token_start += (len(question) + 2)\n",
    "            labels_start.append(token_start)\n",
    "            token_end += (len(question) + 2)\n",
    "            labels_end.append(token_end)\n",
    "    print(f'n_discard: {n_discard}')\n",
    "\n",
    "    return (np.array(inputs), np.array(segments)), (np.array(labels_start), np.array(labels_end))"
   ]
  },
  {
   "cell_type": "code",
   "execution_count": 47,
   "id": "italian-angola",
   "metadata": {},
   "outputs": [
    {
     "data": {
      "application/vnd.jupyter.widget-view+json": {
       "model_id": "49a8733da4b1437284232c46723dd10b",
       "version_major": 2,
       "version_minor": 0
      },
      "text/plain": [
       "Loading ...: 0it [00:00, ?it/s]"
      ]
     },
     "metadata": {},
     "output_type": "display_data"
    },
    {
     "name": "stdout",
     "output_type": "stream",
     "text": [
      "n_discard: 430\n",
      "train_inputs: (59977, 384)\n",
      "train_inputs: (59977, 384)\n",
      "train_labels: (59977,)\n",
      "train_labels: (59977,)\n"
     ]
    },
    {
     "data": {
      "application/vnd.jupyter.widget-view+json": {
       "model_id": "a85913cba729463baf170b860296cdf7",
       "version_major": 2,
       "version_minor": 0
      },
      "text/plain": [
       "Loading ...: 0it [00:00, ?it/s]"
      ]
     },
     "metadata": {},
     "output_type": "display_data"
    },
    {
     "name": "stdout",
     "output_type": "stream",
     "text": [
      "n_discard: 78\n",
      "dev_inputs: (5696, 384)\n",
      "dev_inputs: (5696, 384)\n",
      "dev_labels: (5696,)\n",
      "dev_labels: (5696,)\n"
     ]
    },
    {
     "data": {
      "text/plain": [
       "((array([[    5, 15798,    10, ...,     0,     0,     0],\n",
       "         [    5, 15798,    10, ...,     0,     0,     0],\n",
       "         [    5, 15798,    19, ...,     0,     0,     0],\n",
       "         ...,\n",
       "         [    5, 21666,    19, ...,     0,     0,     0],\n",
       "         [    5,   964, 16865, ...,     0,     0,     0],\n",
       "         [    5,   365,    15, ...,     0,     0,     0]]),\n",
       "  array([[0, 0, 0, ..., 0, 0, 0],\n",
       "         [0, 0, 0, ..., 0, 0, 0],\n",
       "         [0, 0, 0, ..., 0, 0, 0],\n",
       "         ...,\n",
       "         [0, 0, 0, ..., 0, 0, 0],\n",
       "         [0, 0, 0, ..., 0, 0, 0],\n",
       "         [0, 0, 0, ..., 0, 0, 0]])),\n",
       " (array([ 37, 184,  98, ...,  74, 190,  35]),\n",
       "  array([ 37, 185, 102, ...,  75, 191,  44])))"
      ]
     },
     "execution_count": 47,
     "metadata": {},
     "output_type": "execute_result"
    }
   ],
   "source": [
    "# train data load\n",
    "train_inputs, train_labels = load_data(args, train_json)\n",
    "print(f\"train_inputs: {train_inputs[0].shape}\")\n",
    "print(f\"train_inputs: {train_inputs[1].shape}\")\n",
    "print(f\"train_labels: {train_labels[0].shape}\")\n",
    "print(f\"train_labels: {train_labels[1].shape}\")\n",
    "\n",
    "# dev data load\n",
    "dev_inputs, dev_labels = load_data(args, dev_json)\n",
    "print(f\"dev_inputs: {dev_inputs[0].shape}\")\n",
    "print(f\"dev_inputs: {dev_inputs[1].shape}\")\n",
    "print(f\"dev_labels: {dev_labels[0].shape}\")\n",
    "print(f\"dev_labels: {dev_labels[1].shape}\")\n",
    "\n",
    "train_inputs[:10], train_labels[:10]"
   ]
  },
  {
   "cell_type": "code",
   "execution_count": 48,
   "id": "stock-monday",
   "metadata": {},
   "outputs": [
    {
     "data": {
      "text/plain": [
       "array([    5, 15798,    10, 28935,     9,    11, 29566,    20, 14604,\n",
       "       20424,  3904,    70,    11,  4648,    10,    19,  1910,     4,\n",
       "       22070,    15, 15798,    10, 28935,     9,    11, 29566,    16,\n",
       "         626, 14604,    38, 14028, 11773, 13829,   384,  8376,  3021,\n",
       "        1239,  6874,    16,  1687,  5958,  2694,  5061,     7,    30,\n",
       "        1613, 15798,    10, 28065,    75,  4415,  1816,  4978,    27,\n",
       "         347,   145,   107,  2703,   263,    11,     1,    18,  5853,\n",
       "          99,  9677,    24, 11969,    13,  7595,   437,  1019,  5907,\n",
       "         257,  3794,  1972,    20, 11278,    11, 29566,     9,   612,\n",
       "       12631, 13214,  1732,    76,     7,   110,  8802, 17581,   354,\n",
       "        9648,  2060,    21,  1682, 22110, 18164,    17, 21076, 14980,\n",
       "           9,  6874,    81, 11325,  4239,  3597,  1010,  1035, 17670,\n",
       "           8,  2447,  1306,    35,   443,    11, 29566,     9,   315,\n",
       "       12729, 14457,    30,  7938,  3742, 10766,   634,  9971, 17590,\n",
       "       19424,    10,   285,  4080,    61, 17573,   483,     7,  7588,\n",
       "           9,   473,   338,   147,  1924,     9, 11016,   136,  1034,\n",
       "          13, 11672,    40,  3436,  5217,  7898, 11684,    57,   830,\n",
       "           9,    19,  3319,    86,   220,   464, 14980,     9, 20515,\n",
       "         412,   991,   684,  1924,     9,   634,   920,   144,   430,\n",
       "          34,    25,     7,  4210,  6874,  2150,    16, 22070,   298,\n",
       "        1159,    75,  1098,  8802,  7490,   805,    35, 18678,    16,\n",
       "        1657,  1970,  2272,    53,     7,   110,  6559,  2178,    24,\n",
       "         756,    82,    30,   315,   684,  3772, 18678,    12,    16,\n",
       "        1682, 22110,     9, 22469,    22,  1757,    61,  8817,   194,\n",
       "         164,  1693,   749,     8,  6739, 12202,    10,   494,     7,\n",
       "         502, 12181,    18,    46,    15,   374,    17,  1680,   708,\n",
       "       26344,    22,  1757,   432,   465,   351,    32, 18563,   710,\n",
       "           8,  2585,  1384, 16071,   265,  3360,     7,    38,   747,\n",
       "          82,   383,   678,   200,    26,   590,  1281,    41,  1172,\n",
       "          31,    16,  2178,    43,  3044,   156,    17,   647,   468,\n",
       "        7490,    41,    84,   758,    92,    33,  3401,   369, 18319,\n",
       "           8,  2582, 29798,  1102,    17,    30,  4573, 11170,   139,\n",
       "          58,   220,   773,    19,   211, 23824,    25,     7,     4,\n",
       "           0,     0,     0,     0,     0,     0,     0,     0,     0,\n",
       "           0,     0,     0,     0,     0,     0,     0,     0,     0,\n",
       "           0,     0,     0,     0,     0,     0,     0,     0,     0,\n",
       "           0,     0,     0,     0,     0,     0,     0,     0,     0,\n",
       "           0,     0,     0,     0,     0,     0,     0,     0,     0,\n",
       "           0,     0,     0,     0,     0,     0,     0,     0,     0,\n",
       "           0,     0,     0,     0,     0,     0,     0,     0,     0,\n",
       "           0,     0,     0,     0,     0,     0,     0,     0,     0,\n",
       "           0,     0,     0,     0,     0,     0,     0,     0,     0,\n",
       "           0,     0,     0,     0,     0,     0])"
      ]
     },
     "execution_count": 48,
     "metadata": {},
     "output_type": "execute_result"
    }
   ],
   "source": [
    "# Question과 Context가 포함된 입력데이터 1번째\n",
    "train_inputs[0][0]"
   ]
  },
  {
   "cell_type": "code",
   "execution_count": 49,
   "id": "ordinary-musician",
   "metadata": {},
   "outputs": [
    {
     "data": {
      "text/plain": [
       "array([0, 0, 0, 0, 0, 0, 0, 0, 0, 0, 0, 0, 0, 0, 0, 0, 0, 0, 1, 1, 1, 1,\n",
       "       1, 1, 1, 1, 1, 1, 1, 1, 1, 1, 1, 1, 1, 1, 1, 1, 1, 1, 1, 1, 1, 1,\n",
       "       1, 1, 1, 1, 1, 1, 1, 1, 1, 1, 1, 1, 1, 1, 1, 1, 1, 1, 1, 1, 1, 1,\n",
       "       1, 1, 1, 1, 1, 1, 1, 1, 1, 1, 1, 1, 1, 1, 1, 1, 1, 1, 1, 1, 1, 1,\n",
       "       1, 1, 1, 1, 1, 1, 1, 1, 1, 1, 1, 1, 1, 1, 1, 1, 1, 1, 1, 1, 1, 1,\n",
       "       1, 1, 1, 1, 1, 1, 1, 1, 1, 1, 1, 1, 1, 1, 1, 1, 1, 1, 1, 1, 1, 1,\n",
       "       1, 1, 1, 1, 1, 1, 1, 1, 1, 1, 1, 1, 1, 1, 1, 1, 1, 1, 1, 1, 1, 1,\n",
       "       1, 1, 1, 1, 1, 1, 1, 1, 1, 1, 1, 1, 1, 1, 1, 1, 1, 1, 1, 1, 1, 1,\n",
       "       1, 1, 1, 1, 1, 1, 1, 1, 1, 1, 1, 1, 1, 1, 1, 1, 1, 1, 1, 1, 1, 1,\n",
       "       1, 1, 1, 1, 1, 1, 1, 1, 1, 1, 1, 1, 1, 1, 1, 1, 1, 1, 1, 1, 1, 1,\n",
       "       1, 1, 1, 1, 1, 1, 1, 1, 1, 1, 1, 1, 1, 1, 1, 1, 1, 1, 1, 1, 1, 1,\n",
       "       1, 1, 1, 1, 1, 1, 1, 1, 1, 1, 1, 1, 1, 1, 1, 1, 1, 1, 1, 1, 1, 1,\n",
       "       1, 1, 1, 1, 1, 1, 1, 1, 1, 1, 1, 1, 1, 1, 1, 1, 1, 1, 1, 1, 1, 1,\n",
       "       1, 1, 1, 1, 1, 1, 1, 1, 1, 1, 1, 0, 0, 0, 0, 0, 0, 0, 0, 0, 0, 0,\n",
       "       0, 0, 0, 0, 0, 0, 0, 0, 0, 0, 0, 0, 0, 0, 0, 0, 0, 0, 0, 0, 0, 0,\n",
       "       0, 0, 0, 0, 0, 0, 0, 0, 0, 0, 0, 0, 0, 0, 0, 0, 0, 0, 0, 0, 0, 0,\n",
       "       0, 0, 0, 0, 0, 0, 0, 0, 0, 0, 0, 0, 0, 0, 0, 0, 0, 0, 0, 0, 0, 0,\n",
       "       0, 0, 0, 0, 0, 0, 0, 0, 0, 0])"
      ]
     },
     "execution_count": 49,
     "metadata": {},
     "output_type": "execute_result"
    }
   ],
   "source": [
    "# Question을 0으로, Context를 1로 구분해 준 Segment 데이터 1번째\n",
    "train_inputs[1][0]"
   ]
  },
  {
   "cell_type": "code",
   "execution_count": 50,
   "id": "statistical-buying",
   "metadata": {},
   "outputs": [
    {
     "data": {
      "text/plain": [
       "(37, 37)"
      ]
     },
     "execution_count": 50,
     "metadata": {},
     "output_type": "execute_result"
    }
   ],
   "source": [
    "# Answer위치의 시작점과 끝점 라벨 1번째\n",
    "train_labels[0][0], train_labels[1][0]"
   ]
  },
  {
   "cell_type": "markdown",
   "id": "surgical-speech",
   "metadata": {},
   "source": [
    "# Model : Bert"
   ]
  },
  {
   "cell_type": "code",
   "execution_count": 51,
   "id": "diverse-theater",
   "metadata": {},
   "outputs": [],
   "source": [
    "# 유틸리티 함수들\n",
    "\n",
    "def get_pad_mask(tokens, i_pad=0):\n",
    "    \"\"\"\n",
    "    pad mask 계산하는 함수\n",
    "    :param tokens: tokens (bs, n_seq)\n",
    "    :param i_pad: id of pad\n",
    "    :return mask: pad mask (pad: 1, other: 0)\n",
    "    \"\"\"\n",
    "    mask = tf.cast(tf.math.equal(tokens, i_pad), tf.float32)\n",
    "    mask = tf.expand_dims(mask, axis=1)\n",
    "    return mask\n",
    "\n",
    "\n",
    "def get_ahead_mask(tokens, i_pad=0):\n",
    "    \"\"\"\n",
    "    ahead mask 계산하는 함수\n",
    "    :param tokens: tokens (bs, n_seq)\n",
    "    :param i_pad: id of pad\n",
    "    :return mask: ahead and pad mask (ahead or pad: 1, other: 0)\n",
    "    \"\"\"\n",
    "    n_seq = tf.shape(tokens)[1]\n",
    "    ahead_mask = 1 - tf.linalg.band_part(tf.ones((n_seq, n_seq)), -1, 0)\n",
    "    ahead_mask = tf.expand_dims(ahead_mask, axis=0)\n",
    "    pad_mask = get_pad_mask(tokens, i_pad)\n",
    "    mask = tf.maximum(ahead_mask, pad_mask)\n",
    "    return mask\n",
    "\n",
    "\n",
    "@tf.function(experimental_relax_shapes=True)\n",
    "def gelu(x):\n",
    "    \"\"\"\n",
    "    gelu activation 함수\n",
    "    :param x: 입력 값\n",
    "    :return: gelu activation result\n",
    "    \"\"\"\n",
    "    return 0.5 * x * (1 + K.tanh(x * 0.7978845608 * (1 + 0.044715 * x * x)))\n",
    "\n",
    "\n",
    "def kernel_initializer(stddev=0.02):\n",
    "    \"\"\"\n",
    "    parameter initializer 생성\n",
    "    :param stddev: 생성할 랜덤 변수의 표준편차\n",
    "    \"\"\"\n",
    "    return tf.keras.initializers.TruncatedNormal(stddev=stddev)\n",
    "\n",
    "\n",
    "def bias_initializer():\n",
    "    \"\"\"\n",
    "    bias initializer 생성\n",
    "    \"\"\"\n",
    "    return tf.zeros_initializer\n",
    "\n",
    "\n",
    "class Config(dict):\n",
    "    \"\"\"\n",
    "    json을 config 형태로 사용하기 위한 Class\n",
    "    :param dict: config dictionary\n",
    "    \"\"\"\n",
    "    __getattr__ = dict.__getitem__\n",
    "    __setattr__ = dict.__setitem__\n",
    "\n",
    "    @classmethod\n",
    "    def load(cls, file):\n",
    "        \"\"\"\n",
    "        file에서 Config를 생성 함\n",
    "        :param file: filename\n",
    "        \"\"\"\n",
    "        with open(file, 'r') as f:\n",
    "            config = json.loads(f.read())\n",
    "            return Config(config)"
   ]
  },
  {
   "cell_type": "code",
   "execution_count": 52,
   "id": "alone-grill",
   "metadata": {},
   "outputs": [],
   "source": [
    "# mode == \"embedding\" 일 경우 Token Embedding Layer 로 사용되는 layer 클래스입니다. \n",
    "\n",
    "class SharedEmbedding(tf.keras.layers.Layer):\n",
    "    \"\"\"\n",
    "    Weighed Shared Embedding Class\n",
    "    \"\"\"\n",
    "    def __init__(self, config, name=\"weight_shared_embedding\"):\n",
    "        \"\"\"\n",
    "        생성자\n",
    "        :param config: Config 객체\n",
    "        :param name: layer name\n",
    "        \"\"\"\n",
    "        super().__init__(name=name)\n",
    "\n",
    "        self.n_vocab = config.n_vocab\n",
    "        self.d_model = config.d_model\n",
    "    \n",
    "    def build(self, input_shape):\n",
    "        \"\"\"\n",
    "        shared weight 생성\n",
    "        :param input_shape: Tensor Shape (not used)\n",
    "        \"\"\"\n",
    "        with tf.name_scope(\"shared_embedding_weight\"):\n",
    "            self.shared_weights = self.add_weight(\n",
    "                \"weights\",\n",
    "                shape=[self.n_vocab, self.d_model],\n",
    "                initializer=kernel_initializer()\n",
    "            )\n",
    "\n",
    "    def call(self, inputs, mode=\"embedding\"):\n",
    "        \"\"\"\n",
    "        layer 실행\n",
    "        :param inputs: 입력\n",
    "        :param mode: 실행 모드\n",
    "        :return: embedding or linear 실행 결과\n",
    "        \"\"\"\n",
    "        # mode가 embedding일 경우 embedding lookup 실행\n",
    "        if mode == \"embedding\":\n",
    "            return self._embedding(inputs)\n",
    "        # mode가 linear일 경우 linear 실행\n",
    "        elif mode == \"linear\":\n",
    "            return self._linear(inputs)\n",
    "        # mode가 기타일 경우 오류 발생\n",
    "        else:\n",
    "            raise ValueError(f\"mode {mode} is not valid.\")\n",
    "    \n",
    "    def _embedding(self, inputs):\n",
    "        \"\"\"\n",
    "        embedding lookup\n",
    "        :param inputs: 입력\n",
    "        \"\"\"\n",
    "        embed = tf.gather(self.shared_weights, tf.cast(inputs, tf.int32))\n",
    "        return embed\n",
    "\n",
    "    def _linear(self, inputs):  # (bs, n_seq, d_model)\n",
    "        \"\"\"\n",
    "        linear 실행\n",
    "        :param inputs: 입력\n",
    "        \"\"\"\n",
    "        n_batch = tf.shape(inputs)[0]\n",
    "        n_seq = tf.shape(inputs)[1]\n",
    "        inputs = tf.reshape(inputs, [-1, self.d_model])  # (bs * n_seq, d_model)\n",
    "        outputs = tf.matmul(inputs, self.shared_weights, transpose_b=True)\n",
    "        outputs = tf.reshape(outputs, [n_batch, n_seq, self.n_vocab])  # (bs, n_seq, n_vocab)\n",
    "        return outputs"
   ]
  },
  {
   "cell_type": "code",
   "execution_count": 53,
   "id": "mineral-harrison",
   "metadata": {},
   "outputs": [],
   "source": [
    "class PositionalEmbedding(tf.keras.layers.Layer):\n",
    "    \"\"\"\n",
    "    Positional Embedding Class\n",
    "    \"\"\"\n",
    "    def __init__(self, config, name=\"position_embedding\"):\n",
    "        \"\"\"\n",
    "        생성자\n",
    "        :param config: Config 객체\n",
    "        :param name: layer name\n",
    "        \"\"\"\n",
    "        super().__init__(name=name)\n",
    "        \n",
    "        self.embedding = tf.keras.layers.Embedding(config.n_seq, config.d_model, embeddings_initializer=kernel_initializer())\n",
    "\n",
    "    def call(self, inputs):\n",
    "        \"\"\"\n",
    "        layer 실행\n",
    "        :param inputs: 입력\n",
    "        :return embed: positional embedding lookup 결과\n",
    "        \"\"\"\n",
    "        position = tf.cast(tf.math.cumsum(tf.ones_like(inputs), axis=1, exclusive=True), tf.int32)\n",
    "        embed = self.embedding(position)\n",
    "        return embed"
   ]
  },
  {
   "cell_type": "code",
   "execution_count": 54,
   "id": "handmade-madison",
   "metadata": {},
   "outputs": [],
   "source": [
    "class ScaleDotProductAttention(tf.keras.layers.Layer):\n",
    "    \"\"\"\n",
    "    Scale Dot Product Attention Class\n",
    "    \"\"\"\n",
    "    def __init__(self, name=\"scale_dot_product_attention\"):\n",
    "        \"\"\"\n",
    "        생성자\n",
    "        :param name: layer name\n",
    "        \"\"\"\n",
    "        super().__init__(name=name)\n",
    "\n",
    "    def call(self, Q, K, V, attn_mask):\n",
    "        \"\"\"\n",
    "        layer 실행\n",
    "        :param Q: Q value\n",
    "        :param K: K value\n",
    "        :param V: V value\n",
    "        :param attn_mask: 실행 모드\n",
    "        :return attn_out: attention 실행 결과\n",
    "        \"\"\"\n",
    "        attn_score = tf.matmul(Q, K, transpose_b=True)\n",
    "        scale = tf.math.sqrt(tf.cast(tf.shape(K)[-1], tf.float32))\n",
    "        attn_scale = tf.math.divide(attn_score, scale)\n",
    "        attn_scale -= 1.e9 * attn_mask\n",
    "        attn_prob = tf.nn.softmax(attn_scale, axis=-1)\n",
    "        attn_out = tf.matmul(attn_prob, V)\n",
    "        return attn_out"
   ]
  },
  {
   "cell_type": "code",
   "execution_count": 55,
   "id": "moderate-intent",
   "metadata": {},
   "outputs": [],
   "source": [
    "class MultiHeadAttention(tf.keras.layers.Layer):\n",
    "    \"\"\"\n",
    "    Multi Head Attention Class\n",
    "    \"\"\"\n",
    "    def __init__(self, config, name=\"multi_head_attention\"):\n",
    "        \"\"\"\n",
    "        생성자\n",
    "        :param config: Config 객체\n",
    "        :param name: layer name\n",
    "        \"\"\"\n",
    "        super().__init__(name=name)\n",
    "\n",
    "        self.d_model = config.d_model\n",
    "        self.n_head = config.n_head\n",
    "        self.d_head = config.d_head\n",
    "\n",
    "        # Q, K, V input dense layer\n",
    "        self.W_Q = tf.keras.layers.Dense(config.n_head * config.d_head, kernel_initializer=kernel_initializer(), bias_initializer=bias_initializer())\n",
    "        self.W_K = tf.keras.layers.Dense(config.n_head * config.d_head, kernel_initializer=kernel_initializer(), bias_initializer=bias_initializer())\n",
    "        self.W_V = tf.keras.layers.Dense(config.n_head * config.d_head, kernel_initializer=kernel_initializer(), bias_initializer=bias_initializer())\n",
    "        # Scale Dot Product Attention class\n",
    "        self.attention = ScaleDotProductAttention(name=\"self_attention\")\n",
    "        # output dense layer\n",
    "        self.W_O = tf.keras.layers.Dense(config.d_model, kernel_initializer=kernel_initializer(), bias_initializer=bias_initializer())\n",
    "\n",
    "    def call(self, Q, K, V, attn_mask):\n",
    "        \"\"\"\n",
    "        layer 실행\n",
    "        :param Q: Q value\n",
    "        :param K: K value\n",
    "        :param V: V value\n",
    "        :param attn_mask: 실행 모드\n",
    "        :return attn_out: attention 실행 결과\n",
    "        \"\"\"\n",
    "        # reshape Q, K, V, attn_mask\n",
    "        batch_size = tf.shape(Q)[0]\n",
    "        Q_m = tf.transpose(tf.reshape(self.W_Q(Q), [batch_size, -1, self.n_head, self.d_head]), [0, 2, 1, 3])  # (bs, n_head, Q_len, d_head)\n",
    "        K_m = tf.transpose(tf.reshape(self.W_K(K), [batch_size, -1, self.n_head, self.d_head]), [0, 2, 1, 3])  # (bs, n_head, K_len, d_head)\n",
    "        V_m = tf.transpose(tf.reshape(self.W_V(V), [batch_size, -1, self.n_head, self.d_head]), [0, 2, 1, 3])  # (bs, n_head, K_len, d_head)\n",
    "        attn_mask_m = tf.expand_dims(attn_mask, axis=1)\n",
    "        # Scale Dot Product Attention with multi head Q, K, V, attn_mask\n",
    "        attn_out = self.attention(Q_m, K_m, V_m, attn_mask_m)  # (bs, n_head, Q_len, d_head)\n",
    "        # transpose and liner\n",
    "        attn_out_m = tf.transpose(attn_out, perm=[0, 2, 1, 3])  # (bs, Q_len, n_head, d_head)\n",
    "        attn_out = tf.reshape(attn_out_m, [batch_size, -1, config.n_head * config.d_head])  # (bs, Q_len, d_model)\n",
    "        attn_out = self.W_O(attn_out) # (bs, Q_len, d_model)\n",
    "\n",
    "        return attn_out"
   ]
  },
  {
   "cell_type": "code",
   "execution_count": 56,
   "id": "southeast-backup",
   "metadata": {},
   "outputs": [],
   "source": [
    "class PositionWiseFeedForward(tf.keras.layers.Layer):\n",
    "    \"\"\"\n",
    "    Position Wise Feed Forward Class\n",
    "    \"\"\"\n",
    "    def __init__(self, config, name=\"feed_forward\"):\n",
    "        \"\"\"\n",
    "        생성자\n",
    "        :param config: Config 객체\n",
    "        :param name: layer name\n",
    "        \"\"\"\n",
    "        super().__init__(name=name)\n",
    "\n",
    "        self.W_1 = tf.keras.layers.Dense(config.d_ff, activation=gelu, kernel_initializer=kernel_initializer(), bias_initializer=bias_initializer())\n",
    "        self.W_2 = tf.keras.layers.Dense(config.d_model, kernel_initializer=kernel_initializer(), bias_initializer=bias_initializer())\n",
    "\n",
    "    def call(self, inputs):\n",
    "        \"\"\"\n",
    "        layer 실행\n",
    "        :param inputs: inputs\n",
    "        :return ff_val: feed forward 실행 결과\n",
    "        \"\"\"\n",
    "        ff_val = self.W_2(self.W_1(inputs))\n",
    "        return ff_val"
   ]
  },
  {
   "cell_type": "code",
   "execution_count": 57,
   "id": "intimate-marathon",
   "metadata": {},
   "outputs": [],
   "source": [
    "class EncoderLayer(tf.keras.layers.Layer):\n",
    "    \"\"\"\n",
    "    Encoder Layer Class\n",
    "    \"\"\"\n",
    "    def __init__(self, config, name=\"encoder_layer\"):\n",
    "        \"\"\"\n",
    "        생성자\n",
    "        :param config: Config 객체\n",
    "        :param name: layer name\n",
    "        \"\"\"\n",
    "        super().__init__(name=name)\n",
    "\n",
    "        self.self_attention = MultiHeadAttention(config)\n",
    "        self.norm1 = tf.keras.layers.LayerNormalization(epsilon=config.layernorm_epsilon)\n",
    "\n",
    "        self.ffn = PositionWiseFeedForward(config)\n",
    "        self.norm2 = tf.keras.layers.LayerNormalization(epsilon=config.layernorm_epsilon)\n",
    "\n",
    "        self.dropout = tf.keras.layers.Dropout(config.dropout)\n",
    " \n",
    "    def call(self, enc_embed, self_mask):\n",
    "        \"\"\"\n",
    "        layer 실행\n",
    "        :param enc_embed: enc_embed 또는 이전 EncoderLayer의 출력\n",
    "        :param self_mask: enc_tokens의 pad mask\n",
    "        :return enc_out: EncoderLayer 실행 결과\n",
    "        \"\"\"\n",
    "        self_attn_val = self.self_attention(enc_embed, enc_embed, enc_embed, self_mask)\n",
    "        norm1_val = self.norm1(enc_embed + self.dropout(self_attn_val))\n",
    "\n",
    "        ffn_val = self.ffn(norm1_val)\n",
    "        enc_out = self.norm2(norm1_val + self.dropout(ffn_val))\n",
    "\n",
    "        return enc_out"
   ]
  },
  {
   "cell_type": "code",
   "execution_count": 58,
   "id": "objective-facial",
   "metadata": {},
   "outputs": [],
   "source": [
    "class BERT(tf.keras.layers.Layer):\n",
    "    \"\"\"\n",
    "    BERT Class\n",
    "    \"\"\"\n",
    "    def __init__(self, config, name=\"bert\"):\n",
    "        \"\"\"\n",
    "        생성자\n",
    "        :param config: Config 객체\n",
    "        :param name: layer name\n",
    "        \"\"\"\n",
    "        super().__init__(name=name)\n",
    "\n",
    "        self.i_pad = config.i_pad\n",
    "        self.embedding = SharedEmbedding(config)\n",
    "        self.position = PositionalEmbedding(config)\n",
    "        self.segment = tf.keras.layers.Embedding(2, config.d_model, embeddings_initializer=kernel_initializer())\n",
    "        self.norm = tf.keras.layers.LayerNormalization(epsilon=config.layernorm_epsilon)\n",
    "        \n",
    "        self.encoder_layers = [EncoderLayer(config, name=f\"encoder_layer_{i}\") for i in range(config.n_layer)]\n",
    "\n",
    "        self.dropout = tf.keras.layers.Dropout(config.dropout)\n",
    "\n",
    "    def call(self, enc_tokens, segments):\n",
    "        \"\"\"\n",
    "        layer 실행\n",
    "        :param enc_tokens: encoder tokens\n",
    "        :param segments: token segments\n",
    "        :return logits_cls: CLS 결과 logits\n",
    "        :return logits_lm: LM 결과 logits\n",
    "        \"\"\"\n",
    "        enc_self_mask = get_pad_mask(enc_tokens, self.i_pad)\n",
    "\n",
    "        enc_embed = self.get_embedding(enc_tokens, segments)\n",
    "\n",
    "        enc_out = self.dropout(enc_embed)\n",
    "        for encoder_layer in self.encoder_layers:\n",
    "            enc_out = encoder_layer(enc_out, enc_self_mask)\n",
    "\n",
    "        logits_cls = enc_out[:,0]\n",
    "        logits_lm = enc_out\n",
    "        return logits_cls, logits_lm\n",
    "    \n",
    "    def get_embedding(self, tokens, segments):\n",
    "        \"\"\"\n",
    "        token embedding, position embedding lookup\n",
    "        :param tokens: 입력 tokens\n",
    "        :param segments: 입력 segments\n",
    "        :return embed: embedding 결과\n",
    "        \"\"\"\n",
    "        embed = self.embedding(tokens) + self.position(tokens) + self.segment(segments)\n",
    "        embed = self.norm(embed)\n",
    "        return embed"
   ]
  },
  {
   "cell_type": "markdown",
   "id": "protective-intellectual",
   "metadata": {},
   "source": [
    "# Fine tuning"
   ]
  },
  {
   "cell_type": "code",
   "execution_count": 59,
   "id": "expanded-stroke",
   "metadata": {},
   "outputs": [],
   "source": [
    "class BERT4KorQuAD(tf.keras.Model):\n",
    "    def __init__(self, config):\n",
    "        super().__init__(name='BERT4KorQuAD')\n",
    "\n",
    "        self.bert = BERT(config)\n",
    "        self.dense = tf.keras.layers.Dense(2)\n",
    "    \n",
    "    def call(self, enc_tokens, segments):\n",
    "        logits_cls, logits_lm = self.bert(enc_tokens, segments)\n",
    "\n",
    "        hidden = self.dense(logits_lm) # (bs, n_seq, 2)\n",
    "        start_logits, end_logits = tf.split(hidden, 2, axis=-1)  # (bs, n_seq, 1), (bs, n_seq, 1)\n",
    "\n",
    "        start_logits = tf.squeeze(start_logits, axis=-1)\n",
    "        start_outputs = tf.keras.layers.Softmax(name=\"start\")(start_logits)\n",
    "\n",
    "        end_logits = tf.squeeze(end_logits, axis=-1)\n",
    "        end_outputs = tf.keras.layers.Softmax(name=\"end\")(end_logits)\n",
    "\n",
    "        return start_outputs, end_outputs"
   ]
  },
  {
   "cell_type": "code",
   "execution_count": 60,
   "id": "irish-thriller",
   "metadata": {},
   "outputs": [
    {
     "data": {
      "text/plain": [
       "{'d_model': 512,\n",
       " 'n_head': 8,\n",
       " 'd_head': 64,\n",
       " 'dropout': 0.1,\n",
       " 'd_ff': 1024,\n",
       " 'layernorm_epsilon': 0.001,\n",
       " 'n_layer': 6,\n",
       " 'n_seq': 384,\n",
       " 'n_vocab': 32007,\n",
       " 'i_pad': 0}"
      ]
     },
     "execution_count": 60,
     "metadata": {},
     "output_type": "execute_result"
    }
   ],
   "source": [
    "config = Config({\"d_model\": 512, \"n_head\": 8, \"d_head\": 64, \"dropout\": 0.1, \"d_ff\": 1024, \"layernorm_epsilon\": 0.001, \"n_layer\": 6, \"n_seq\": 384, \"n_vocab\": 0, \"i_pad\": 0})\n",
    "config.n_vocab = len(vocab)\n",
    "config.i_pad = vocab.pad_id()\n",
    "config"
   ]
  },
  {
   "cell_type": "code",
   "execution_count": 61,
   "id": "rolled-third",
   "metadata": {},
   "outputs": [],
   "source": [
    "bert_batch_size = 32 \n",
    "\n",
    "train_dataset = tf.data.Dataset.from_tensor_slices((train_inputs, train_labels)).shuffle(10000).batch(bert_batch_size)\n",
    "dev_dataset = tf.data.Dataset.from_tensor_slices((dev_inputs, dev_labels)).batch(bert_batch_size)"
   ]
  },
  {
   "cell_type": "markdown",
   "id": "ahead-mississippi",
   "metadata": {},
   "source": [
    "# Pretrain model load"
   ]
  },
  {
   "cell_type": "code",
   "execution_count": 62,
   "id": "historical-algeria",
   "metadata": {},
   "outputs": [
    {
     "name": "stdout",
     "output_type": "stream",
     "text": [
      "Model: \"BERT4KorQuAD\"\n",
      "_________________________________________________________________\n",
      "Layer (type)                 Output Shape              Param #   \n",
      "=================================================================\n",
      "bert (BERT)                  multiple                  29202944  \n",
      "_________________________________________________________________\n",
      "dense_36 (Dense)             multiple                  1026      \n",
      "=================================================================\n",
      "Total params: 29,203,970\n",
      "Trainable params: 29,203,970\n",
      "Non-trainable params: 0\n",
      "_________________________________________________________________\n"
     ]
    }
   ],
   "source": [
    "checkpoint_file = os.path.join(model_dir, 'bert_pretrain_32000.hdf5')\n",
    "\n",
    "model = BERT4KorQuAD(config)\n",
    "\n",
    "if os.path.exists(checkpoint_file):\n",
    "    #  pretrained model 을 로드하기 위해 먼저 모델이 생성되어 있어야 한다.\n",
    "    enc_tokens = np.random.randint(0, len(vocab), (4, 10))\n",
    "    segments = np.random.randint(0, 2, (4, 10))\n",
    "    model(enc_tokens, segments)\n",
    "    \n",
    "    # checkpoint 파일로부터 필요한 layer를 불러온다. \n",
    "    model.load_weights(os.path.join(model_dir, \"bert_pretrain_32000.hdf5\"), by_name=True)\n",
    "\n",
    "    model.summary()\n",
    "else:\n",
    "    print('NO Pretrained Model')"
   ]
  },
  {
   "cell_type": "markdown",
   "id": "multiple-burst",
   "metadata": {},
   "source": [
    "# Train"
   ]
  },
  {
   "cell_type": "code",
   "execution_count": 63,
   "id": "sixth-strength",
   "metadata": {},
   "outputs": [],
   "source": [
    "def train_epoch(model, dataset, loss_fn, acc_fn, optimizer):\n",
    "    metric_start_loss = tf.keras.metrics.Mean(name='start_loss')\n",
    "    metric_end_loss = tf.keras.metrics.Mean(name='end_loss')\n",
    "    metric_start_acc = tf.keras.metrics.Mean(name='start_acc')\n",
    "    metric_end_acc = tf.keras.metrics.Mean(name='end_acc')\n",
    "\n",
    "    p_bar = tqdm(dataset)\n",
    "    for batch, ((enc_tokens, segments), (start_labels, end_labels)) in enumerate(p_bar):\n",
    "        with tf.GradientTape() as tape:\n",
    "            start_outputs, end_outputs = model(enc_tokens, segments)\n",
    "\n",
    "            start_loss = loss_fn(start_labels, start_outputs)\n",
    "            end_loss = loss_fn(end_labels, end_outputs)\n",
    "            loss = start_loss + end_loss\n",
    "\n",
    "            start_acc = acc_fn(start_labels, start_outputs)\n",
    "            end_acc = acc_fn(end_labels, end_outputs)\n",
    "        gradients = tape.gradient(loss, model.trainable_variables)\n",
    "        optimizer.apply_gradients(zip(gradients, model.trainable_variables))\n",
    "\n",
    "        metric_start_loss(start_loss)\n",
    "        metric_end_loss(end_loss)\n",
    "        metric_start_acc(start_acc)\n",
    "        metric_end_acc(end_acc)\n",
    "        if batch % 10 == 9:\n",
    "            p_bar.set_description(f'loss: {metric_start_loss.result():0.4f}, {metric_end_loss.result():0.4f}, acc: {metric_start_acc.result():0.4f}, {metric_end_acc.result():0.4f}')\n",
    "    p_bar.close()\n",
    "\n",
    "    return metric_start_loss.result(), metric_end_loss.result(), metric_start_acc.result(), metric_end_acc.result()"
   ]
  },
  {
   "cell_type": "code",
   "execution_count": 64,
   "id": "incomplete-mechanism",
   "metadata": {},
   "outputs": [],
   "source": [
    "def eval_epoch(model, dataset, loss_fn, acc_fn):\n",
    "    metric_start_loss = tf.keras.metrics.Mean(name='start_loss')\n",
    "    metric_end_loss = tf.keras.metrics.Mean(name='end_loss')\n",
    "    metric_start_acc = tf.keras.metrics.Mean(name='start_acc')\n",
    "    metric_end_acc = tf.keras.metrics.Mean(name='end_acc')\n",
    "\n",
    "    for batch, ((enc_tokens, segments), (start_labels, end_labels)) in enumerate(dataset):\n",
    "        start_outputs, end_outputs = model(enc_tokens, segments)\n",
    "\n",
    "        start_loss = loss_fn(start_labels, start_outputs)\n",
    "        end_loss = loss_fn(end_labels, end_outputs)\n",
    "\n",
    "        start_acc = acc_fn(start_labels, start_outputs)\n",
    "        end_acc = acc_fn(end_labels, end_outputs)\n",
    "\n",
    "        metric_start_loss(start_loss)\n",
    "        metric_end_loss(end_loss)\n",
    "        metric_start_acc(start_acc)\n",
    "        metric_end_acc(end_acc)\n",
    "\n",
    "    return metric_start_loss.result(), metric_end_loss.result(), metric_start_acc.result(), metric_end_acc.result()"
   ]
  },
  {
   "cell_type": "code",
   "execution_count": 65,
   "id": "corrected-session",
   "metadata": {},
   "outputs": [],
   "source": [
    "epochs = 1"
   ]
  },
  {
   "cell_type": "code",
   "execution_count": 66,
   "id": "after-heather",
   "metadata": {},
   "outputs": [
    {
     "data": {
      "application/vnd.jupyter.widget-view+json": {
       "model_id": "54691aefe166436492d67208df4463f2",
       "version_major": 2,
       "version_minor": 0
      },
      "text/plain": [
       "  0%|          | 0/1875 [00:00<?, ?it/s]"
      ]
     },
     "metadata": {},
     "output_type": "display_data"
    },
    {
     "name": "stdout",
     "output_type": "stream",
     "text": [
      "eval 0 >> loss: 1.7881, 1.9698, acc: 0.5321, 0.5081\n",
      "save best model\n"
     ]
    }
   ],
   "source": [
    "loss_fn = tf.keras.losses.sparse_categorical_crossentropy\n",
    "acc_fn = tf.keras.metrics.sparse_categorical_accuracy\n",
    "\n",
    "optimizer = tf.keras.optimizers.Adam(learning_rate=5e-4)\n",
    "\n",
    "best_acc = .0\n",
    "patience = 0\n",
    "for epoch in range(epochs):\n",
    "    train_epoch(model, train_dataset, loss_fn, acc_fn, optimizer)\n",
    "    start_loss, end_loss, start_acc, end_acc = eval_epoch(model, dev_dataset, loss_fn, acc_fn)\n",
    "    print(f'eval {epoch} >> loss: {start_loss:0.4f}, {end_loss:0.4f}, acc: {start_acc:0.4f}, {end_acc:0.4f}')\n",
    "    acc = start_acc + end_acc\n",
    "    if best_acc < acc:\n",
    "        patience = 0\n",
    "        best_acc = acc\n",
    "        model.save_weights(os.path.join(data_dir, \"korquad_bert_none_pretrain.hdf5\"))\n",
    "        print(f'save best model')\n",
    "    else:\n",
    "        patience += 1\n",
    "    if 5 <= patience:\n",
    "        print(f'early stopping')\n",
    "        break"
   ]
  },
  {
   "cell_type": "markdown",
   "id": "normal-saskatchewan",
   "metadata": {},
   "source": [
    "# Inference"
   ]
  },
  {
   "cell_type": "code",
   "execution_count": 67,
   "id": "joint-brick",
   "metadata": {},
   "outputs": [],
   "source": [
    "def do_predict(model, question, context):\n",
    "    \"\"\"\n",
    "    입력에 대한 답변 생성하는 함수\n",
    "    :param model: model\n",
    "    :param question: 입력 문자열\n",
    "    :param context: 입력 문자열\n",
    "    \"\"\"\n",
    "    q_tokens = vocab.encode_as_pieces(question)[:args.max_query_length]\n",
    "    c_tokens = vocab.encode_as_pieces(context)[:args.max_seq_length - len(q_tokens) - 3]\n",
    "    tokens = ['[CLS]'] + q_tokens + ['[SEP]'] + c_tokens + ['[SEP]']\n",
    "    token_ids = [vocab.piece_to_id(token) for token in tokens]\n",
    "    segments = [0] * (len(q_tokens) + 2) + [1] * (len(c_tokens) + 1)\n",
    "\n",
    "    y_start, y_end = model(np.array([token_ids]), np.array([segments]))\n",
    "    # print(y_start, y_end)\n",
    "    y_start_idx = K.argmax(y_start, axis=-1)[0].numpy()\n",
    "    y_end_idx = K.argmax(y_end, axis=-1)[0].numpy()\n",
    "    answer_tokens = tokens[y_start_idx:y_end_idx + 1]\n",
    "\n",
    "    return vocab.decode_pieces(answer_tokens)"
   ]
  },
  {
   "cell_type": "code",
   "execution_count": 68,
   "id": "intimate-scottish",
   "metadata": {},
   "outputs": [
    {
     "name": "stdout",
     "output_type": "stream",
     "text": [
      "0\n",
      "질문 :  임종석이 여의도 농민 폭력 시위를 주도한 혐의로 지명수배 된 날은?\n",
      "지문 :  1989년 2월 15일 여의도 농민 폭력 시위를 주도한 혐의(폭력행위등처벌에관한법률위반)으로 지명수배되었다. 1989년 3월 12일 서울지방검찰청 공안부는 임종석의 사전구속영장을 발부받았다. 같은 해 6월 30일 평양축전에 임수경을 대표로 파견하여 국가보안법위반 혐의가 추가되었다. 경찰은 12월 18일~20일 사이 서울 경희대학교에서 임종석이 성명 발표를 추진하고 있다는 첩보를 입수했고, 12월 18일 오전 7시 40분 경 가스총과 전자봉으로 무장한 특공조 및 대공과 직원 12명 등 22명의 사복 경찰을 승용차 8대에 나누어 경희대학교에 투입했다. 1989년 12월 18일 오전 8시 15분 경 서울청량리경찰서는 호위 학생 5명과 함께 경희대학교 학생회관 건물 계단을 내려오는 임종석을 발견, 검거해 구속을 집행했다. 임종석은 청량리경찰서에서 약 1시간 동안 조사를 받은 뒤 오전 9시 50분 경 서울 장안동의 서울지방경찰청 공안분실로 인계되었다.\n",
      "정답 :  1989년 2월 15일\n",
      "예측 :  1989년 2월 15일 \n",
      "\n",
      "1\n",
      "질문 :  1989년 6월 30일 평양축전에 대표로 파견 된 인물은?\n",
      "지문 :  1989년 2월 15일 여의도 농민 폭력 시위를 주도한 혐의(폭력행위등처벌에관한법률위반)으로 지명수배되었다. 1989년 3월 12일 서울지방검찰청 공안부는 임종석의 사전구속영장을 발부받았다. 같은 해 6월 30일 평양축전에 임수경을 대표로 파견하여 국가보안법위반 혐의가 추가되었다. 경찰은 12월 18일~20일 사이 서울 경희대학교에서 임종석이 성명 발표를 추진하고 있다는 첩보를 입수했고, 12월 18일 오전 7시 40분 경 가스총과 전자봉으로 무장한 특공조 및 대공과 직원 12명 등 22명의 사복 경찰을 승용차 8대에 나누어 경희대학교에 투입했다. 1989년 12월 18일 오전 8시 15분 경 서울청량리경찰서는 호위 학생 5명과 함께 경희대학교 학생회관 건물 계단을 내려오는 임종석을 발견, 검거해 구속을 집행했다. 임종석은 청량리경찰서에서 약 1시간 동안 조사를 받은 뒤 오전 9시 50분 경 서울 장안동의 서울지방경찰청 공안분실로 인계되었다.\n",
      "정답 :  임수경\n",
      "예측 :  임수경을 \n",
      "\n",
      "2\n",
      "질문 :  임종석이 여의도 농민 폭력 시위를 주도한 혐의로 지명수배된 연도는?\n",
      "지문 :  1989년 2월 15일 여의도 농민 폭력 시위를 주도한 혐의(폭력행위등처벌에관한법률위반)으로 지명수배되었다. 1989년 3월 12일 서울지방검찰청 공안부는 임종석의 사전구속영장을 발부받았다. 같은 해 6월 30일 평양축전에 임수경을 대표로 파견하여 국가보안법위반 혐의가 추가되었다. 경찰은 12월 18일~20일 사이 서울 경희대학교에서 임종석이 성명 발표를 추진하고 있다는 첩보를 입수했고, 12월 18일 오전 7시 40분 경 가스총과 전자봉으로 무장한 특공조 및 대공과 직원 12명 등 22명의 사복 경찰을 승용차 8대에 나누어 경희대학교에 투입했다. 1989년 12월 18일 오전 8시 15분 경 서울청량리경찰서는 호위 학생 5명과 함께 경희대학교 학생회관 건물 계단을 내려오는 임종석을 발견, 검거해 구속을 집행했다. 임종석은 청량리경찰서에서 약 1시간 동안 조사를 받은 뒤 오전 9시 50분 경 서울 장안동의 서울지방경찰청 공안분실로 인계되었다.\n",
      "정답 :  1989년\n",
      "예측 :  1989년 \n",
      "\n",
      "6\n",
      "질문 :  임종석이 1989년 2월 15일에 지명수배 받은 혐의는 어떤 시위를 주도했다는 것인가?\n",
      "지문 :  1989년 2월 15일 여의도 농민 폭력 시위를 주도한 혐의(폭력행위등처벌에관한법률위반)으로 지명수배되었다. 1989년 3월 12일 서울지방검찰청 공안부는 임종석의 사전구속영장을 발부받았다. 같은 해 6월 30일 평양축전에 임수경을 대표로 파견하여 국가보안법위반 혐의가 추가되었다. 경찰은 12월 18일~20일 사이 서울 경희대학교에서 임종석이 성명 발표를 추진하고 있다는 첩보를 입수했고, 12월 18일 오전 7시 40분 경 가스총과 전자봉으로 무장한 특공조 및 대공과 직원 12명 등 22명의 사복 경찰을 승용차 8대에 나누어 경희대학교에 투입했다. 1989년 12월 18일 오전 8시 15분 경 서울청량리경찰서는 호위 학생 5명과 함께 경희대학교 학생회관 건물 계단을 내려오는 임종석을 발견, 검거해 구속을 집행했다. 임종석은 청량리경찰서에서 약 1시간 동안 조사를 받은 뒤 오전 9시 50분 경 서울 장안동의 서울지방경찰청 공안분실로 인계되었다.\n",
      "정답 :  여의도 농민 폭력 시위\n",
      "예측 :  여의도 농민 폭력 시위를 주도한 \n",
      "\n",
      "7\n",
      "질문 :  정부의 헌법개정안 준비 과정에 대해서 청와대 비서실이 아니라 국무회의 중심으로 이뤄졌어야 했다고 지적한 원로 헌법학자는?\n",
      "지문 :  \"내각과 장관들이 소외되고 대통령비서실의 권한이 너무 크다\", \"행보가 비서 본연의 역할을 벗어난다\"는 의견이 제기되었다. 대표적인 예가 10차 개헌안 발표이다. 원로 헌법학자인 허영 경희대 석좌교수는 정부의 헌법개정안 준비 과정에 대해 \"청와대 비서실이 아닌 국무회의 중심으로 이뤄졌어야 했다\"고 지적했다. '국무회의의 심의를 거쳐야 한다'(제89조)는 헌법 규정에 충실하지 않았다는 것이다. 그러면서 \"법무부 장관을 제쳐놓고 민정수석이 개정안을 설명하는 게 이해가 안 된다\"고 지적했다. 민정수석은 국회의원에 대해 책임지는 법무부 장관도 아니고, 국민에 대해 책임지는 사람도 아니기 때문에 정당성이 없고, 단지 대통령의 신임이 있을 뿐이라는 것이다. 또한 국무총리 선출 방식에 대한 기자의 질문에 \"문 대통령도 취임 전에 국무총리에게 실질적 권한을 주겠다고 했지만 그러지 못하고 있다. 대통령비서실장만도 못한 권한을 행사하고 있다.\"고 답변했다.\n",
      "정답 :  허영\n",
      "예측 :  허영 \n",
      "\n",
      "10\n",
      "질문 :  법무부 장관을 제쳐놓고 민정수석이 개정안을 설명하는 게 이해가 안 된다고 지적한 경희대 석좌교수 이름은?\n",
      "지문 :  \"내각과 장관들이 소외되고 대통령비서실의 권한이 너무 크다\", \"행보가 비서 본연의 역할을 벗어난다\"는 의견이 제기되었다. 대표적인 예가 10차 개헌안 발표이다. 원로 헌법학자인 허영 경희대 석좌교수는 정부의 헌법개정안 준비 과정에 대해 \"청와대 비서실이 아닌 국무회의 중심으로 이뤄졌어야 했다\"고 지적했다. '국무회의의 심의를 거쳐야 한다'(제89조)는 헌법 규정에 충실하지 않았다는 것이다. 그러면서 \"법무부 장관을 제쳐놓고 민정수석이 개정안을 설명하는 게 이해가 안 된다\"고 지적했다. 민정수석은 국회의원에 대해 책임지는 법무부 장관도 아니고, 국민에 대해 책임지는 사람도 아니기 때문에 정당성이 없고, 단지 대통령의 신임이 있을 뿐이라는 것이다. 또한 국무총리 선출 방식에 대한 기자의 질문에 \"문 대통령도 취임 전에 국무총리에게 실질적 권한을 주겠다고 했지만 그러지 못하고 있다. 대통령비서실장만도 못한 권한을 행사하고 있다.\"고 답변했다.\n",
      "정답 :  허영\n",
      "예측 :  허영 \n",
      "\n",
      "20\n",
      "질문 :  알렉산더 헤이그가 미국 육군사관학교로 임명받은 해는 언제인가?\n",
      "지문 :  노터데임 대학교에서 2년간 합리적으로 심각한 공부를 한 후 헤이그는 1944년 미국 육군사관학교로 임명을 획득하여 자신의 어린 시절을 군사 경력의 야망으로 알아챘다. 그 경력은 헤이그의 학문적 경연이 암시하려고 한것보다 더욱 극적이었으며 그는 1947년 310의 동기병에서 217번째 사관으로서 졸업하였다. 22세의 소위로 헤이그는 처음에 캔자스 주 포트라일리에서 정통 제병 연합부대로, 그러고나서 켄터키 주 포트녹스에 있는 기갑 훈련소로 갔다. 그후에 그는 제1 기병 사단으로 선임되고 그러고나서 일본에서 점령군의 임무와 기력이 없는 훈련을 하였다. 그는 1950년 5월 한번 자신의 사령관 알론조 폭스 장군의 딸 퍼트리샤 앤토이넷 폭스와 결혼하여 슬하 3명의 자식을 두었다.\n",
      "정답 :  1944년\n",
      "예측 :  1944년 \n",
      "\n",
      "21\n",
      "질문 :  알렉산더 헤이그는 퍼트리샤 앤토이넷 폭스와 결혼해 몇 명의 자녀를 두었는가?\n",
      "지문 :  노터데임 대학교에서 2년간 합리적으로 심각한 공부를 한 후 헤이그는 1944년 미국 육군사관학교로 임명을 획득하여 자신의 어린 시절을 군사 경력의 야망으로 알아챘다. 그 경력은 헤이그의 학문적 경연이 암시하려고 한것보다 더욱 극적이었으며 그는 1947년 310의 동기병에서 217번째 사관으로서 졸업하였다. 22세의 소위로 헤이그는 처음에 캔자스 주 포트라일리에서 정통 제병 연합부대로, 그러고나서 켄터키 주 포트녹스에 있는 기갑 훈련소로 갔다. 그후에 그는 제1 기병 사단으로 선임되고 그러고나서 일본에서 점령군의 임무와 기력이 없는 훈련을 하였다. 그는 1950년 5월 한번 자신의 사령관 알론조 폭스 장군의 딸 퍼트리샤 앤토이넷 폭스와 결혼하여 슬하 3명의 자식을 두었다.\n",
      "정답 :  3명\n",
      "예측 :  3명의 \n",
      "\n",
      "22\n",
      "질문 :  헤이그가 공부한 대학교는?\n",
      "지문 :  노터데임 대학교에서 2년간 합리적으로 심각한 공부를 한 후 헤이그는 1944년 미국 육군사관학교로 임명을 획득하여 자신의 어린 시절을 군사 경력의 야망으로 알아챘다. 그 경력은 헤이그의 학문적 경연이 암시하려고 한것보다 더욱 극적이었으며 그는 1947년 310의 동기병에서 217번째 사관으로서 졸업하였다. 22세의 소위로 헤이그는 처음에 캔자스 주 포트라일리에서 정통 제병 연합부대로, 그러고나서 켄터키 주 포트녹스에 있는 기갑 훈련소로 갔다. 그후에 그는 제1 기병 사단으로 선임되고 그러고나서 일본에서 점령군의 임무와 기력이 없는 훈련을 하였다. 그는 1950년 5월 한번 자신의 사령관 알론조 폭스 장군의 딸 퍼트리샤 앤토이넷 폭스와 결혼하여 슬하 3명의 자식을 두었다.\n",
      "정답 :  노터데임 대학교\n",
      "예측 :  노터데임 대학교에서 \n",
      "\n",
      "27\n",
      "질문 :  헤이그가 군에서 퇴역한 해는 언제인가?\n",
      "지문 :  헤이그는 닉슨 대통령이 그를 사성 장군과 육군 부참모로 진급시킬 때 집중 광선과 논쟁으로 들어갔다. 헤이그를 군사의 최상으로 밀어넣은 닉슨의 행동은 대통령의 남자들을 다양한 연방 대리법에서 권한의 직우들로 놓은 노력과 함께 일치였다. 하지만 그는 곧 백악관으로 돌아가 1973년부터 1974년까지 대통령 특별 보좌관을 지냈다. 워터게이트 사건이 일어난지 한달 후, 헤이그는 포위된 닉슨 대통령을 위한 치명적 역할을 하였다. 그일은 8월 닉슨의 사임과 제럴드 포드의 대통령으로 계승으로 이끈 협상들에서 헤이그가 수단이었던 우연이 아니었다. 곧 후에 헤이그는 미국 유럽 연합군 최고사령부의 최고 사령관으로 임명되었다. 그는 나토에서 다음 5년을 보내고 1979년 군에서 퇴역하여 미국 기술 주식 회사의 우두머리가 되었다.\n",
      "정답 :  1979년\n",
      "예측 :  1979년 \n",
      "\n",
      "28\n",
      "질문 :  알렉산더 헤이그를 사성 장군과 육군 부참모로 진급시킨 대통령은 누구인가?\n",
      "지문 :  헤이그는 닉슨 대통령이 그를 사성 장군과 육군 부참모로 진급시킬 때 집중 광선과 논쟁으로 들어갔다. 헤이그를 군사의 최상으로 밀어넣은 닉슨의 행동은 대통령의 남자들을 다양한 연방 대리법에서 권한의 직우들로 놓은 노력과 함께 일치였다. 하지만 그는 곧 백악관으로 돌아가 1973년부터 1974년까지 대통령 특별 보좌관을 지냈다. 워터게이트 사건이 일어난지 한달 후, 헤이그는 포위된 닉슨 대통령을 위한 치명적 역할을 하였다. 그일은 8월 닉슨의 사임과 제럴드 포드의 대통령으로 계승으로 이끈 협상들에서 헤이그가 수단이었던 우연이 아니었다. 곧 후에 헤이그는 미국 유럽 연합군 최고사령부의 최고 사령관으로 임명되었다. 그는 나토에서 다음 5년을 보내고 1979년 군에서 퇴역하여 미국 기술 주식 회사의 우두머리가 되었다.\n",
      "정답 :  닉슨 대통령\n",
      "예측 :  닉슨 대통령이 \n",
      "\n",
      "29\n",
      "질문 :  헤이그는 나토에서 얼마나 있었습니까?\n",
      "지문 :  헤이그는 닉슨 대통령이 그를 사성 장군과 육군 부참모로 진급시킬 때 집중 광선과 논쟁으로 들어갔다. 헤이그를 군사의 최상으로 밀어넣은 닉슨의 행동은 대통령의 남자들을 다양한 연방 대리법에서 권한의 직우들로 놓은 노력과 함께 일치였다. 하지만 그는 곧 백악관으로 돌아가 1973년부터 1974년까지 대통령 특별 보좌관을 지냈다. 워터게이트 사건이 일어난지 한달 후, 헤이그는 포위된 닉슨 대통령을 위한 치명적 역할을 하였다. 그일은 8월 닉슨의 사임과 제럴드 포드의 대통령으로 계승으로 이끈 협상들에서 헤이그가 수단이었던 우연이 아니었다. 곧 후에 헤이그는 미국 유럽 연합군 최고사령부의 최고 사령관으로 임명되었다. 그는 나토에서 다음 5년을 보내고 1979년 군에서 퇴역하여 미국 기술 주식 회사의 우두머리가 되었다.\n",
      "정답 :  5년\n",
      "예측 :  5년 \n",
      "\n",
      "30\n",
      "질문 :  헤이그가 군에서 퇴역한 년도는 몇년도입니까?\n",
      "지문 :  헤이그는 닉슨 대통령이 그를 사성 장군과 육군 부참모로 진급시킬 때 집중 광선과 논쟁으로 들어갔다. 헤이그를 군사의 최상으로 밀어넣은 닉슨의 행동은 대통령의 남자들을 다양한 연방 대리법에서 권한의 직우들로 놓은 노력과 함께 일치였다. 하지만 그는 곧 백악관으로 돌아가 1973년부터 1974년까지 대통령 특별 보좌관을 지냈다. 워터게이트 사건이 일어난지 한달 후, 헤이그는 포위된 닉슨 대통령을 위한 치명적 역할을 하였다. 그일은 8월 닉슨의 사임과 제럴드 포드의 대통령으로 계승으로 이끈 협상들에서 헤이그가 수단이었던 우연이 아니었다. 곧 후에 헤이그는 미국 유럽 연합군 최고사령부의 최고 사령관으로 임명되었다. 그는 나토에서 다음 5년을 보내고 1979년 군에서 퇴역하여 미국 기술 주식 회사의 우두머리가 되었다.\n",
      "정답 :  1979년\n",
      "예측 :  5년을 보내고 1979년 \n",
      "\n",
      "32\n",
      "질문 :  헤이그가 군대에서 퇴역한 년도는?\n",
      "지문 :  헤이그는 닉슨 대통령이 그를 사성 장군과 육군 부참모로 진급시킬 때 집중 광선과 논쟁으로 들어갔다. 헤이그를 군사의 최상으로 밀어넣은 닉슨의 행동은 대통령의 남자들을 다양한 연방 대리법에서 권한의 직우들로 놓은 노력과 함께 일치였다. 하지만 그는 곧 백악관으로 돌아가 1973년부터 1974년까지 대통령 특별 보좌관을 지냈다. 워터게이트 사건이 일어난지 한달 후, 헤이그는 포위된 닉슨 대통령을 위한 치명적 역할을 하였다. 그일은 8월 닉슨의 사임과 제럴드 포드의 대통령으로 계승으로 이끈 협상들에서 헤이그가 수단이었던 우연이 아니었다. 곧 후에 헤이그는 미국 유럽 연합군 최고사령부의 최고 사령관으로 임명되었다. 그는 나토에서 다음 5년을 보내고 1979년 군에서 퇴역하여 미국 기술 주식 회사의 우두머리가 되었다.\n",
      "정답 :  1979년\n",
      "예측 :  1979년 \n",
      "\n",
      "34\n",
      "질문 :  알렉산더 헤이그는 레이건의 조언자들을 무엇이라고 묘사하였는가?\n",
      "지문 :  그의 편에 헤이그는 지구촌의 논점들의 국내적 정치 노력들에 관해서만 근심한 레이건의 가까운 조언자들을 \"외교 정책의 아마추어\"로 묘사하였다. 1982년 6월 25일 결국적으로 온 그의 국무장관으로서 사임은 불가능한 상황이 된 것을 끝냈다. 헤이그는 개인적 생활로 돌아갔다가 1988년 대통령 선거를 위한 공화당 후보직을 안정시키는 시도를 하는 데 충분하게 정계로 돌아갔으나 후보직을 이기는 데 성원을 가지지 않았다. 그는 외교 정책 논쟁들에 연설자로서 활동적으로 남아있었으나 그의 전념은 정치에서 개인적 생활로 옮겨졌다. 그는 Worldwide Associates Inc.의 국제적 상담 회사에 의하여 기용되었고, 그 기구의 의장과 회장이 되었다.\n",
      "정답 :  외교 정책의 아마추어\n",
      "예측 :  \"외교 정책의 아마추어\"로 \n",
      "\n",
      "35\n",
      "질문 :  헤이그가 사적생활을 하다가 정계로 돌아갔던 해는 언제인가?\n",
      "지문 :  그의 편에 헤이그는 지구촌의 논점들의 국내적 정치 노력들에 관해서만 근심한 레이건의 가까운 조언자들을 \"외교 정책의 아마추어\"로 묘사하였다. 1982년 6월 25일 결국적으로 온 그의 국무장관으로서 사임은 불가능한 상황이 된 것을 끝냈다. 헤이그는 개인적 생활로 돌아갔다가 1988년 대통령 선거를 위한 공화당 후보직을 안정시키는 시도를 하는 데 충분하게 정계로 돌아갔으나 후보직을 이기는 데 성원을 가지지 않았다. 그는 외교 정책 논쟁들에 연설자로서 활동적으로 남아있었으나 그의 전념은 정치에서 개인적 생활로 옮겨졌다. 그는 Worldwide Associates Inc.의 국제적 상담 회사에 의하여 기용되었고, 그 기구의 의장과 회장이 되었다.\n",
      "정답 :  1988년\n",
      "예측 :  1988년 \n",
      "\n",
      "37\n",
      "질문 :  헤이그가 정계로 돌아간 년도는 몇년도입니까?\n",
      "지문 :  그의 편에 헤이그는 지구촌의 논점들의 국내적 정치 노력들에 관해서만 근심한 레이건의 가까운 조언자들을 \"외교 정책의 아마추어\"로 묘사하였다. 1982년 6월 25일 결국적으로 온 그의 국무장관으로서 사임은 불가능한 상황이 된 것을 끝냈다. 헤이그는 개인적 생활로 돌아갔다가 1988년 대통령 선거를 위한 공화당 후보직을 안정시키는 시도를 하는 데 충분하게 정계로 돌아갔으나 후보직을 이기는 데 성원을 가지지 않았다. 그는 외교 정책 논쟁들에 연설자로서 활동적으로 남아있었으나 그의 전념은 정치에서 개인적 생활로 옮겨졌다. 그는 Worldwide Associates Inc.의 국제적 상담 회사에 의하여 기용되었고, 그 기구의 의장과 회장이 되었다.\n",
      "정답 :  1988년\n",
      "예측 :  1988년 \n",
      "\n",
      "38\n",
      "질문 :  레이건 대통령의 조언자들을 헤이그는 무엇이라고 묘사하였나?\n",
      "지문 :  그의 편에 헤이그는 지구촌의 논점들의 국내적 정치 노력들에 관해서만 근심한 레이건의 가까운 조언자들을 \"외교 정책의 아마추어\"로 묘사하였다. 1982년 6월 25일 결국적으로 온 그의 국무장관으로서 사임은 불가능한 상황이 된 것을 끝냈다. 헤이그는 개인적 생활로 돌아갔다가 1988년 대통령 선거를 위한 공화당 후보직을 안정시키는 시도를 하는 데 충분하게 정계로 돌아갔으나 후보직을 이기는 데 성원을 가지지 않았다. 그는 외교 정책 논쟁들에 연설자로서 활동적으로 남아있었으나 그의 전념은 정치에서 개인적 생활로 옮겨졌다. 그는 Worldwide Associates Inc.의 국제적 상담 회사에 의하여 기용되었고, 그 기구의 의장과 회장이 되었다.\n",
      "정답 :  외교 정책의 아마추어\n",
      "예측 :  \"외교 정책의 아마추어\"로 \n",
      "\n",
      "39\n",
      "질문 :  헤이그가 정계로 다시 돌아간 년도는?\n",
      "지문 :  그의 편에 헤이그는 지구촌의 논점들의 국내적 정치 노력들에 관해서만 근심한 레이건의 가까운 조언자들을 \"외교 정책의 아마추어\"로 묘사하였다. 1982년 6월 25일 결국적으로 온 그의 국무장관으로서 사임은 불가능한 상황이 된 것을 끝냈다. 헤이그는 개인적 생활로 돌아갔다가 1988년 대통령 선거를 위한 공화당 후보직을 안정시키는 시도를 하는 데 충분하게 정계로 돌아갔으나 후보직을 이기는 데 성원을 가지지 않았다. 그는 외교 정책 논쟁들에 연설자로서 활동적으로 남아있었으나 그의 전념은 정치에서 개인적 생활로 옮겨졌다. 그는 Worldwide Associates Inc.의 국제적 상담 회사에 의하여 기용되었고, 그 기구의 의장과 회장이 되었다.\n",
      "정답 :  1988년\n",
      "예측 :  1988년 \n",
      "\n"
     ]
    },
    {
     "name": "stdout",
     "output_type": "stream",
     "text": [
      "40\n",
      "질문 :  하나님의 명령에 배를 만들고 가족과 짐승들을 배에 태워 홍수를 피한 사람은 누구인가?\n",
      "지문 :  노아는 하나님의 명령에 따라 배를 만들고 가족과 정결한 짐승 암수 일곱 마리씩, 부정한 짐승 암수 한 마리씩(혹은 두 마리씩; 사본에 따라 다름), 그리고 새 암수 일곱 마리씩을 싣고 밀어닥친 홍수를 피하였다. 모든 사람들이 타락한 생활에 빠져 있어 하나님이 홍수로 심판하려 할 때 홀로 바르게 살던 노아는 하나님의 특별한 계시로 홍수가 올 것을 미리 알게 된다. 그는 길이 300 규빗, 너비 50 규빗, 높이 30 규빗(고대의 1규빗은 팔꿈치에서 가운데 손가락끝까지의 길이로 약 45~46cm를 가리킴), 상 ·중 ·하 3층으로 된 방주를 만들어 8명의 가족과, 한 쌍씩의 여러 동물을 데리고 이 방주에 탄다. 대홍수를 만나 모든 생물(물고기 제외)이 전멸하고 말았지만, 이 방주에 탔던 노아의 가족과 동물들은 살아 남았다고 한다.〈창세기〉 6장 14~16절에 보면 길이 300규빗 (약 135m), 폭 50 규빗 (약 22.5m), 높이 30 규빗 (약 13.5m)인 이 배는 지붕과 문을 달고 배 안은 3층으로 만들어져 있었다. 선체(船體)는 고페르나무(잣나무)로 되고 안쪽에는 역청(아스팔트와 비슷한 성분)을 칠하여 굳혔다고 기록하고 있다.\n",
      "정답 :  노아\n",
      "예측 :  노아는 \n",
      "\n",
      "42\n",
      "질문 :  노아의 방주의 선체는 어떠한 나무로 만들었는가?\n",
      "지문 :  노아는 하나님의 명령에 따라 배를 만들고 가족과 정결한 짐승 암수 일곱 마리씩, 부정한 짐승 암수 한 마리씩(혹은 두 마리씩; 사본에 따라 다름), 그리고 새 암수 일곱 마리씩을 싣고 밀어닥친 홍수를 피하였다. 모든 사람들이 타락한 생활에 빠져 있어 하나님이 홍수로 심판하려 할 때 홀로 바르게 살던 노아는 하나님의 특별한 계시로 홍수가 올 것을 미리 알게 된다. 그는 길이 300 규빗, 너비 50 규빗, 높이 30 규빗(고대의 1규빗은 팔꿈치에서 가운데 손가락끝까지의 길이로 약 45~46cm를 가리킴), 상 ·중 ·하 3층으로 된 방주를 만들어 8명의 가족과, 한 쌍씩의 여러 동물을 데리고 이 방주에 탄다. 대홍수를 만나 모든 생물(물고기 제외)이 전멸하고 말았지만, 이 방주에 탔던 노아의 가족과 동물들은 살아 남았다고 한다.〈창세기〉 6장 14~16절에 보면 길이 300규빗 (약 135m), 폭 50 규빗 (약 22.5m), 높이 30 규빗 (약 13.5m)인 이 배는 지붕과 문을 달고 배 안은 3층으로 만들어져 있었다. 선체(船體)는 고페르나무(잣나무)로 되고 안쪽에는 역청(아스팔트와 비슷한 성분)을 칠하여 굳혔다고 기록하고 있다.\n",
      "정답 :  고페르나무\n",
      "예측 :  고페르나무(잣나무)로 \n",
      "\n",
      "47\n",
      "질문 :  노아의 방주는 총 몇층으로 되어 있었는가?\n",
      "지문 :  노아는 하나님의 명령에 따라 배를 만들고 가족과 정결한 짐승 암수 일곱 마리씩, 부정한 짐승 암수 한 마리씩(혹은 두 마리씩; 사본에 따라 다름), 그리고 새 암수 일곱 마리씩을 싣고 밀어닥친 홍수를 피하였다. 모든 사람들이 타락한 생활에 빠져 있어 하나님이 홍수로 심판하려 할 때 홀로 바르게 살던 노아는 하나님의 특별한 계시로 홍수가 올 것을 미리 알게 된다. 그는 길이 300 규빗, 너비 50 규빗, 높이 30 규빗(고대의 1규빗은 팔꿈치에서 가운데 손가락끝까지의 길이로 약 45~46cm를 가리킴), 상 ·중 ·하 3층으로 된 방주를 만들어 8명의 가족과, 한 쌍씩의 여러 동물을 데리고 이 방주에 탄다. 대홍수를 만나 모든 생물(물고기 제외)이 전멸하고 말았지만, 이 방주에 탔던 노아의 가족과 동물들은 살아 남았다고 한다.〈창세기〉 6장 14~16절에 보면 길이 300규빗 (약 135m), 폭 50 규빗 (약 22.5m), 높이 30 규빗 (약 13.5m)인 이 배는 지붕과 문을 달고 배 안은 3층으로 만들어져 있었다. 선체(船體)는 고페르나무(잣나무)로 되고 안쪽에는 역청(아스팔트와 비슷한 성분)을 칠하여 굳혔다고 기록하고 있다.\n",
      "정답 :  3층\n",
      "예측 :  3층으로 \n",
      "\n",
      "49\n",
      "질문 :  노아의 방주를 상징적 의미로 받아들이는 종교는 무엇인가?\n",
      "지문 :  역사학과 과학이 발달하지 않았던 과거 전통 신학계에서는 근본주의적 시각을 받아들여 노아의 방주를 역사적 사실로 기술하려 했으며, 이러한 관점은 아직도 과학과 역사학에 어두운 보수적 근본주의계열의 개신교에서만 받아들여지고 있다. 하지만 역사학과 과학의 발달로 인해, 노아의 방주의 실존에 대한 의문이 제기가 되고, 세계적 홍수가 존재할 수 없음이 밝혀짐에 따라 현대 신학계에서는 비록 노아의 홍수가 과학적으로 실존하지는 않았지만 그 자체의 의미는 신학적으로 매우 중요하며, 이에 대한 해석은 다양하게 이루어지고 있으며, 대부분의 기독교(가톨릭, 개신교를 포함한 대부분)에서는 노아의 방주는 상징적 의미로 받아들여진다. 그러므로 과학과는 상관없이 신학적으로 노아의 방주 자체의 의미는 중요하게 해석된다고 한다\n",
      "정답 :  기독교\n",
      "예측 :  대부분의 기독교 \n",
      "\n",
      "50\n",
      "질문 :  노아의 방주의 실존에 대한 의문이 제기되고 세계적 홍수가 없었다는 것이 밝혀지게된 이유는?\n",
      "지문 :  역사학과 과학이 발달하지 않았던 과거 전통 신학계에서는 근본주의적 시각을 받아들여 노아의 방주를 역사적 사실로 기술하려 했으며, 이러한 관점은 아직도 과학과 역사학에 어두운 보수적 근본주의계열의 개신교에서만 받아들여지고 있다. 하지만 역사학과 과학의 발달로 인해, 노아의 방주의 실존에 대한 의문이 제기가 되고, 세계적 홍수가 존재할 수 없음이 밝혀짐에 따라 현대 신학계에서는 비록 노아의 홍수가 과학적으로 실존하지는 않았지만 그 자체의 의미는 신학적으로 매우 중요하며, 이에 대한 해석은 다양하게 이루어지고 있으며, 대부분의 기독교(가톨릭, 개신교를 포함한 대부분)에서는 노아의 방주는 상징적 의미로 받아들여진다. 그러므로 과학과는 상관없이 신학적으로 노아의 방주 자체의 의미는 중요하게 해석된다고 한다\n",
      "정답 :  역사학과 과학의 발달\n",
      "예측 :  역사학과 과학의 발달로 인해, 노아의 방주의 실존에 대한 의문이 제기가 되고, 세계적 홍수가 존재할 수 없음이 밝혀짐에 따라 현대 신학계 \n",
      "\n",
      "51\n",
      "질문 :  역사학과 과학의 발달이 미비했을 때 전통 신학계에서는 어떠한 시작으로 노아의 방주를 역사적 사실로 기술하였는가?\n",
      "지문 :  역사학과 과학이 발달하지 않았던 과거 전통 신학계에서는 근본주의적 시각을 받아들여 노아의 방주를 역사적 사실로 기술하려 했으며, 이러한 관점은 아직도 과학과 역사학에 어두운 보수적 근본주의계열의 개신교에서만 받아들여지고 있다. 하지만 역사학과 과학의 발달로 인해, 노아의 방주의 실존에 대한 의문이 제기가 되고, 세계적 홍수가 존재할 수 없음이 밝혀짐에 따라 현대 신학계에서는 비록 노아의 홍수가 과학적으로 실존하지는 않았지만 그 자체의 의미는 신학적으로 매우 중요하며, 이에 대한 해석은 다양하게 이루어지고 있으며, 대부분의 기독교(가톨릭, 개신교를 포함한 대부분)에서는 노아의 방주는 상징적 의미로 받아들여진다. 그러므로 과학과는 상관없이 신학적으로 노아의 방주 자체의 의미는 중요하게 해석된다고 한다\n",
      "정답 :  근본주의적\n",
      "예측 :  근본주의적 시각 \n",
      "\n",
      "56\n",
      "질문 :  제칠일안식교에서 비롯된 의사과학의 한 종류인 유사지질학의 이름은 무엇인가?\n",
      "지문 :  역사학과 과학의 발달이 더뎠던 고대사회에서는, 성경이 단순한 교리적인 부분 뿐 아니라 역사책으로서의 권위도 높았기에 노아의 방주를 역사적인 존재로서 다루고 있었다. 이는 제칠일안식교에서 비롯된 의사과학의 한 종류인 유사지질학인 홍수지질학과 같은 것에 영향을 주었으며, 과거 신학에서는 이러한 근본주의적 해석을 받아들여 역사와 사회적인 모든 부분에 있어 성경을 교과서로 채택할 것을 촉구했다. 이러한 홍수지질학을 주장했던 유사지질학자들은 성경에 나오는 노아의 홍수가 어딘가에 그 흔적이 남아 있을것이라고 주장하며 노아의 방주를 찾기 위한 노력을 했다고 주장한다. 이들은 같은 메소포타미아 지방의 신화인 이슬람교 경전이나 길가메쉬 서사시등의 신화를 들어서 이를 근거라고 주장하기도 했다. 그러나 이러한 전통적 근본주의적 시각은 과거에는 상당히 힘을 얻었으나, 역사학과 과학의 발달에 따라 힘을 잃게 되었고, 홍수지질학은 유사과학으로서 남게 되었다. 현대에는 뒤의 실존논란에서 다루는 것처럼 이러한 근본주의적 해석은 비과학적인 해석으로 여기는 것이 일반적이지만, 남침례교로 대표되는 극보수주의계열 기독교에서는 아직도 이것이 받아들여지고 있다.\n",
      "정답 :  홍수지질학\n",
      "예측 :  홍수지질학과 \n",
      "\n",
      "57\n",
      "질문 :  극보수주의계열의 기독교이자 아직도 노아의 홍수가 있었다고 주장하는 곳은 어디인가?\n",
      "지문 :  역사학과 과학의 발달이 더뎠던 고대사회에서는, 성경이 단순한 교리적인 부분 뿐 아니라 역사책으로서의 권위도 높았기에 노아의 방주를 역사적인 존재로서 다루고 있었다. 이는 제칠일안식교에서 비롯된 의사과학의 한 종류인 유사지질학인 홍수지질학과 같은 것에 영향을 주었으며, 과거 신학에서는 이러한 근본주의적 해석을 받아들여 역사와 사회적인 모든 부분에 있어 성경을 교과서로 채택할 것을 촉구했다. 이러한 홍수지질학을 주장했던 유사지질학자들은 성경에 나오는 노아의 홍수가 어딘가에 그 흔적이 남아 있을것이라고 주장하며 노아의 방주를 찾기 위한 노력을 했다고 주장한다. 이들은 같은 메소포타미아 지방의 신화인 이슬람교 경전이나 길가메쉬 서사시등의 신화를 들어서 이를 근거라고 주장하기도 했다. 그러나 이러한 전통적 근본주의적 시각은 과거에는 상당히 힘을 얻었으나, 역사학과 과학의 발달에 따라 힘을 잃게 되었고, 홍수지질학은 유사과학으로서 남게 되었다. 현대에는 뒤의 실존논란에서 다루는 것처럼 이러한 근본주의적 해석은 비과학적인 해석으로 여기는 것이 일반적이지만, 남침례교로 대표되는 극보수주의계열 기독교에서는 아직도 이것이 받아들여지고 있다.\n",
      "정답 :  남침례교\n",
      "예측 :  남침례교 \n",
      "\n",
      "58\n",
      "질문 :  고대사회에서 성경은 교리를 다루는 책일 뿐만 아니라 어떤 책으로도 권위가 상당했는가?\n",
      "지문 :  역사학과 과학의 발달이 더뎠던 고대사회에서는, 성경이 단순한 교리적인 부분 뿐 아니라 역사책으로서의 권위도 높았기에 노아의 방주를 역사적인 존재로서 다루고 있었다. 이는 제칠일안식교에서 비롯된 의사과학의 한 종류인 유사지질학인 홍수지질학과 같은 것에 영향을 주었으며, 과거 신학에서는 이러한 근본주의적 해석을 받아들여 역사와 사회적인 모든 부분에 있어 성경을 교과서로 채택할 것을 촉구했다. 이러한 홍수지질학을 주장했던 유사지질학자들은 성경에 나오는 노아의 홍수가 어딘가에 그 흔적이 남아 있을것이라고 주장하며 노아의 방주를 찾기 위한 노력을 했다고 주장한다. 이들은 같은 메소포타미아 지방의 신화인 이슬람교 경전이나 길가메쉬 서사시등의 신화를 들어서 이를 근거라고 주장하기도 했다. 그러나 이러한 전통적 근본주의적 시각은 과거에는 상당히 힘을 얻었으나, 역사학과 과학의 발달에 따라 힘을 잃게 되었고, 홍수지질학은 유사과학으로서 남게 되었다. 현대에는 뒤의 실존논란에서 다루는 것처럼 이러한 근본주의적 해석은 비과학적인 해석으로 여기는 것이 일반적이지만, 남침례교로 대표되는 극보수주의계열 기독교에서는 아직도 이것이 받아들여지고 있다.\n",
      "정답 :  역사책\n",
      "예측 :  역사책 \n",
      "\n",
      "59\n",
      "질문 :  역사학과 과학의 발달로 홍수지질학은 어떤 과학으로 남게 되었는가?\n",
      "지문 :  역사학과 과학의 발달이 더뎠던 고대사회에서는, 성경이 단순한 교리적인 부분 뿐 아니라 역사책으로서의 권위도 높았기에 노아의 방주를 역사적인 존재로서 다루고 있었다. 이는 제칠일안식교에서 비롯된 의사과학의 한 종류인 유사지질학인 홍수지질학과 같은 것에 영향을 주었으며, 과거 신학에서는 이러한 근본주의적 해석을 받아들여 역사와 사회적인 모든 부분에 있어 성경을 교과서로 채택할 것을 촉구했다. 이러한 홍수지질학을 주장했던 유사지질학자들은 성경에 나오는 노아의 홍수가 어딘가에 그 흔적이 남아 있을것이라고 주장하며 노아의 방주를 찾기 위한 노력을 했다고 주장한다. 이들은 같은 메소포타미아 지방의 신화인 이슬람교 경전이나 길가메쉬 서사시등의 신화를 들어서 이를 근거라고 주장하기도 했다. 그러나 이러한 전통적 근본주의적 시각은 과거에는 상당히 힘을 얻었으나, 역사학과 과학의 발달에 따라 힘을 잃게 되었고, 홍수지질학은 유사과학으로서 남게 되었다. 현대에는 뒤의 실존논란에서 다루는 것처럼 이러한 근본주의적 해석은 비과학적인 해석으로 여기는 것이 일반적이지만, 남침례교로 대표되는 극보수주의계열 기독교에서는 아직도 이것이 받아들여지고 있다.\n",
      "정답 :  유사과학\n",
      "예측 :  힘을 잃게 되었고, 홍수지질학은 유사과학 \n",
      "\n",
      "63\n",
      "질문 :  노아의 방주가 역사적으로 실재했다는 주장은 무엇이 존재하지 않아 학계로부터 전혀 인정받지 못하고 있는가?\n",
      "지문 :  물론 노아의 방주가 신학과 신앙에서 중요한 영향을 차지하는 것은 사실이나, 현재 노아의 방주가 역사적으로 실존한다는 주장은 그 증거가 존재하지 않기에 관련 학계로부터 전혀 인정받지 못하고 있으며 그 실존과 안정성에 대한 수많은 논란이 있다. 한국창조과학회 등에서는 제칠일안식교를 기반으로 한 홍수지질학적 주장들을을 내어 놓고 있지만, 사실과 다른 근거들을 바탕으로 주장하므로 신뢰하기 힘든 것들이 전부라 할 수 있다. 그러므로 현재 노아의 방주가 실존한다는 주장은 그 증거가 존재하지 않기에 관련 학계로부터 전혀 인정받지 못하고 있다. 모든 과학관련 학계에서는 노아의 방주의 구조나 재질등이 실제로 존재할 수 없는 설화속 이야기라는 데에 동의하고 있다.\n",
      "정답 :  증거\n",
      "예측 :  증거가 존재하지 않기 \n",
      "\n",
      "65\n",
      "질문 :  1955년 목재의 파편을 발견한 프랑스의 탐험가 이름은?\n",
      "지문 :  일반적으로 터키의 아라랏 산의 경우, 실제 성경 속에 등장하는 아라랏 산은 지금 아라랏이라 불리는 하나의 산이 아니라 당시 아라랏이라고 불리던 광대한 지역의 산들을 모두 가리키는 표현이라는 주장도 나와 있으며, 또한 목재로 만들어진 방주가 현재까지 남아있을 수는 없다는 비판도 받고 있다. 예를 들어, 1955년 프랑스의 탐험가인 Fernand Navarra가 발견한 목재 파편의 경우, 스페인의 임업 연구소에서 목재의 특성을 토대로 5000년 전의 것이라고 밝히긴 했으나 그 신빙성에 문제점이 있었고 후에 방사성 동위원소 측정법 등의 첨단 과학의 도움을 받은 5개 연구소에서 모두 기원 이후의 시기로 연대를 측정했다. 2009년 뿐 아니라 거의 수년에 한번씩 어디선가 노아의 방주를 발견했다는 주장들이 제시되었지만, 심지어 같은 창조과학을 주장하는 사람들에게조차 비판받을 정도였다. 노아의 방주가 다른 여러 지방에서 발견되었다는 주장이 있으나 너무나 다양한 지방(중국, 터키, 인도 등)에 걸쳐있고, 그 주장도 각각 제각각이므로 신빙성이 없다. 예를 들자면, 중국 BTV에서는 2012년에 중국에서 노아의 방주가 발견되었다는 보도를 하였는데, 이것은 창조과학회에서 주장하는 장소와는 전혀 다른곳이기도 하며, 화석화가 진행되지 않은 나무의 존재등으로 가짜임이 밝혀졌다. 때때로 일부 \"학자\"라 칭하는 사람들이 이를 찾기 위해 노력한다고 주장하지만, 이는 학계에서 유사지질학으로 평가되고 있다.\n",
      "정답 :  Fernand Navarra\n",
      "예측 :  Fernand Navarra \n",
      "\n",
      "66\n",
      "질문 :  2012년 중국에서 노아의 방주가 발견되었다는 보도를 한 방송사는 어디인가?\n",
      "지문 :  일반적으로 터키의 아라랏 산의 경우, 실제 성경 속에 등장하는 아라랏 산은 지금 아라랏이라 불리는 하나의 산이 아니라 당시 아라랏이라고 불리던 광대한 지역의 산들을 모두 가리키는 표현이라는 주장도 나와 있으며, 또한 목재로 만들어진 방주가 현재까지 남아있을 수는 없다는 비판도 받고 있다. 예를 들어, 1955년 프랑스의 탐험가인 Fernand Navarra가 발견한 목재 파편의 경우, 스페인의 임업 연구소에서 목재의 특성을 토대로 5000년 전의 것이라고 밝히긴 했으나 그 신빙성에 문제점이 있었고 후에 방사성 동위원소 측정법 등의 첨단 과학의 도움을 받은 5개 연구소에서 모두 기원 이후의 시기로 연대를 측정했다. 2009년 뿐 아니라 거의 수년에 한번씩 어디선가 노아의 방주를 발견했다는 주장들이 제시되었지만, 심지어 같은 창조과학을 주장하는 사람들에게조차 비판받을 정도였다. 노아의 방주가 다른 여러 지방에서 발견되었다는 주장이 있으나 너무나 다양한 지방(중국, 터키, 인도 등)에 걸쳐있고, 그 주장도 각각 제각각이므로 신빙성이 없다. 예를 들자면, 중국 BTV에서는 2012년에 중국에서 노아의 방주가 발견되었다는 보도를 하였는데, 이것은 창조과학회에서 주장하는 장소와는 전혀 다른곳이기도 하며, 화석화가 진행되지 않은 나무의 존재등으로 가짜임이 밝혀졌다. 때때로 일부 \"학자\"라 칭하는 사람들이 이를 찾기 위해 노력한다고 주장하지만, 이는 학계에서 유사지질학으로 평가되고 있다.\n",
      "정답 :  BTV\n",
      "예측 :  중국 BTV \n",
      "\n",
      "68\n",
      "질문 :  중국에서 2012년 발견되었다고 주장한 노아의 방주는 화석화가 진행되지 않은 무엇때문에 가짜임이 밝혀졌는가?\n",
      "지문 :  일반적으로 터키의 아라랏 산의 경우, 실제 성경 속에 등장하는 아라랏 산은 지금 아라랏이라 불리는 하나의 산이 아니라 당시 아라랏이라고 불리던 광대한 지역의 산들을 모두 가리키는 표현이라는 주장도 나와 있으며, 또한 목재로 만들어진 방주가 현재까지 남아있을 수는 없다는 비판도 받고 있다. 예를 들어, 1955년 프랑스의 탐험가인 Fernand Navarra가 발견한 목재 파편의 경우, 스페인의 임업 연구소에서 목재의 특성을 토대로 5000년 전의 것이라고 밝히긴 했으나 그 신빙성에 문제점이 있었고 후에 방사성 동위원소 측정법 등의 첨단 과학의 도움을 받은 5개 연구소에서 모두 기원 이후의 시기로 연대를 측정했다. 2009년 뿐 아니라 거의 수년에 한번씩 어디선가 노아의 방주를 발견했다는 주장들이 제시되었지만, 심지어 같은 창조과학을 주장하는 사람들에게조차 비판받을 정도였다. 노아의 방주가 다른 여러 지방에서 발견되었다는 주장이 있으나 너무나 다양한 지방(중국, 터키, 인도 등)에 걸쳐있고, 그 주장도 각각 제각각이므로 신빙성이 없다. 예를 들자면, 중국 BTV에서는 2012년에 중국에서 노아의 방주가 발견되었다는 보도를 하였는데, 이것은 창조과학회에서 주장하는 장소와는 전혀 다른곳이기도 하며, 화석화가 진행되지 않은 나무의 존재등으로 가짜임이 밝혀졌다. 때때로 일부 \"학자\"라 칭하는 사람들이 이를 찾기 위해 노력한다고 주장하지만, 이는 학계에서 유사지질학으로 평가되고 있다.\n",
      "정답 :  나무\n",
      "예측 :  중국 BTV에서는 2012년에 중국에서 노아의 방주가 발견되었다는 보도를 하였는데, 이것은 창조과학회에서 주장하는 장소와는 전혀 다른곳이기도 하며, 화석화가 진행되지 않은 나무의 존재등으로 \n",
      "\n"
     ]
    },
    {
     "name": "stdout",
     "output_type": "stream",
     "text": [
      "70\n",
      "질문 :  2012년 중국 BTV에서 노아의 방주가 발견되었다고 보도한 나라는?\n",
      "지문 :  일반적으로 터키의 아라랏 산의 경우, 실제 성경 속에 등장하는 아라랏 산은 지금 아라랏이라 불리는 하나의 산이 아니라 당시 아라랏이라고 불리던 광대한 지역의 산들을 모두 가리키는 표현이라는 주장도 나와 있으며, 또한 목재로 만들어진 방주가 현재까지 남아있을 수는 없다는 비판도 받고 있다. 예를 들어, 1955년 프랑스의 탐험가인 Fernand Navarra가 발견한 목재 파편의 경우, 스페인의 임업 연구소에서 목재의 특성을 토대로 5000년 전의 것이라고 밝히긴 했으나 그 신빙성에 문제점이 있었고 후에 방사성 동위원소 측정법 등의 첨단 과학의 도움을 받은 5개 연구소에서 모두 기원 이후의 시기로 연대를 측정했다. 2009년 뿐 아니라 거의 수년에 한번씩 어디선가 노아의 방주를 발견했다는 주장들이 제시되었지만, 심지어 같은 창조과학을 주장하는 사람들에게조차 비판받을 정도였다. 노아의 방주가 다른 여러 지방에서 발견되었다는 주장이 있으나 너무나 다양한 지방(중국, 터키, 인도 등)에 걸쳐있고, 그 주장도 각각 제각각이므로 신빙성이 없다. 예를 들자면, 중국 BTV에서는 2012년에 중국에서 노아의 방주가 발견되었다는 보도를 하였는데, 이것은 창조과학회에서 주장하는 장소와는 전혀 다른곳이기도 하며, 화석화가 진행되지 않은 나무의 존재등으로 가짜임이 밝혀졌다. 때때로 일부 \"학자\"라 칭하는 사람들이 이를 찾기 위해 노력한다고 주장하지만, 이는 학계에서 유사지질학으로 평가되고 있다.\n",
      "정답 :  중국\n",
      "예측 :  중국에서 노아의 방주가 \n",
      "\n",
      "71\n",
      "질문 :  현재의 생물다양성은 대략 몇 종 인가?\n",
      "지문 :  기독교 성경 내용에는 모든 종들을 방주에 태운다고 이야기하고 있으나, 어류나 수중 생물에 대해서는 언급하지 않았다. 이것을 신학적 의미로만 받아들이면 괜찮은 문제이나, 이 현상이 실제로 일어났다고 가정할 경우,이는 종 간 생존 환경의 차이에 대해서 간과하고 있다. 수중 생물이라 하더라도 종에 따라 생존할 수 있는 환경은 각각 다른 것이며, 40일 이내에 현존하는 가장 높은 산인 에베레스트 산도 잠기게 할 정도의 폭우로 인해 담수와 염수가 급작스럽게 섞일 경우, 급격한 삼투압 변화로 인해 대부분의 수생생물들이 폐사하게 되며, 결과적으로 육지 뿐 아니라 바다와 강의 모든 생태계가 파괴된다. 이후 5천년이라는 지극히 짧은 세월 동안 지구상의 동식물이 모두 페름기 대멸종 또는 K-T 대멸종에 준하는 대량절멸에 가까운 상태에서부터 시작하여 현재의 대략 870만(±120만)종에 달하는 생물다양성을 획득하려면 모든 생물들이 각 세대마다 종분화가 일어나야 할 만큼 엄청난 속도로 진화 및 번식이 (멸종 없이) 이루어져야만 가능한 일이다. (이와 관련하여 창조과학회 측에서는 북극곰의 예시를 통해 가지고 있던 특성이 없어지는 것이 진화가 아니라고 주장하지만, 통상적으로 알려진 바와 같이 생물학에서는 이미 존재하는 특성이 없어지는 현상, 즉 퇴화 역시 진화의 정의에 포함된다.) 즉, 노아의 홍수가 실재하는 사건이었다면 진화적 종분화가 현재까지 알려진 것과 비교할 수 없이 엄청난 속도로 이루어져야만 현재 지구의 생물다양성을 설명할 수 있다. 게다가 이것은 현재의 생물종 멸종 속도를 전혀 고려하지 않았다. 다시 말해, 노아의 홍수가 실재하는 전지구적인 사건이기 위해서는 최소 캄브리아기 대폭발 수준의 폭발적인 진화적 종분화가 1-2억년이 아니라 최대 3-4천년 이내에 이루어졌어야만 현생 지구의 생물다양성에 대한 설명이 가능해진다. 그보다 더 중요한 것은, 각 동물들이 차지하는 영역과 먹이사슬에서의 위치, 375일 동안 먹이도 없이 밀폐된 공간으로 인해 받을 스트레스 등 생태적 지위에 대한 고려가 전혀 없다는 점이다. 또한 바다에서 생존이 불가능한 생물종까지 숫자에 포함되었다는 점에서 논란이 있다.\n",
      "정답 :  870만\n",
      "예측 :  870만 \n",
      "\n",
      "73\n",
      "질문 :  급작스러운 폭우로 담수와 염수가 섞일 경우 삼투압 변화로 폐사하는 생물류는?\n",
      "지문 :  기독교 성경 내용에는 모든 종들을 방주에 태운다고 이야기하고 있으나, 어류나 수중 생물에 대해서는 언급하지 않았다. 이것을 신학적 의미로만 받아들이면 괜찮은 문제이나, 이 현상이 실제로 일어났다고 가정할 경우,이는 종 간 생존 환경의 차이에 대해서 간과하고 있다. 수중 생물이라 하더라도 종에 따라 생존할 수 있는 환경은 각각 다른 것이며, 40일 이내에 현존하는 가장 높은 산인 에베레스트 산도 잠기게 할 정도의 폭우로 인해 담수와 염수가 급작스럽게 섞일 경우, 급격한 삼투압 변화로 인해 대부분의 수생생물들이 폐사하게 되며, 결과적으로 육지 뿐 아니라 바다와 강의 모든 생태계가 파괴된다. 이후 5천년이라는 지극히 짧은 세월 동안 지구상의 동식물이 모두 페름기 대멸종 또는 K-T 대멸종에 준하는 대량절멸에 가까운 상태에서부터 시작하여 현재의 대략 870만(±120만)종에 달하는 생물다양성을 획득하려면 모든 생물들이 각 세대마다 종분화가 일어나야 할 만큼 엄청난 속도로 진화 및 번식이 (멸종 없이) 이루어져야만 가능한 일이다. (이와 관련하여 창조과학회 측에서는 북극곰의 예시를 통해 가지고 있던 특성이 없어지는 것이 진화가 아니라고 주장하지만, 통상적으로 알려진 바와 같이 생물학에서는 이미 존재하는 특성이 없어지는 현상, 즉 퇴화 역시 진화의 정의에 포함된다.) 즉, 노아의 홍수가 실재하는 사건이었다면 진화적 종분화가 현재까지 알려진 것과 비교할 수 없이 엄청난 속도로 이루어져야만 현재 지구의 생물다양성을 설명할 수 있다. 게다가 이것은 현재의 생물종 멸종 속도를 전혀 고려하지 않았다. 다시 말해, 노아의 홍수가 실재하는 전지구적인 사건이기 위해서는 최소 캄브리아기 대폭발 수준의 폭발적인 진화적 종분화가 1-2억년이 아니라 최대 3-4천년 이내에 이루어졌어야만 현생 지구의 생물다양성에 대한 설명이 가능해진다. 그보다 더 중요한 것은, 각 동물들이 차지하는 영역과 먹이사슬에서의 위치, 375일 동안 먹이도 없이 밀폐된 공간으로 인해 받을 스트레스 등 생태적 지위에 대한 고려가 전혀 없다는 점이다. 또한 바다에서 생존이 불가능한 생물종까지 숫자에 포함되었다는 점에서 논란이 있다.\n",
      "정답 :  수생생물\n",
      "예측 :  수생생물 \n",
      "\n",
      "78\n",
      "질문 :  목재 선박의 배수량의 한계는 얼마인가?\n",
      "지문 :  창조과학회에서는 또한 노아의 방주가 안정적인 구조였다고 주장하지만, 이와는 달리 노아의 방주는 항해가 불가능한 설계에 가깝다. 실제로 창조과학에서 주장하는 방주의 크기와 철제 부품을 사용하지 않은 목재 선박 중에서 가장 큰 수준의 선박들을 비교하면 배수량이 두배 이상 차이난다. 그리고 목재 선박은 강도 상의 문제 때문에 통상 길이 100m, 배수량 2000톤 정도가 한계로 여겨져 왔다. 창조과학회에서는 노아의 방주의 안정성을 실험하기 위한 연구가 있다고 주장하기도 하나, 그 자체의 불합리성에 대한 비판을 받고 있으며, 관련 주요 연구자는 지질학 석사학위, 생물학 학사학위를 가진 초등학교 교사로서, 주류 학계의 학회나 저널 등에 발표한 적이 없으며 또한 정당한 피어 리뷰에 의해 검증받지 않았다.\n",
      "정답 :  2000톤\n",
      "예측 :  2000톤 \n",
      "\n",
      "79\n",
      "질문 :  노아의 방주가 안정적인 구조였다고 주장하는 집단은 어디인가?\n",
      "지문 :  창조과학회에서는 또한 노아의 방주가 안정적인 구조였다고 주장하지만, 이와는 달리 노아의 방주는 항해가 불가능한 설계에 가깝다. 실제로 창조과학에서 주장하는 방주의 크기와 철제 부품을 사용하지 않은 목재 선박 중에서 가장 큰 수준의 선박들을 비교하면 배수량이 두배 이상 차이난다. 그리고 목재 선박은 강도 상의 문제 때문에 통상 길이 100m, 배수량 2000톤 정도가 한계로 여겨져 왔다. 창조과학회에서는 노아의 방주의 안정성을 실험하기 위한 연구가 있다고 주장하기도 하나, 그 자체의 불합리성에 대한 비판을 받고 있으며, 관련 주요 연구자는 지질학 석사학위, 생물학 학사학위를 가진 초등학교 교사로서, 주류 학계의 학회나 저널 등에 발표한 적이 없으며 또한 정당한 피어 리뷰에 의해 검증받지 않았다.\n",
      "정답 :  창조과학회\n",
      "예측 :  창조과학회 \n",
      "\n",
      "80\n",
      "질문 :  목재 선박은 강도상의 문제로 통상 길이 몇m가 한계인가?\n",
      "지문 :  창조과학회에서는 또한 노아의 방주가 안정적인 구조였다고 주장하지만, 이와는 달리 노아의 방주는 항해가 불가능한 설계에 가깝다. 실제로 창조과학에서 주장하는 방주의 크기와 철제 부품을 사용하지 않은 목재 선박 중에서 가장 큰 수준의 선박들을 비교하면 배수량이 두배 이상 차이난다. 그리고 목재 선박은 강도 상의 문제 때문에 통상 길이 100m, 배수량 2000톤 정도가 한계로 여겨져 왔다. 창조과학회에서는 노아의 방주의 안정성을 실험하기 위한 연구가 있다고 주장하기도 하나, 그 자체의 불합리성에 대한 비판을 받고 있으며, 관련 주요 연구자는 지질학 석사학위, 생물학 학사학위를 가진 초등학교 교사로서, 주류 학계의 학회나 저널 등에 발표한 적이 없으며 또한 정당한 피어 리뷰에 의해 검증받지 않았다.\n",
      "정답 :  100m\n",
      "예측 :  100m \n",
      "\n",
      "81\n",
      "질문 :  노아의 방주 안정성을 실험하기 위한 연구가 있다고 주장하는 단체는?\n",
      "지문 :  창조과학회에서는 또한 노아의 방주가 안정적인 구조였다고 주장하지만, 이와는 달리 노아의 방주는 항해가 불가능한 설계에 가깝다. 실제로 창조과학에서 주장하는 방주의 크기와 철제 부품을 사용하지 않은 목재 선박 중에서 가장 큰 수준의 선박들을 비교하면 배수량이 두배 이상 차이난다. 그리고 목재 선박은 강도 상의 문제 때문에 통상 길이 100m, 배수량 2000톤 정도가 한계로 여겨져 왔다. 창조과학회에서는 노아의 방주의 안정성을 실험하기 위한 연구가 있다고 주장하기도 하나, 그 자체의 불합리성에 대한 비판을 받고 있으며, 관련 주요 연구자는 지질학 석사학위, 생물학 학사학위를 가진 초등학교 교사로서, 주류 학계의 학회나 저널 등에 발표한 적이 없으며 또한 정당한 피어 리뷰에 의해 검증받지 않았다.\n",
      "정답 :  창조과학회\n",
      "예측 :  창조과학회 \n",
      "\n",
      "83\n",
      "질문 :  목재로 만들어진 선박은 강도 상의 통상 길이 몇m가 한계인가?\n",
      "지문 :  창조과학회에서는 또한 노아의 방주가 안정적인 구조였다고 주장하지만, 이와는 달리 노아의 방주는 항해가 불가능한 설계에 가깝다. 실제로 창조과학에서 주장하는 방주의 크기와 철제 부품을 사용하지 않은 목재 선박 중에서 가장 큰 수준의 선박들을 비교하면 배수량이 두배 이상 차이난다. 그리고 목재 선박은 강도 상의 문제 때문에 통상 길이 100m, 배수량 2000톤 정도가 한계로 여겨져 왔다. 창조과학회에서는 노아의 방주의 안정성을 실험하기 위한 연구가 있다고 주장하기도 하나, 그 자체의 불합리성에 대한 비판을 받고 있으며, 관련 주요 연구자는 지질학 석사학위, 생물학 학사학위를 가진 초등학교 교사로서, 주류 학계의 학회나 저널 등에 발표한 적이 없으며 또한 정당한 피어 리뷰에 의해 검증받지 않았다.\n",
      "정답 :  100m\n",
      "예측 :  100m \n",
      "\n",
      "84\n",
      "질문 :  목재 선박의 배수량 한계는?\n",
      "지문 :  창조과학회에서는 또한 노아의 방주가 안정적인 구조였다고 주장하지만, 이와는 달리 노아의 방주는 항해가 불가능한 설계에 가깝다. 실제로 창조과학에서 주장하는 방주의 크기와 철제 부품을 사용하지 않은 목재 선박 중에서 가장 큰 수준의 선박들을 비교하면 배수량이 두배 이상 차이난다. 그리고 목재 선박은 강도 상의 문제 때문에 통상 길이 100m, 배수량 2000톤 정도가 한계로 여겨져 왔다. 창조과학회에서는 노아의 방주의 안정성을 실험하기 위한 연구가 있다고 주장하기도 하나, 그 자체의 불합리성에 대한 비판을 받고 있으며, 관련 주요 연구자는 지질학 석사학위, 생물학 학사학위를 가진 초등학교 교사로서, 주류 학계의 학회나 저널 등에 발표한 적이 없으며 또한 정당한 피어 리뷰에 의해 검증받지 않았다.\n",
      "정답 :  2000톤\n",
      "예측 :  2000톤 \n",
      "\n",
      "89\n",
      "질문 :  군함에 통합되어 실제로 쇼군이 엠퍼러에 첫 좌승한것은 대정봉환 이후 어디에 이송되었을 때인가?\n",
      "지문 :  1868년 게이오 4년 4월 11일 에도 성 무혈 개성을 한 이후 신정부 군에게 양도가 약속되어 있었다. 그러나 해군 부총재, 에노모토 다케아키가 기상 불량 등을 이유로 이를 연기한 후에 결국 인도를 거부했다. 도쿠가와 요시노부를 슨푸 번에 이송할 때의 태운 함선으로 사용한 후, 8월 19일 자정 (20일)에는 마쓰오카 바키치를 함장으로 카이요마루, 가이텐마루, 신소쿠마루, 간린마루 등과 함께 막부 해군이 정박하고 있던 시나가와 해역을 탈출했다. 그 때 태풍에 휘말려 침몰직전이 되었지만, 1개월만에 에노모토 해군과 합류하였다. 에조치에 건너가 하코다테 전쟁에서는 에노모토(하코다테 정부) 해군의 주력함이 되었다. 영국이 기증했을 때 엠퍼러(Emperor, 기증 당시 일본의 수장은 황제가 아니라 쇼군으로 인식되고 있었기 때문에 장군을 지칭)로 명명하고 있음에서 알 수 있듯이, 쇼군용 유람 요트로 기증되었다고 생각되지만, 세상이 그것을 허락하지 않았다. 아이러니하게도, 군함에 통합되어 실제로 쇼군이 첫 좌승한 것이 대정봉환 이후 슨푸 번에 이송되었을 때였다.\n",
      "정답 :  슨푸 번\n",
      "예측 :  슨푸 번에 \n",
      "\n",
      "91\n",
      "질문 :  에노모토 해군인 반류마루가 주력함이 되었던 전쟁은?\n",
      "지문 :  1868년 게이오 4년 4월 11일 에도 성 무혈 개성을 한 이후 신정부 군에게 양도가 약속되어 있었다. 그러나 해군 부총재, 에노모토 다케아키가 기상 불량 등을 이유로 이를 연기한 후에 결국 인도를 거부했다. 도쿠가와 요시노부를 슨푸 번에 이송할 때의 태운 함선으로 사용한 후, 8월 19일 자정 (20일)에는 마쓰오카 바키치를 함장으로 카이요마루, 가이텐마루, 신소쿠마루, 간린마루 등과 함께 막부 해군이 정박하고 있던 시나가와 해역을 탈출했다. 그 때 태풍에 휘말려 침몰직전이 되었지만, 1개월만에 에노모토 해군과 합류하였다. 에조치에 건너가 하코다테 전쟁에서는 에노모토(하코다테 정부) 해군의 주력함이 되었다. 영국이 기증했을 때 엠퍼러(Emperor, 기증 당시 일본의 수장은 황제가 아니라 쇼군으로 인식되고 있었기 때문에 장군을 지칭)로 명명하고 있음에서 알 수 있듯이, 쇼군용 유람 요트로 기증되었다고 생각되지만, 세상이 그것을 허락하지 않았다. 아이러니하게도, 군함에 통합되어 실제로 쇼군이 첫 좌승한 것이 대정봉환 이후 슨푸 번에 이송되었을 때였다.\n",
      "정답 :  하코다테 전쟁\n",
      "예측 :  하코다테 전쟁에서 \n",
      "\n",
      "93\n",
      "질문 :  하코다테 전쟁 시 반류마루의 함장의 이름은 무엇인가?\n",
      "지문 :  일련의 하코다테 전쟁은 적아 쌍방의 문서에 마쓰오카 바키치 함장의 능란한 조함 능력과 냉정한 지휘만이 기록되어 있다. 함포 사격으로 마쓰마에 성을 공격하여 엄호한 이후, 1869년 메이지 2년 3월 25일 미야코 만 해전에서는 폭풍우를 만나 요함과 헤어졌을 때에 만날 약속했던 하치노헤 항에서 대기하고 있었기 때문에 참전에는 이르지 못했다. 이 폭풍우 때도 “함장 마쓰오카 바키치는 배를 조정하는 명수로 로프 하나 손상되지 않았다”고 타고 있던 하야시 다다스가 남긴 바 있다. 이 귀로에서 신정부 군의 철갑함의 추격을 받았다. 기관 능력의 차이로 인한 속도차 때문에 도주가 불가능하다고 판단하고 맞장 공격을 하겠다고 전투 준비를 했지만, 철갑선의 사정거리에 들어간 순간에 순풍이 불기 시작하여 추격을 뿌리치고 하코다테로 돌아올 수 있었다.\n",
      "정답 :  마쓰오카 바키치\n",
      "예측 :  마쓰오카 바키치 \n",
      "\n",
      "94\n",
      "질문 :  반류마루가 미야코 만 해전에서 폭풍우를 만나 대기하고 있던 항구의 이름은 무엇인가?\n",
      "지문 :  일련의 하코다테 전쟁은 적아 쌍방의 문서에 마쓰오카 바키치 함장의 능란한 조함 능력과 냉정한 지휘만이 기록되어 있다. 함포 사격으로 마쓰마에 성을 공격하여 엄호한 이후, 1869년 메이지 2년 3월 25일 미야코 만 해전에서는 폭풍우를 만나 요함과 헤어졌을 때에 만날 약속했던 하치노헤 항에서 대기하고 있었기 때문에 참전에는 이르지 못했다. 이 폭풍우 때도 “함장 마쓰오카 바키치는 배를 조정하는 명수로 로프 하나 손상되지 않았다”고 타고 있던 하야시 다다스가 남긴 바 있다. 이 귀로에서 신정부 군의 철갑함의 추격을 받았다. 기관 능력의 차이로 인한 속도차 때문에 도주가 불가능하다고 판단하고 맞장 공격을 하겠다고 전투 준비를 했지만, 철갑선의 사정거리에 들어간 순간에 순풍이 불기 시작하여 추격을 뿌리치고 하코다테로 돌아올 수 있었다.\n",
      "정답 :  하치노헤\n",
      "예측 :  하치노헤 항 \n",
      "\n",
      "95\n",
      "질문 :  반류마루가 미야코 만 해전당시 폭풍우를 만나 요함과 헤어졌을 때에 만날 약속하여 하치노헤 항에서 대기한 날짜는 언제인가?\n",
      "지문 :  일련의 하코다테 전쟁은 적아 쌍방의 문서에 마쓰오카 바키치 함장의 능란한 조함 능력과 냉정한 지휘만이 기록되어 있다. 함포 사격으로 마쓰마에 성을 공격하여 엄호한 이후, 1869년 메이지 2년 3월 25일 미야코 만 해전에서는 폭풍우를 만나 요함과 헤어졌을 때에 만날 약속했던 하치노헤 항에서 대기하고 있었기 때문에 참전에는 이르지 못했다. 이 폭풍우 때도 “함장 마쓰오카 바키치는 배를 조정하는 명수로 로프 하나 손상되지 않았다”고 타고 있던 하야시 다다스가 남긴 바 있다. 이 귀로에서 신정부 군의 철갑함의 추격을 받았다. 기관 능력의 차이로 인한 속도차 때문에 도주가 불가능하다고 판단하고 맞장 공격을 하겠다고 전투 준비를 했지만, 철갑선의 사정거리에 들어간 순간에 순풍이 불기 시작하여 추격을 뿌리치고 하코다테로 돌아올 수 있었다.\n",
      "정답 :  1869년 메이지 2년 3월 25일\n",
      "예측 :  1869년 메이지 2년 3월 25일 \n",
      "\n"
     ]
    },
    {
     "name": "stdout",
     "output_type": "stream",
     "text": [
      "97\n",
      "질문 :  철갑선의 사정거리에 들어간 순간에 순풍이 불기 시작하여 추격을 뿌리치고 어디로 돌아올 수 있었는가?\n",
      "지문 :  일련의 하코다테 전쟁은 적아 쌍방의 문서에 마쓰오카 바키치 함장의 능란한 조함 능력과 냉정한 지휘만이 기록되어 있다. 함포 사격으로 마쓰마에 성을 공격하여 엄호한 이후, 1869년 메이지 2년 3월 25일 미야코 만 해전에서는 폭풍우를 만나 요함과 헤어졌을 때에 만날 약속했던 하치노헤 항에서 대기하고 있었기 때문에 참전에는 이르지 못했다. 이 폭풍우 때도 “함장 마쓰오카 바키치는 배를 조정하는 명수로 로프 하나 손상되지 않았다”고 타고 있던 하야시 다다스가 남긴 바 있다. 이 귀로에서 신정부 군의 철갑함의 추격을 받았다. 기관 능력의 차이로 인한 속도차 때문에 도주가 불가능하다고 판단하고 맞장 공격을 하겠다고 전투 준비를 했지만, 철갑선의 사정거리에 들어간 순간에 순풍이 불기 시작하여 추격을 뿌리치고 하코다테로 돌아올 수 있었다.\n",
      "정답 :  하코다테\n",
      "예측 :  하코다테 \n",
      "\n",
      "98\n",
      "질문 :  마쓰오카 바키치함장의 능력과 지휘과 기록된 기록되어 남은 전쟁은?\n",
      "지문 :  일련의 하코다테 전쟁은 적아 쌍방의 문서에 마쓰오카 바키치 함장의 능란한 조함 능력과 냉정한 지휘만이 기록되어 있다. 함포 사격으로 마쓰마에 성을 공격하여 엄호한 이후, 1869년 메이지 2년 3월 25일 미야코 만 해전에서는 폭풍우를 만나 요함과 헤어졌을 때에 만날 약속했던 하치노헤 항에서 대기하고 있었기 때문에 참전에는 이르지 못했다. 이 폭풍우 때도 “함장 마쓰오카 바키치는 배를 조정하는 명수로 로프 하나 손상되지 않았다”고 타고 있던 하야시 다다스가 남긴 바 있다. 이 귀로에서 신정부 군의 철갑함의 추격을 받았다. 기관 능력의 차이로 인한 속도차 때문에 도주가 불가능하다고 판단하고 맞장 공격을 하겠다고 전투 준비를 했지만, 철갑선의 사정거리에 들어간 순간에 순풍이 불기 시작하여 추격을 뿌리치고 하코다테로 돌아올 수 있었다.\n",
      "정답 :  하코다테 전쟁\n",
      "예측 :  하코다테 전쟁은 \n",
      "\n",
      "99\n",
      "질문 :  미야코 만 해전에서 아쓰오카 바키치 함장이 폭풍우를 만난 년도는?\n",
      "지문 :  일련의 하코다테 전쟁은 적아 쌍방의 문서에 마쓰오카 바키치 함장의 능란한 조함 능력과 냉정한 지휘만이 기록되어 있다. 함포 사격으로 마쓰마에 성을 공격하여 엄호한 이후, 1869년 메이지 2년 3월 25일 미야코 만 해전에서는 폭풍우를 만나 요함과 헤어졌을 때에 만날 약속했던 하치노헤 항에서 대기하고 있었기 때문에 참전에는 이르지 못했다. 이 폭풍우 때도 “함장 마쓰오카 바키치는 배를 조정하는 명수로 로프 하나 손상되지 않았다”고 타고 있던 하야시 다다스가 남긴 바 있다. 이 귀로에서 신정부 군의 철갑함의 추격을 받았다. 기관 능력의 차이로 인한 속도차 때문에 도주가 불가능하다고 판단하고 맞장 공격을 하겠다고 전투 준비를 했지만, 철갑선의 사정거리에 들어간 순간에 순풍이 불기 시작하여 추격을 뿌리치고 하코다테로 돌아올 수 있었다.\n",
      "정답 :  1869년\n",
      "예측 :  1869년 메이지 2년 \n",
      "\n",
      "100\n",
      "질문 :  마쓰오카 비키치가 철갑선의 추격을 뿌리치고 하코다테로 돌아올 수 있었던 원인은?\n",
      "지문 :  일련의 하코다테 전쟁은 적아 쌍방의 문서에 마쓰오카 바키치 함장의 능란한 조함 능력과 냉정한 지휘만이 기록되어 있다. 함포 사격으로 마쓰마에 성을 공격하여 엄호한 이후, 1869년 메이지 2년 3월 25일 미야코 만 해전에서는 폭풍우를 만나 요함과 헤어졌을 때에 만날 약속했던 하치노헤 항에서 대기하고 있었기 때문에 참전에는 이르지 못했다. 이 폭풍우 때도 “함장 마쓰오카 바키치는 배를 조정하는 명수로 로프 하나 손상되지 않았다”고 타고 있던 하야시 다다스가 남긴 바 있다. 이 귀로에서 신정부 군의 철갑함의 추격을 받았다. 기관 능력의 차이로 인한 속도차 때문에 도주가 불가능하다고 판단하고 맞장 공격을 하겠다고 전투 준비를 했지만, 철갑선의 사정거리에 들어간 순간에 순풍이 불기 시작하여 추격을 뿌리치고 하코다테로 돌아올 수 있었다.\n",
      "정답 :  순풍\n",
      "예측 :  순풍이 불기 \n",
      "\n"
     ]
    }
   ],
   "source": [
    "dev_json = os.path.join(data_dir, \"korquad_dev.json\")\n",
    "\n",
    "with open(dev_json) as f:\n",
    "    for i, line in enumerate(f):\n",
    "        data = json.loads(line)\n",
    "        question = vocab.decode_pieces(data['question'])\n",
    "        context = vocab.decode_pieces(data['context'])\n",
    "        answer = data['answer']\n",
    "        answer_predict = do_predict(model, question, context)\n",
    "        if answer in answer_predict:\n",
    "            print(i)\n",
    "            print(\"질문 : \", question)\n",
    "            print(\"지문 : \", context)\n",
    "            print(\"정답 : \", answer)\n",
    "            print(\"예측 : \", answer_predict, \"\\n\")\n",
    "        if 100 < i:\n",
    "            break"
   ]
  },
  {
   "cell_type": "markdown",
   "id": "secondary-sierra",
   "metadata": {},
   "source": [
    "# Visualiation"
   ]
  },
  {
   "cell_type": "code",
   "execution_count": null,
   "id": "nearby-genre",
   "metadata": {},
   "outputs": [],
   "source": []
  }
 ],
 "metadata": {
  "kernelspec": {
   "display_name": "Python 3",
   "language": "python",
   "name": "python3"
  },
  "language_info": {
   "codemirror_mode": {
    "name": "ipython",
    "version": 3
   },
   "file_extension": ".py",
   "mimetype": "text/x-python",
   "name": "python",
   "nbconvert_exporter": "python",
   "pygments_lexer": "ipython3",
   "version": "3.7.9"
  }
 },
 "nbformat": 4,
 "nbformat_minor": 5
}
